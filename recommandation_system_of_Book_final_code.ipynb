{
  "cells": [
    {
      "cell_type": "code",
      "execution_count": null,
      "metadata": {
        "id": "6XJa33AJHf3Q"
      },
      "outputs": [],
      "source": [
        "import pandas as pd\n",
        "import numpy as np\n",
        "import seaborn as sns\n",
        "import matplotlib.pyplot as plt"
      ]
    },
    {
      "cell_type": "markdown",
      "metadata": {
        "id": "S_HGUKY08EKy"
      },
      "source": [
        "# **Importing dataset**"
      ]
    },
    {
      "cell_type": "code",
      "execution_count": null,
      "metadata": {
        "colab": {
          "base_uri": "https://localhost:8080/"
        },
        "id": "cY0oesJNH9rJ",
        "outputId": "120aafdd-1944-41e4-a37e-16e573215884"
      },
      "outputs": [
        {
          "name": "stderr",
          "output_type": "stream",
          "text": [
            "C:\\Users\\asus\\AppData\\Local\\Temp\\ipykernel_3736\\388633120.py:1: DtypeWarning: Columns (3) have mixed types. Specify dtype option on import or set low_memory=False.\n",
            "  book=pd.read_csv('Books.csv')\n"
          ]
        }
      ],
      "source": [
        "book=pd.read_csv('Books.csv')\n",
        "user=pd.read_csv('Users.csv')\n",
        "rating=pd.read_csv('Ratings.csv')"
      ]
    },
    {
      "cell_type": "code",
      "execution_count": null,
      "metadata": {
        "colab": {
          "base_uri": "https://localhost:8080/"
        },
        "id": "uvQVZ5F3PQLN",
        "outputId": "b64c08d2-f054-4dca-f692-0bfe64d28b15"
      },
      "outputs": [
        {
          "data": {
            "text/html": [
              "<div>\n",
              "<style scoped>\n",
              "    .dataframe tbody tr th:only-of-type {\n",
              "        vertical-align: middle;\n",
              "    }\n",
              "\n",
              "    .dataframe tbody tr th {\n",
              "        vertical-align: top;\n",
              "    }\n",
              "\n",
              "    .dataframe thead th {\n",
              "        text-align: right;\n",
              "    }\n",
              "</style>\n",
              "<table border=\"1\" class=\"dataframe\">\n",
              "  <thead>\n",
              "    <tr style=\"text-align: right;\">\n",
              "      <th></th>\n",
              "      <th>ISBN</th>\n",
              "      <th>Book-Title</th>\n",
              "      <th>Book-Author</th>\n",
              "      <th>Year-Of-Publication</th>\n",
              "      <th>Publisher</th>\n",
              "      <th>Image-URL-S</th>\n",
              "      <th>Image-URL-M</th>\n",
              "      <th>Image-URL-L</th>\n",
              "    </tr>\n",
              "  </thead>\n",
              "  <tbody>\n",
              "    <tr>\n",
              "      <th>0</th>\n",
              "      <td>0195153448</td>\n",
              "      <td>Classical Mythology</td>\n",
              "      <td>Mark P. O. Morford</td>\n",
              "      <td>2002</td>\n",
              "      <td>Oxford University Press</td>\n",
              "      <td>http://images.amazon.com/images/P/0195153448.0...</td>\n",
              "      <td>http://images.amazon.com/images/P/0195153448.0...</td>\n",
              "      <td>http://images.amazon.com/images/P/0195153448.0...</td>\n",
              "    </tr>\n",
              "    <tr>\n",
              "      <th>1</th>\n",
              "      <td>0002005018</td>\n",
              "      <td>Clara Callan</td>\n",
              "      <td>Richard Bruce Wright</td>\n",
              "      <td>2001</td>\n",
              "      <td>HarperFlamingo Canada</td>\n",
              "      <td>http://images.amazon.com/images/P/0002005018.0...</td>\n",
              "      <td>http://images.amazon.com/images/P/0002005018.0...</td>\n",
              "      <td>http://images.amazon.com/images/P/0002005018.0...</td>\n",
              "    </tr>\n",
              "    <tr>\n",
              "      <th>2</th>\n",
              "      <td>0060973129</td>\n",
              "      <td>Decision in Normandy</td>\n",
              "      <td>Carlo D'Este</td>\n",
              "      <td>1991</td>\n",
              "      <td>HarperPerennial</td>\n",
              "      <td>http://images.amazon.com/images/P/0060973129.0...</td>\n",
              "      <td>http://images.amazon.com/images/P/0060973129.0...</td>\n",
              "      <td>http://images.amazon.com/images/P/0060973129.0...</td>\n",
              "    </tr>\n",
              "    <tr>\n",
              "      <th>3</th>\n",
              "      <td>0374157065</td>\n",
              "      <td>Flu: The Story of the Great Influenza Pandemic...</td>\n",
              "      <td>Gina Bari Kolata</td>\n",
              "      <td>1999</td>\n",
              "      <td>Farrar Straus Giroux</td>\n",
              "      <td>http://images.amazon.com/images/P/0374157065.0...</td>\n",
              "      <td>http://images.amazon.com/images/P/0374157065.0...</td>\n",
              "      <td>http://images.amazon.com/images/P/0374157065.0...</td>\n",
              "    </tr>\n",
              "    <tr>\n",
              "      <th>4</th>\n",
              "      <td>0393045218</td>\n",
              "      <td>The Mummies of Urumchi</td>\n",
              "      <td>E. J. W. Barber</td>\n",
              "      <td>1999</td>\n",
              "      <td>W. W. Norton &amp;amp; Company</td>\n",
              "      <td>http://images.amazon.com/images/P/0393045218.0...</td>\n",
              "      <td>http://images.amazon.com/images/P/0393045218.0...</td>\n",
              "      <td>http://images.amazon.com/images/P/0393045218.0...</td>\n",
              "    </tr>\n",
              "  </tbody>\n",
              "</table>\n",
              "</div>"
            ],
            "text/plain": [
              "         ISBN                                         Book-Title  \\\n",
              "0  0195153448                                Classical Mythology   \n",
              "1  0002005018                                       Clara Callan   \n",
              "2  0060973129                               Decision in Normandy   \n",
              "3  0374157065  Flu: The Story of the Great Influenza Pandemic...   \n",
              "4  0393045218                             The Mummies of Urumchi   \n",
              "\n",
              "            Book-Author Year-Of-Publication                   Publisher  \\\n",
              "0    Mark P. O. Morford                2002     Oxford University Press   \n",
              "1  Richard Bruce Wright                2001       HarperFlamingo Canada   \n",
              "2          Carlo D'Este                1991             HarperPerennial   \n",
              "3      Gina Bari Kolata                1999        Farrar Straus Giroux   \n",
              "4       E. J. W. Barber                1999  W. W. Norton &amp; Company   \n",
              "\n",
              "                                         Image-URL-S  \\\n",
              "0  http://images.amazon.com/images/P/0195153448.0...   \n",
              "1  http://images.amazon.com/images/P/0002005018.0...   \n",
              "2  http://images.amazon.com/images/P/0060973129.0...   \n",
              "3  http://images.amazon.com/images/P/0374157065.0...   \n",
              "4  http://images.amazon.com/images/P/0393045218.0...   \n",
              "\n",
              "                                         Image-URL-M  \\\n",
              "0  http://images.amazon.com/images/P/0195153448.0...   \n",
              "1  http://images.amazon.com/images/P/0002005018.0...   \n",
              "2  http://images.amazon.com/images/P/0060973129.0...   \n",
              "3  http://images.amazon.com/images/P/0374157065.0...   \n",
              "4  http://images.amazon.com/images/P/0393045218.0...   \n",
              "\n",
              "                                         Image-URL-L  \n",
              "0  http://images.amazon.com/images/P/0195153448.0...  \n",
              "1  http://images.amazon.com/images/P/0002005018.0...  \n",
              "2  http://images.amazon.com/images/P/0060973129.0...  \n",
              "3  http://images.amazon.com/images/P/0374157065.0...  \n",
              "4  http://images.amazon.com/images/P/0393045218.0...  "
            ]
          },
          "execution_count": 3,
          "metadata": {},
          "output_type": "execute_result"
        }
      ],
      "source": [
        "book.head()"
      ]
    },
    {
      "cell_type": "code",
      "execution_count": null,
      "metadata": {
        "colab": {
          "base_uri": "https://localhost:8080/"
        },
        "id": "Sfqtpt3T8coT",
        "outputId": "a3abdc9d-d0d1-407a-fd51-2eae2b67f356"
      },
      "outputs": [
        {
          "data": {
            "text/html": [
              "<div>\n",
              "<style scoped>\n",
              "    .dataframe tbody tr th:only-of-type {\n",
              "        vertical-align: middle;\n",
              "    }\n",
              "\n",
              "    .dataframe tbody tr th {\n",
              "        vertical-align: top;\n",
              "    }\n",
              "\n",
              "    .dataframe thead th {\n",
              "        text-align: right;\n",
              "    }\n",
              "</style>\n",
              "<table border=\"1\" class=\"dataframe\">\n",
              "  <thead>\n",
              "    <tr style=\"text-align: right;\">\n",
              "      <th></th>\n",
              "      <th>User-ID</th>\n",
              "      <th>Location</th>\n",
              "      <th>Age</th>\n",
              "    </tr>\n",
              "  </thead>\n",
              "  <tbody>\n",
              "    <tr>\n",
              "      <th>0</th>\n",
              "      <td>1</td>\n",
              "      <td>nyc, new york, usa</td>\n",
              "      <td>NaN</td>\n",
              "    </tr>\n",
              "    <tr>\n",
              "      <th>1</th>\n",
              "      <td>2</td>\n",
              "      <td>stockton, california, usa</td>\n",
              "      <td>18.0</td>\n",
              "    </tr>\n",
              "    <tr>\n",
              "      <th>2</th>\n",
              "      <td>3</td>\n",
              "      <td>moscow, yukon territory, russia</td>\n",
              "      <td>NaN</td>\n",
              "    </tr>\n",
              "    <tr>\n",
              "      <th>3</th>\n",
              "      <td>4</td>\n",
              "      <td>porto, v.n.gaia, portugal</td>\n",
              "      <td>17.0</td>\n",
              "    </tr>\n",
              "    <tr>\n",
              "      <th>4</th>\n",
              "      <td>5</td>\n",
              "      <td>farnborough, hants, united kingdom</td>\n",
              "      <td>NaN</td>\n",
              "    </tr>\n",
              "  </tbody>\n",
              "</table>\n",
              "</div>"
            ],
            "text/plain": [
              "   User-ID                            Location   Age\n",
              "0        1                  nyc, new york, usa   NaN\n",
              "1        2           stockton, california, usa  18.0\n",
              "2        3     moscow, yukon territory, russia   NaN\n",
              "3        4           porto, v.n.gaia, portugal  17.0\n",
              "4        5  farnborough, hants, united kingdom   NaN"
            ]
          },
          "execution_count": 4,
          "metadata": {},
          "output_type": "execute_result"
        }
      ],
      "source": [
        "user.head()"
      ]
    },
    {
      "cell_type": "code",
      "execution_count": null,
      "metadata": {
        "colab": {
          "base_uri": "https://localhost:8080/"
        },
        "id": "hH_nY3h78d-A",
        "outputId": "368babec-3247-4563-c312-2ad96fffc511"
      },
      "outputs": [
        {
          "data": {
            "text/html": [
              "<div>\n",
              "<style scoped>\n",
              "    .dataframe tbody tr th:only-of-type {\n",
              "        vertical-align: middle;\n",
              "    }\n",
              "\n",
              "    .dataframe tbody tr th {\n",
              "        vertical-align: top;\n",
              "    }\n",
              "\n",
              "    .dataframe thead th {\n",
              "        text-align: right;\n",
              "    }\n",
              "</style>\n",
              "<table border=\"1\" class=\"dataframe\">\n",
              "  <thead>\n",
              "    <tr style=\"text-align: right;\">\n",
              "      <th></th>\n",
              "      <th>User-ID</th>\n",
              "      <th>ISBN</th>\n",
              "      <th>Book-Rating</th>\n",
              "    </tr>\n",
              "  </thead>\n",
              "  <tbody>\n",
              "    <tr>\n",
              "      <th>0</th>\n",
              "      <td>276725</td>\n",
              "      <td>034545104X</td>\n",
              "      <td>0</td>\n",
              "    </tr>\n",
              "    <tr>\n",
              "      <th>1</th>\n",
              "      <td>276726</td>\n",
              "      <td>0155061224</td>\n",
              "      <td>5</td>\n",
              "    </tr>\n",
              "    <tr>\n",
              "      <th>2</th>\n",
              "      <td>276727</td>\n",
              "      <td>0446520802</td>\n",
              "      <td>0</td>\n",
              "    </tr>\n",
              "    <tr>\n",
              "      <th>3</th>\n",
              "      <td>276729</td>\n",
              "      <td>052165615X</td>\n",
              "      <td>3</td>\n",
              "    </tr>\n",
              "    <tr>\n",
              "      <th>4</th>\n",
              "      <td>276729</td>\n",
              "      <td>0521795028</td>\n",
              "      <td>6</td>\n",
              "    </tr>\n",
              "  </tbody>\n",
              "</table>\n",
              "</div>"
            ],
            "text/plain": [
              "   User-ID        ISBN  Book-Rating\n",
              "0   276725  034545104X            0\n",
              "1   276726  0155061224            5\n",
              "2   276727  0446520802            0\n",
              "3   276729  052165615X            3\n",
              "4   276729  0521795028            6"
            ]
          },
          "execution_count": 5,
          "metadata": {},
          "output_type": "execute_result"
        }
      ],
      "source": [
        "rating.head()"
      ]
    },
    {
      "cell_type": "markdown",
      "metadata": {
        "id": "oPpONdKPCVDV"
      },
      "source": [
        "# EDA"
      ]
    },
    {
      "cell_type": "markdown",
      "metadata": {
        "id": "uzLmzlkb8iOp"
      },
      "source": [
        "**Info**"
      ]
    },
    {
      "cell_type": "code",
      "execution_count": null,
      "metadata": {
        "colab": {
          "base_uri": "https://localhost:8080/"
        },
        "id": "IK2NABOD8lkG",
        "outputId": "9ba5a5cb-c36c-4efa-c97d-3c528d237dc6"
      },
      "outputs": [
        {
          "name": "stdout",
          "output_type": "stream",
          "text": [
            "<class 'pandas.core.frame.DataFrame'>\n",
            "RangeIndex: 278858 entries, 0 to 278857\n",
            "Data columns (total 3 columns):\n",
            " #   Column    Non-Null Count   Dtype  \n",
            "---  ------    --------------   -----  \n",
            " 0   User-ID   278858 non-null  int64  \n",
            " 1   Location  278858 non-null  object \n",
            " 2   Age       168096 non-null  float64\n",
            "dtypes: float64(1), int64(1), object(1)\n",
            "memory usage: 6.4+ MB\n"
          ]
        }
      ],
      "source": [
        "user.info()"
      ]
    },
    {
      "cell_type": "code",
      "execution_count": null,
      "metadata": {
        "colab": {
          "base_uri": "https://localhost:8080/"
        },
        "id": "_wlKiSLc8nVA",
        "outputId": "a30e0f50-086c-4696-ddbf-c93a9ccf4ebe"
      },
      "outputs": [
        {
          "name": "stdout",
          "output_type": "stream",
          "text": [
            "<class 'pandas.core.frame.DataFrame'>\n",
            "RangeIndex: 1149780 entries, 0 to 1149779\n",
            "Data columns (total 3 columns):\n",
            " #   Column       Non-Null Count    Dtype \n",
            "---  ------       --------------    ----- \n",
            " 0   User-ID      1149780 non-null  int64 \n",
            " 1   ISBN         1149780 non-null  object\n",
            " 2   Book-Rating  1149780 non-null  int64 \n",
            "dtypes: int64(2), object(1)\n",
            "memory usage: 26.3+ MB\n"
          ]
        }
      ],
      "source": [
        "rating.info()"
      ]
    },
    {
      "cell_type": "code",
      "execution_count": null,
      "metadata": {
        "colab": {
          "base_uri": "https://localhost:8080/"
        },
        "id": "Whvtgwua8o4O",
        "outputId": "a40ba5ad-9fc7-4e90-a6a5-c42884b98341"
      },
      "outputs": [
        {
          "name": "stdout",
          "output_type": "stream",
          "text": [
            "<class 'pandas.core.frame.DataFrame'>\n",
            "RangeIndex: 271360 entries, 0 to 271359\n",
            "Data columns (total 8 columns):\n",
            " #   Column               Non-Null Count   Dtype \n",
            "---  ------               --------------   ----- \n",
            " 0   ISBN                 271360 non-null  object\n",
            " 1   Book-Title           271360 non-null  object\n",
            " 2   Book-Author          271359 non-null  object\n",
            " 3   Year-Of-Publication  271360 non-null  object\n",
            " 4   Publisher            271358 non-null  object\n",
            " 5   Image-URL-S          271360 non-null  object\n",
            " 6   Image-URL-M          271360 non-null  object\n",
            " 7   Image-URL-L          271357 non-null  object\n",
            "dtypes: object(8)\n",
            "memory usage: 16.6+ MB\n"
          ]
        }
      ],
      "source": [
        "book.info()"
      ]
    },
    {
      "cell_type": "markdown",
      "metadata": {
        "id": "FC-EoZdb9e8J"
      },
      "source": [
        "**Shape of the data set**"
      ]
    },
    {
      "cell_type": "code",
      "execution_count": null,
      "metadata": {
        "colab": {
          "base_uri": "https://localhost:8080/"
        },
        "id": "VX7ZdCgw9esM",
        "outputId": "b6a8780f-f8a4-420d-88fe-f4a34e71cf11"
      },
      "outputs": [
        {
          "name": "stdout",
          "output_type": "stream",
          "text": [
            "books = (271360, 8)\n",
            "user = (278858, 3)\n",
            "ratings = (1149780, 3)\n"
          ]
        }
      ],
      "source": [
        "print('books =',book.shape)\n",
        "print('user =',user.shape)\n",
        "print('ratings =',rating.shape)"
      ]
    },
    {
      "cell_type": "markdown",
      "metadata": {
        "id": "bXcKgkfl907L"
      },
      "source": [
        "**Duplicate values**"
      ]
    },
    {
      "cell_type": "code",
      "execution_count": null,
      "metadata": {
        "colab": {
          "base_uri": "https://localhost:8080/"
        },
        "id": "QI2ZNhnG93Ac",
        "outputId": "aeafa013-1482-4080-9803-38f0e292a83e"
      },
      "outputs": [
        {
          "data": {
            "text/plain": [
              "0"
            ]
          },
          "execution_count": 10,
          "metadata": {},
          "output_type": "execute_result"
        }
      ],
      "source": [
        "#Books data set\n",
        "book.duplicated().sum()"
      ]
    },
    {
      "cell_type": "code",
      "execution_count": null,
      "metadata": {
        "colab": {
          "base_uri": "https://localhost:8080/"
        },
        "id": "Qs4g6KyF983N",
        "outputId": "33f91907-2a01-498f-a54b-d5f621ef0a4c"
      },
      "outputs": [
        {
          "data": {
            "text/plain": [
              "0"
            ]
          },
          "execution_count": 11,
          "metadata": {},
          "output_type": "execute_result"
        }
      ],
      "source": [
        "#user data set\n",
        "user.duplicated().sum()"
      ]
    },
    {
      "cell_type": "code",
      "execution_count": null,
      "metadata": {
        "colab": {
          "base_uri": "https://localhost:8080/"
        },
        "id": "gqB_yD1Z-AbH",
        "outputId": "c21588ea-08d3-44db-e450-2cfb599e345e"
      },
      "outputs": [
        {
          "data": {
            "text/plain": [
              "0"
            ]
          },
          "execution_count": 12,
          "metadata": {},
          "output_type": "execute_result"
        }
      ],
      "source": [
        "#rating data set\n",
        "rating.duplicated().sum()"
      ]
    },
    {
      "cell_type": "markdown",
      "metadata": {
        "id": "3iqlg2Qe-Nxj"
      },
      "source": [
        "**Null values**"
      ]
    },
    {
      "cell_type": "code",
      "execution_count": null,
      "metadata": {
        "colab": {
          "base_uri": "https://localhost:8080/"
        },
        "id": "8-CDaUVg-Pni",
        "outputId": "4fcb2999-d381-4aff-9c6c-a1aea042eea7"
      },
      "outputs": [
        {
          "data": {
            "text/plain": [
              "ISBN                   0\n",
              "Book-Title             0\n",
              "Book-Author            1\n",
              "Year-Of-Publication    0\n",
              "Publisher              2\n",
              "Image-URL-S            0\n",
              "Image-URL-M            0\n",
              "Image-URL-L            3\n",
              "dtype: int64"
            ]
          },
          "execution_count": 13,
          "metadata": {},
          "output_type": "execute_result"
        }
      ],
      "source": [
        "#books data set\n",
        "book.isnull().sum()"
      ]
    },
    {
      "cell_type": "code",
      "execution_count": null,
      "metadata": {
        "colab": {
          "base_uri": "https://localhost:8080/",
          "height": 697
        },
        "id": "yt6-bmCO-XfV",
        "outputId": "f70b19b9-c7c5-4a09-e5b4-6a1f8545a233"
      },
      "outputs": [
        {
          "data": {
            "text/plain": [
              "<AxesSubplot:>"
            ]
          },
          "execution_count": 14,
          "metadata": {},
          "output_type": "execute_result"
        },
        {
          "data": {
            "image/png": "[encoded data removed]",
            "text/plain": [
              "<Figure size 720x720 with 2 Axes>"
            ]
          },
          "metadata": {
            "needs_background": "light"
          },
          "output_type": "display_data"
        }
      ],
      "source": [
        "plt.figure(figsize=(10,10))\n",
        "sns.heatmap(book.isnull(),cmap='viridis')"
      ]
    },
    {
      "cell_type": "code",
      "execution_count": null,
      "metadata": {
        "colab": {
          "base_uri": "https://localhost:8080/"
        },
        "id": "fmfAlMIk-SFz",
        "outputId": "7f6324e1-5f46-4a7a-cf2a-47d84d2dca94"
      },
      "outputs": [
        {
          "data": {
            "text/plain": [
              "User-ID          0\n",
              "Location         0\n",
              "Age         110762\n",
              "dtype: int64"
            ]
          },
          "execution_count": 15,
          "metadata": {},
          "output_type": "execute_result"
        }
      ],
      "source": [
        "#user data set\n",
        "user.isnull().sum()"
      ]
    },
    {
      "cell_type": "code",
      "execution_count": null,
      "metadata": {
        "colab": {
          "base_uri": "https://localhost:8080/",
          "height": 613
        },
        "id": "yOM1upVu-18U",
        "outputId": "f39c5436-4453-4a58-f6f2-5065b2d08227"
      },
      "outputs": [
        {
          "data": {
            "text/plain": [
              "<AxesSubplot:>"
            ]
          },
          "execution_count": 16,
          "metadata": {},
          "output_type": "execute_result"
        },
        {
          "data": {
            "image/png": "[encoded data removed]",
            "text/plain": [
              "<Figure size 720x720 with 2 Axes>"
            ]
          },
          "metadata": {
            "needs_background": "light"
          },
          "output_type": "display_data"
        }
      ],
      "source": [
        "plt.figure(figsize=(10,10))\n",
        "sns.heatmap(user.isnull(),cmap='viridis')"
      ]
    },
    {
      "cell_type": "code",
      "execution_count": null,
      "metadata": {
        "colab": {
          "base_uri": "https://localhost:8080/"
        },
        "id": "jOz6GuTh_JFo",
        "outputId": "b87be7ed-5203-4bd3-f85f-40b34d978f0f"
      },
      "outputs": [
        {
          "data": {
            "text/plain": [
              "User-ID        0\n",
              "ISBN           0\n",
              "Book-Rating    0\n",
              "dtype: int64"
            ]
          },
          "execution_count": 17,
          "metadata": {},
          "output_type": "execute_result"
        }
      ],
      "source": [
        "#Rating data set\n",
        "rating.isnull().sum()"
      ]
    },
    {
      "cell_type": "code",
      "execution_count": null,
      "metadata": {
        "colab": {
          "base_uri": "https://localhost:8080/",
          "height": 613
        },
        "id": "u3XdEGU-_L8o",
        "outputId": "4ce7b8e4-ed9f-4a20-f502-f6d8ead3b06b"
      },
      "outputs": [
        {
          "data": {
            "text/plain": [
              "<AxesSubplot:>"
            ]
          },
          "execution_count": 18,
          "metadata": {},
          "output_type": "execute_result"
        },
        {
          "data": {
            "image/png": "[encoded data removed]",
            "text/plain": [
              "<Figure size 720x720 with 2 Axes>"
            ]
          },
          "metadata": {
            "needs_background": "light"
          },
          "output_type": "display_data"
        }
      ],
      "source": [
        "plt.figure(figsize=(10,10))\n",
        "sns.heatmap(rating.isnull(),cmap='viridis')"
      ]
    },
    {
      "cell_type": "code",
      "execution_count": null,
      "metadata": {
        "colab": {
          "base_uri": "https://localhost:8080/"
        },
        "id": "N-sfgf9rBK2v",
        "outputId": "50c20a84-2670-4030-8033-906868e8922e"
      },
      "outputs": [
        {
          "data": {
            "text/plain": [
              "242135"
            ]
          },
          "execution_count": 19,
          "metadata": {},
          "output_type": "execute_result"
        }
      ],
      "source": [
        "#No of unique books in the data set\n",
        "len(book['Book-Title'].unique())"
      ]
    },
    {
      "cell_type": "code",
      "execution_count": null,
      "metadata": {
        "colab": {
          "base_uri": "https://localhost:8080/"
        },
        "id": "gWAqT3j8C1lM",
        "outputId": "f042d246-1bbc-41c0-f935-c6825769762d"
      },
      "outputs": [
        {
          "data": {
            "text/plain": [
              "102024"
            ]
          },
          "execution_count": 20,
          "metadata": {},
          "output_type": "execute_result"
        }
      ],
      "source": [
        "#No of unique author \n",
        "len(book['Book-Author'].unique())"
      ]
    },
    {
      "cell_type": "code",
      "execution_count": null,
      "metadata": {
        "colab": {
          "base_uri": "https://localhost:8080/"
        },
        "id": "GApXjAzxDEmw",
        "outputId": "3f125ad2-2c54-4c66-8631-1004b20f68fe"
      },
      "outputs": [
        {
          "data": {
            "text/plain": [
              "16808"
            ]
          },
          "execution_count": 21,
          "metadata": {},
          "output_type": "execute_result"
        }
      ],
      "source": [
        "#Number of unique publishers\n",
        "len(book['Publisher'].unique())"
      ]
    },
    {
      "cell_type": "code",
      "execution_count": null,
      "metadata": {
        "colab": {
          "base_uri": "https://localhost:8080/",
          "height": 206
        },
        "id": "lFmJXY5YUWp2",
        "outputId": "ac2f9c43-8b5b-44b2-9074-be50833c2696"
      },
      "outputs": [
        {
          "data": {
            "text/html": [
              "<div>\n",
              "<style scoped>\n",
              "    .dataframe tbody tr th:only-of-type {\n",
              "        vertical-align: middle;\n",
              "    }\n",
              "\n",
              "    .dataframe tbody tr th {\n",
              "        vertical-align: top;\n",
              "    }\n",
              "\n",
              "    .dataframe thead th {\n",
              "        text-align: right;\n",
              "    }\n",
              "</style>\n",
              "<table border=\"1\" class=\"dataframe\">\n",
              "  <thead>\n",
              "    <tr style=\"text-align: right;\">\n",
              "      <th></th>\n",
              "      <th>User-ID</th>\n",
              "      <th>Location</th>\n",
              "      <th>Age</th>\n",
              "    </tr>\n",
              "  </thead>\n",
              "  <tbody>\n",
              "    <tr>\n",
              "      <th>0</th>\n",
              "      <td>1</td>\n",
              "      <td>nyc, new york, usa</td>\n",
              "      <td>NaN</td>\n",
              "    </tr>\n",
              "    <tr>\n",
              "      <th>1</th>\n",
              "      <td>2</td>\n",
              "      <td>stockton, california, usa</td>\n",
              "      <td>18.0</td>\n",
              "    </tr>\n",
              "    <tr>\n",
              "      <th>2</th>\n",
              "      <td>3</td>\n",
              "      <td>moscow, yukon territory, russia</td>\n",
              "      <td>NaN</td>\n",
              "    </tr>\n",
              "    <tr>\n",
              "      <th>3</th>\n",
              "      <td>4</td>\n",
              "      <td>porto, v.n.gaia, portugal</td>\n",
              "      <td>17.0</td>\n",
              "    </tr>\n",
              "    <tr>\n",
              "      <th>4</th>\n",
              "      <td>5</td>\n",
              "      <td>farnborough, hants, united kingdom</td>\n",
              "      <td>NaN</td>\n",
              "    </tr>\n",
              "  </tbody>\n",
              "</table>\n",
              "</div>"
            ],
            "text/plain": [
              "   User-ID                            Location   Age\n",
              "0        1                  nyc, new york, usa   NaN\n",
              "1        2           stockton, california, usa  18.0\n",
              "2        3     moscow, yukon territory, russia   NaN\n",
              "3        4           porto, v.n.gaia, portugal  17.0\n",
              "4        5  farnborough, hants, united kingdom   NaN"
            ]
          },
          "execution_count": 22,
          "metadata": {},
          "output_type": "execute_result"
        }
      ],
      "source": [
        "user.head()"
      ]
    },
    {
      "cell_type": "markdown",
      "metadata": {
        "id": "lLyQkeeq3y9R"
      },
      "source": [
        "**Transformations**"
      ]
    },
    {
      "cell_type": "code",
      "execution_count": null,
      "metadata": {
        "id": "K8inTRIR8-AP"
      },
      "outputs": [],
      "source": [
        "user['country']=user['Location'].map(lambda x:x.split(',')[-1])  #Extracting country"
      ]
    },
    {
      "cell_type": "markdown",
      "metadata": {
        "id": "kH97roG7AGQU"
      },
      "source": [
        "**Merging data set**"
      ]
    },
    {
      "cell_type": "code",
      "execution_count": null,
      "metadata": {
        "id": "N35X-fDeAQo0"
      },
      "outputs": [],
      "source": [
        "book_rating=book.merge(rating,on='ISBN',how='inner')  #"
      ]
    },
    {
      "cell_type": "code",
      "execution_count": null,
      "metadata": {
        "id": "BJbpVaRb_5oc"
      },
      "outputs": [],
      "source": [
        "final_data=book_rating.merge(user,on='User-ID',how='inner')"
      ]
    },
    {
      "cell_type": "code",
      "execution_count": null,
      "metadata": {
        "colab": {
          "base_uri": "https://localhost:8080/",
          "height": 351
        },
        "id": "AK7aruOc4pqS",
        "outputId": "83be3c15-1b15-4511-8e19-3ce9b05191ee"
      },
      "outputs": [
        {
          "name": "stderr",
          "output_type": "stream",
          "text": [
            "D:\\anaconda\\lib\\site-packages\\seaborn\\distributions.py:2619: FutureWarning: `distplot` is a deprecated function and will be removed in a future version. Please adapt your code to use either `displot` (a figure-level function with similar flexibility) or `histplot` (an axes-level function for histograms).\n",
            "  warnings.warn(msg, FutureWarning)\n"
          ]
        },
        {
          "data": {
            "text/plain": [
              "<AxesSubplot:xlabel='Age', ylabel='Density'>"
            ]
          },
          "execution_count": 26,
          "metadata": {},
          "output_type": "execute_result"
        },
        {
          "data": {
            "image/png": "[encoded data removed]",
            "text/plain": [
              "<Figure size 432x288 with 1 Axes>"
            ]
          },
          "metadata": {
            "needs_background": "light"
          },
          "output_type": "display_data"
        }
      ],
      "source": [
        "#Distribution plot of age Gives us an idea of majority reader's age\n",
        "sns.distplot(final_data['Age'])"
      ]
    },
    {
      "cell_type": "code",
      "execution_count": null,
      "metadata": {
        "colab": {
          "base_uri": "https://localhost:8080/",
          "height": 678
        },
        "id": "gSBb-18Z_VDg",
        "outputId": "f86d9d00-050d-44a7-c3ba-cab6d333aac4"
      },
      "outputs": [
        {
          "name": "stderr",
          "output_type": "stream",
          "text": [
            "D:\\anaconda\\lib\\site-packages\\seaborn\\_decorators.py:36: FutureWarning: Pass the following variable as a keyword arg: x. From version 0.12, the only valid positional argument will be `data`, and passing other arguments without an explicit keyword will result in an error or misinterpretation.\n",
            "  warnings.warn(\n"
          ]
        },
        {
          "data": {
            "text/plain": [
              "<AxesSubplot:xlabel='Age'>"
            ]
          },
          "execution_count": 27,
          "metadata": {},
          "output_type": "execute_result"
        },
        {
          "data": {
            "image/png": "[encoded data removed]",
            "text/plain": [
              "<Figure size 720x720 with 1 Axes>"
            ]
          },
          "metadata": {
            "needs_background": "light"
          },
          "output_type": "display_data"
        }
      ],
      "source": [
        "#Box plot for age column\n",
        "plt.figure(figsize=(10,10))\n",
        "sns.boxplot(final_data['Age'])"
      ]
    },
    {
      "cell_type": "code",
      "execution_count": null,
      "metadata": {
        "colab": {
          "base_uri": "https://localhost:8080/",
          "height": 678
        },
        "id": "RQEF47amBlJl",
        "outputId": "a94ac407-ca65-492b-ebf7-e4d49e1d00b3"
      },
      "outputs": [
        {
          "name": "stderr",
          "output_type": "stream",
          "text": [
            "D:\\anaconda\\lib\\site-packages\\seaborn\\_decorators.py:36: FutureWarning: Pass the following variable as a keyword arg: x. From version 0.12, the only valid positional argument will be `data`, and passing other arguments without an explicit keyword will result in an error or misinterpretation.\n",
            "  warnings.warn(\n"
          ]
        },
        {
          "data": {
            "text/plain": [
              "<AxesSubplot:xlabel='Age'>"
            ]
          },
          "execution_count": 28,
          "metadata": {},
          "output_type": "execute_result"
        },
        {
          "data": {
            "image/png": "[encoded data removed]",
            "text/plain": [
              "<Figure size 720x720 with 1 Axes>"
            ]
          },
          "metadata": {
            "needs_background": "light"
          },
          "output_type": "display_data"
        }
      ],
      "source": [
        "#Box plot for age column\n",
        "plt.figure(figsize=(10,10))\n",
        "sns.boxplot(final_data['Age'])"
      ]
    },
    {
      "cell_type": "code",
      "execution_count": null,
      "metadata": {
        "colab": {
          "base_uri": "https://localhost:8080/",
          "height": 406
        },
        "id": "uTfdznCaSsCm",
        "outputId": "80275cc0-d27b-4ed6-99a6-f95a9fa629ab"
      },
      "outputs": [
        {
          "name": "stderr",
          "output_type": "stream",
          "text": [
            "D:\\anaconda\\lib\\site-packages\\seaborn\\distributions.py:2619: FutureWarning: `distplot` is a deprecated function and will be removed in a future version. Please adapt your code to use either `displot` (a figure-level function with similar flexibility) or `histplot` (an axes-level function for histograms).\n",
            "  warnings.warn(msg, FutureWarning)\n"
          ]
        },
        {
          "data": {
            "text/plain": [
              "<AxesSubplot:xlabel='Age', ylabel='Density'>"
            ]
          },
          "execution_count": 29,
          "metadata": {},
          "output_type": "execute_result"
        },
        {
          "data": {
            "image/png": "[encoded data removed]",
            "text/plain": [
              "<Figure size 720x360 with 1 Axes>"
            ]
          },
          "metadata": {
            "needs_background": "light"
          },
          "output_type": "display_data"
        }
      ],
      "source": [
        "#Distribution plot after removing the outliers\n",
        "age=final_data[final_data['Age']<110]\n",
        "plt.figure(figsize=(10,5))\n",
        "sns.distplot(age['Age'])"
      ]
    },
    {
      "cell_type": "code",
      "execution_count": null,
      "metadata": {
        "id": "x_OL1Pt0AnMj"
      },
      "outputs": [],
      "source": [
        "#Imputing the age column using mode \n",
        "final_data['Age']=np.where(final_data['Age']>100,final_data['Age'].mode(),final_data['Age'])"
      ]
    },
    {
      "cell_type": "code",
      "execution_count": null,
      "metadata": {
        "id": "uexdKoCkByvB"
      },
      "outputs": [],
      "source": [
        "#Filling nan values with mean value\n",
        "final_data['Age']=final_data['Age'].fillna(int(final_data['Age'].mean()))"
      ]
    },
    {
      "cell_type": "code",
      "execution_count": null,
      "metadata": {
        "id": "hww50h6iDI5K"
      },
      "outputs": [],
      "source": [
        "final_data.drop(['Image-URL-S','Image-URL-L','Location'],axis=1,inplace=True)"
      ]
    },
    {
      "cell_type": "code",
      "execution_count": null,
      "metadata": {
        "colab": {
          "base_uri": "https://localhost:8080/",
          "height": 337
        },
        "id": "Y3FIpGvFDo4V",
        "outputId": "35282d8e-6f9c-40f1-8deb-389df95982e6"
      },
      "outputs": [
        {
          "data": {
            "text/html": [
              "<div>\n",
              "<style scoped>\n",
              "    .dataframe tbody tr th:only-of-type {\n",
              "        vertical-align: middle;\n",
              "    }\n",
              "\n",
              "    .dataframe tbody tr th {\n",
              "        vertical-align: top;\n",
              "    }\n",
              "\n",
              "    .dataframe thead th {\n",
              "        text-align: right;\n",
              "    }\n",
              "</style>\n",
              "<table border=\"1\" class=\"dataframe\">\n",
              "  <thead>\n",
              "    <tr style=\"text-align: right;\">\n",
              "      <th></th>\n",
              "      <th>ISBN</th>\n",
              "      <th>Book-Title</th>\n",
              "      <th>Book-Author</th>\n",
              "      <th>Year-Of-Publication</th>\n",
              "      <th>Publisher</th>\n",
              "      <th>Image-URL-M</th>\n",
              "      <th>User-ID</th>\n",
              "      <th>Book-Rating</th>\n",
              "      <th>Age</th>\n",
              "      <th>country</th>\n",
              "    </tr>\n",
              "  </thead>\n",
              "  <tbody>\n",
              "    <tr>\n",
              "      <th>0</th>\n",
              "      <td>0195153448</td>\n",
              "      <td>Classical Mythology</td>\n",
              "      <td>Mark P. O. Morford</td>\n",
              "      <td>2002</td>\n",
              "      <td>Oxford University Press</td>\n",
              "      <td>http://images.amazon.com/images/P/0195153448.0...</td>\n",
              "      <td>2</td>\n",
              "      <td>0</td>\n",
              "      <td>18.0</td>\n",
              "      <td>usa</td>\n",
              "    </tr>\n",
              "    <tr>\n",
              "      <th>1</th>\n",
              "      <td>0002005018</td>\n",
              "      <td>Clara Callan</td>\n",
              "      <td>Richard Bruce Wright</td>\n",
              "      <td>2001</td>\n",
              "      <td>HarperFlamingo Canada</td>\n",
              "      <td>http://images.amazon.com/images/P/0002005018.0...</td>\n",
              "      <td>8</td>\n",
              "      <td>5</td>\n",
              "      <td>36.0</td>\n",
              "      <td>canada</td>\n",
              "    </tr>\n",
              "    <tr>\n",
              "      <th>2</th>\n",
              "      <td>0060973129</td>\n",
              "      <td>Decision in Normandy</td>\n",
              "      <td>Carlo D'Este</td>\n",
              "      <td>1991</td>\n",
              "      <td>HarperPerennial</td>\n",
              "      <td>http://images.amazon.com/images/P/0060973129.0...</td>\n",
              "      <td>8</td>\n",
              "      <td>0</td>\n",
              "      <td>36.0</td>\n",
              "      <td>canada</td>\n",
              "    </tr>\n",
              "    <tr>\n",
              "      <th>3</th>\n",
              "      <td>0374157065</td>\n",
              "      <td>Flu: The Story of the Great Influenza Pandemic...</td>\n",
              "      <td>Gina Bari Kolata</td>\n",
              "      <td>1999</td>\n",
              "      <td>Farrar Straus Giroux</td>\n",
              "      <td>http://images.amazon.com/images/P/0374157065.0...</td>\n",
              "      <td>8</td>\n",
              "      <td>0</td>\n",
              "      <td>36.0</td>\n",
              "      <td>canada</td>\n",
              "    </tr>\n",
              "    <tr>\n",
              "      <th>4</th>\n",
              "      <td>0393045218</td>\n",
              "      <td>The Mummies of Urumchi</td>\n",
              "      <td>E. J. W. Barber</td>\n",
              "      <td>1999</td>\n",
              "      <td>W. W. Norton &amp;amp; Company</td>\n",
              "      <td>http://images.amazon.com/images/P/0393045218.0...</td>\n",
              "      <td>8</td>\n",
              "      <td>0</td>\n",
              "      <td>36.0</td>\n",
              "      <td>canada</td>\n",
              "    </tr>\n",
              "  </tbody>\n",
              "</table>\n",
              "</div>"
            ],
            "text/plain": [
              "         ISBN                                         Book-Title  \\\n",
              "0  0195153448                                Classical Mythology   \n",
              "1  0002005018                                       Clara Callan   \n",
              "2  0060973129                               Decision in Normandy   \n",
              "3  0374157065  Flu: The Story of the Great Influenza Pandemic...   \n",
              "4  0393045218                             The Mummies of Urumchi   \n",
              "\n",
              "            Book-Author Year-Of-Publication                   Publisher  \\\n",
              "0    Mark P. O. Morford                2002     Oxford University Press   \n",
              "1  Richard Bruce Wright                2001       HarperFlamingo Canada   \n",
              "2          Carlo D'Este                1991             HarperPerennial   \n",
              "3      Gina Bari Kolata                1999        Farrar Straus Giroux   \n",
              "4       E. J. W. Barber                1999  W. W. Norton &amp; Company   \n",
              "\n",
              "                                         Image-URL-M  User-ID  Book-Rating  \\\n",
              "0  http://images.amazon.com/images/P/0195153448.0...        2            0   \n",
              "1  http://images.amazon.com/images/P/0002005018.0...        8            5   \n",
              "2  http://images.amazon.com/images/P/0060973129.0...        8            0   \n",
              "3  http://images.amazon.com/images/P/0374157065.0...        8            0   \n",
              "4  http://images.amazon.com/images/P/0393045218.0...        8            0   \n",
              "\n",
              "    Age  country  \n",
              "0  18.0      usa  \n",
              "1  36.0   canada  \n",
              "2  36.0   canada  \n",
              "3  36.0   canada  \n",
              "4  36.0   canada  "
            ]
          },
          "execution_count": 33,
          "metadata": {},
          "output_type": "execute_result"
        }
      ],
      "source": [
        "final_data.head()"
      ]
    },
    {
      "cell_type": "code",
      "execution_count": null,
      "metadata": {
        "colab": {
          "base_uri": "https://localhost:8080/",
          "height": 422
        },
        "id": "WLAtmnJNA52m",
        "outputId": "dab6f9e0-8e98-413c-bb36-ddd869b1f3eb"
      },
      "outputs": [
        {
          "name": "stderr",
          "output_type": "stream",
          "text": [
            "D:\\anaconda\\lib\\site-packages\\seaborn\\_decorators.py:36: FutureWarning: Pass the following variable as a keyword arg: x. From version 0.12, the only valid positional argument will be `data`, and passing other arguments without an explicit keyword will result in an error or misinterpretation.\n",
            "  warnings.warn(\n"
          ]
        },
        {
          "data": {
            "text/plain": [
              "Text(0.5, 1.0, 'Rating vs count of each Rating')"
            ]
          },
          "execution_count": 34,
          "metadata": {},
          "output_type": "execute_result"
        },
        {
          "data": {
            "image/png": "[encoded data removed]",
            "text/plain": [
              "<Figure size 720x360 with 1 Axes>"
            ]
          },
          "metadata": {
            "needs_background": "light"
          },
          "output_type": "display_data"
        }
      ],
      "source": [
        "plt.figure(figsize=(10,5))\n",
        "sns.countplot('Book-Rating',data=book_rating)\n",
        "plt.title('Rating vs count of each Rating')"
      ]
    },
    {
      "cell_type": "markdown",
      "metadata": {
        "id": "xdmCnAgRHe8l"
      },
      "source": [
        "**Year column**"
      ]
    },
    {
      "cell_type": "code",
      "execution_count": null,
      "metadata": {
        "colab": {
          "base_uri": "https://localhost:8080/"
        },
        "id": "PN3RrOPwAgRx",
        "outputId": "61d6622d-23fd-4bda-f54d-68c6f46f49f5"
      },
      "outputs": [
        {
          "data": {
            "text/plain": [
              "array([2002, 2001, 1991, 1999, 2000, 1993, 1996, 1988, 2004, 1998, 1994,\n",
              "       2003, 1992, 1989, 1976, 1985, 1980, 1995, 1997, 1983, 1987, 1990,\n",
              "       1982, 0, 1965, 1986, 1960, 1974, 1978, 1984, 1973, 1959, 1942,\n",
              "       1979, 1972, 1981, 1957, 1971, 1963, 1958, 1966, 1930, 1969, 1953,\n",
              "       1970, 1947, 1977, 1954, 1920, 1955, 1975, 1964, 1967, 2030, 2005,\n",
              "       1951, 1927, 1961, 1968, 1962, 1948, 1925, 1923, '2002', '1994',\n",
              "       '1970', '1990', '1998', '1991', '1989', '0', '2001', '1986',\n",
              "       '1999', '2000', '1996', '1981', '1985', '1987', '1995', '2003',\n",
              "       '1988', '1976', '1979', '1993', '1984', '1997', '1975', '1983',\n",
              "       '1992', '1980', '1982', '2004', '1974', '1977', '1971', '1978',\n",
              "       '1972', '1958', '1969', '1966', '1967', '1973', '1968', 1938, 1956,\n",
              "       '1964', 1901, 1926, 1940, '1941', '1959', '1942', '1963', '1962',\n",
              "       '1922', '1957', '1897', '1960', '1949', '1956', '1939', '1955',\n",
              "       '1961', '1952', '1933', '1954', '1965', '1944', 1952, 2011, '1951',\n",
              "       1937, 1902, '1920', 1950, 1911, 1943, 1945, 1946, 1939, 1932, 1949,\n",
              "       1924, 1921, 2038, 1936, 2021, '1953', '1940', '1936', '1947',\n",
              "       '1900', 1941, 2026, 2050, '2011', '1932', 1929, '1923', '1946',\n",
              "       '2005', '1911', '1945', '1927', '1948', '1950', 2020, 1900, '2006',\n",
              "       'Gallimard', '1909', '1930', 'DK Publishing Inc', 2010, 1933, 1931,\n",
              "       '2030', '1926', '1943', '1924', 1906, 1935, 1806, 1928, 1934,\n",
              "       '2020', 1910, '1378', '2012', '2008', 1917, 1914, 1944, 1904,\n",
              "       '1931', '2037', '2024', '1376', 1908, '1938', '1919'], dtype=object)"
            ]
          },
          "execution_count": 35,
          "metadata": {},
          "output_type": "execute_result"
        }
      ],
      "source": [
        "final_data['Year-Of-Publication'].unique()"
      ]
    },
    {
      "cell_type": "markdown",
      "metadata": {
        "id": "GrJJ3WhJBmiw"
      },
      "source": [
        "Here we can observe that there are 2 non year values and also this feature also contain year value greater than current value"
      ]
    },
    {
      "cell_type": "code",
      "execution_count": null,
      "metadata": {
        "id": "0XlB-C0XCAIX"
      },
      "outputs": [],
      "source": [
        "#Removing the non year values from the dataset\n",
        "final_data.drop(final_data[final_data['Year-Of-Publication'] == \"DK Publishing Inc\"].index, inplace = True)\n",
        "final_data.drop(final_data[final_data['Year-Of-Publication'] == \"Gallimard\"].index, inplace = True)\n",
        "final_data['Year-Of-Publication']=final_data['Year-Of-Publication'].astype(int)"
      ]
    },
    {
      "cell_type": "code",
      "execution_count": null,
      "metadata": {
        "colab": {
          "base_uri": "https://localhost:8080/"
        },
        "id": "T_WU4LdpXZXr",
        "outputId": "04d46d96-6e60-4c22-cbb4-8a8ef250c2c0"
      },
      "outputs": [
        {
          "data": {
            "text/plain": [
              "54"
            ]
          },
          "execution_count": 37,
          "metadata": {},
          "output_type": "execute_result"
        }
      ],
      "source": [
        "len(final_data.loc[final_data['Year-Of-Publication']>2022])"
      ]
    },
    {
      "cell_type": "markdown",
      "metadata": {
        "id": "dSlD7FFWGAP3"
      },
      "source": [
        "We have 54 values which have year greater than 2022/current year"
      ]
    },
    {
      "cell_type": "code",
      "execution_count": null,
      "metadata": {
        "id": "esNxCrlYGGQH"
      },
      "outputs": [],
      "source": [
        "final_data.drop(final_data[final_data['Year-Of-Publication']>2022].index,inplace=True)\n",
        "final_data.drop(final_data[final_data['Year-Of-Publication']==0].index,inplace=True)"
      ]
    },
    {
      "cell_type": "code",
      "execution_count": null,
      "metadata": {
        "colab": {
          "base_uri": "https://localhost:8080/"
        },
        "id": "1pSgHm4jDLU0",
        "outputId": "30087aa0-2b02-4a13-b283-7d11e97a741d"
      },
      "outputs": [
        {
          "data": {
            "text/plain": [
              "array([2002, 2001, 1991, 1999, 2000, 1993, 1996, 1988, 2004, 1998, 1994,\n",
              "       2003, 1992, 1989, 1976, 1985, 1980, 1995, 1997, 1983, 1987, 1990,\n",
              "       1982, 1965, 1986, 1960, 1974, 1978, 1984, 1973, 1959, 1942, 1979,\n",
              "       1972, 1981, 1957, 1971, 1963, 1958, 1966, 1930, 1969, 1953, 1970,\n",
              "       1947, 1977, 1954, 1920, 1955, 1975, 1964, 1967, 2005, 1951, 1927,\n",
              "       1961, 1968, 1962, 1948, 1925, 1923, 1938, 1956, 1901, 1926, 1940,\n",
              "       1941, 1922, 1897, 1949, 1939, 1952, 1933, 1944, 2011, 1937, 1902,\n",
              "       1950, 1911, 1943, 1945, 1946, 1932, 1924, 1921, 1936, 2021, 1900,\n",
              "       1929, 2020, 2006, 1909, 2010, 1931, 1906, 1935, 1806, 1928, 1934,\n",
              "       1910, 1378, 2012, 2008, 1917, 1914, 1904, 1376, 1908, 1919])"
            ]
          },
          "execution_count": 39,
          "metadata": {},
          "output_type": "execute_result"
        }
      ],
      "source": [
        "final_data['Year-Of-Publication'].unique()"
      ]
    },
    {
      "cell_type": "markdown",
      "metadata": {
        "id": "HHVuRAVyGiu3"
      },
      "source": [
        "Now the year of publication is only having valid years"
      ]
    },
    {
      "cell_type": "code",
      "execution_count": null,
      "metadata": {
        "colab": {
          "base_uri": "https://localhost:8080/"
        },
        "id": "ghdeRQtCGmFM",
        "outputId": "cdd7ade3-a2c0-42a3-9280-07ce735b47fb"
      },
      "outputs": [
        {
          "data": {
            "text/plain": [
              "ISBN                   0\n",
              "Book-Title             0\n",
              "Book-Author            1\n",
              "Year-Of-Publication    0\n",
              "Publisher              2\n",
              "Image-URL-M            0\n",
              "User-ID                0\n",
              "Book-Rating            0\n",
              "Age                    0\n",
              "country                0\n",
              "dtype: int64"
            ]
          },
          "execution_count": 40,
          "metadata": {},
          "output_type": "execute_result"
        }
      ],
      "source": [
        "final_data.isnull().sum()"
      ]
    },
    {
      "cell_type": "code",
      "execution_count": null,
      "metadata": {
        "colab": {
          "base_uri": "https://localhost:8080/",
          "height": 709
        },
        "id": "u6VQgPlfBcZ1",
        "outputId": "c7322689-3da2-4a6c-cae0-3193ebf4d9b9"
      },
      "outputs": [
        {
          "name": "stderr",
          "output_type": "stream",
          "text": [
            "D:\\anaconda\\lib\\site-packages\\seaborn\\_decorators.py:36: FutureWarning: Pass the following variable as a keyword arg: x. From version 0.12, the only valid positional argument will be `data`, and passing other arguments without an explicit keyword will result in an error or misinterpretation.\n",
            "  warnings.warn(\n"
          ]
        },
        {
          "data": {
            "text/plain": [
              "<AxesSubplot:title={'center':'Year wise Count of book publishings'}, xlabel='Year-Of-Publication', ylabel='count'>"
            ]
          },
          "execution_count": 41,
          "metadata": {},
          "output_type": "execute_result"
        },
        {
          "data": {
            "image/png": "[encoded data removed]",
            "text/plain": [
              "<Figure size 1440x720 with 1 Axes>"
            ]
          },
          "metadata": {
            "needs_background": "light"
          },
          "output_type": "display_data"
        }
      ],
      "source": [
        "#Count of books againt the publication year\n",
        "plt.figure(figsize=(20,10))\n",
        "plt.xticks(rotation = 90)\n",
        "plt.title('Year wise Count of book publishings')\n",
        "sns.countplot('Year-Of-Publication',data=final_data)     #The highest no of publications was observed during the year 2002"
      ]
    },
    {
      "cell_type": "code",
      "execution_count": null,
      "metadata": {
        "id": "BSjFxiNoaulO"
      },
      "outputs": [],
      "source": [
        "######"
      ]
    },
    {
      "cell_type": "code",
      "execution_count": null,
      "metadata": {
        "id": "NtLSAVB-0gtc"
      },
      "outputs": [],
      "source": [
        "#Creating to separate data frame to find the number of rating  & the average rating that each book has got\n",
        "df1=pd.DataFrame()\n",
        "df2=pd.DataFrame()\n",
        "df1=final_data.groupby('Book-Title').count()['Book-Rating'].reset_index()\n",
        "df1.rename(columns={'Book-Rating':'Number of Rating'},inplace=True)\n",
        "df2=final_data.groupby('Book-Title').mean()['Book-Rating'].reset_index()\n",
        "df2.rename(columns={'Book-Rating':'Average Rating'},inplace=True)"
      ]
    },
    {
      "cell_type": "code",
      "execution_count": null,
      "metadata": {
        "id": "MShew86o123z"
      },
      "outputs": [],
      "source": [
        "#Merging the 2 data set\n",
        "data=df1.merge(df2,on='Book-Title')"
      ]
    },
    {
      "cell_type": "markdown",
      "metadata": {
        "id": "EiPwilKa-Gkh"
      },
      "source": [
        "To get author details. we have to merge data with book "
      ]
    },
    {
      "cell_type": "code",
      "execution_count": null,
      "metadata": {
        "id": "XeclS7jI-MKO"
      },
      "outputs": [],
      "source": [
        "#Merging the book data set to the data inorder to get author and publication details\n",
        "df3=data.merge(book,on='Book-Title').drop_duplicates('Book-Title')[['Book-Title','Book-Author','Image-URL-M','Number of Rating','Average Rating','Year-Of-Publication']]"
      ]
    },
    {
      "cell_type": "code",
      "execution_count": null,
      "metadata": {
        "colab": {
          "base_uri": "https://localhost:8080/",
          "height": 833
        },
        "id": "XacJvMqe-eyM",
        "outputId": "5d3dd8b9-839f-4ae0-ad43-c4094e785d3f"
      },
      "outputs": [
        {
          "data": {
            "text/html": [
              "<div>\n",
              "<style scoped>\n",
              "    .dataframe tbody tr th:only-of-type {\n",
              "        vertical-align: middle;\n",
              "    }\n",
              "\n",
              "    .dataframe tbody tr th {\n",
              "        vertical-align: top;\n",
              "    }\n",
              "\n",
              "    .dataframe thead th {\n",
              "        text-align: right;\n",
              "    }\n",
              "</style>\n",
              "<table border=\"1\" class=\"dataframe\">\n",
              "  <thead>\n",
              "    <tr style=\"text-align: right;\">\n",
              "      <th></th>\n",
              "      <th>index</th>\n",
              "      <th>Book-Title</th>\n",
              "      <th>Book-Author</th>\n",
              "      <th>Image-URL-M</th>\n",
              "      <th>Number of Rating</th>\n",
              "      <th>Average Rating</th>\n",
              "      <th>Year-Of-Publication</th>\n",
              "    </tr>\n",
              "  </thead>\n",
              "  <tbody>\n",
              "    <tr>\n",
              "      <th>0</th>\n",
              "      <td>88540</td>\n",
              "      <td>Harry Potter and the Prisoner of Azkaban (Book 3)</td>\n",
              "      <td>J. K. Rowling</td>\n",
              "      <td>http://images.amazon.com/images/P/0439136350.0...</td>\n",
              "      <td>428</td>\n",
              "      <td>5.852804</td>\n",
              "      <td>1999</td>\n",
              "    </tr>\n",
              "    <tr>\n",
              "      <th>1</th>\n",
              "      <td>88522</td>\n",
              "      <td>Harry Potter and the Goblet of Fire (Book 4)</td>\n",
              "      <td>J. K. Rowling</td>\n",
              "      <td>http://images.amazon.com/images/P/0439139597.0...</td>\n",
              "      <td>387</td>\n",
              "      <td>5.824289</td>\n",
              "      <td>2000</td>\n",
              "    </tr>\n",
              "    <tr>\n",
              "      <th>2</th>\n",
              "      <td>88550</td>\n",
              "      <td>Harry Potter and the Sorcerer's Stone (Book 1)</td>\n",
              "      <td>J. K. Rowling</td>\n",
              "      <td>http://images.amazon.com/images/P/0590353403.0...</td>\n",
              "      <td>278</td>\n",
              "      <td>5.737410</td>\n",
              "      <td>1998</td>\n",
              "    </tr>\n",
              "    <tr>\n",
              "      <th>3</th>\n",
              "      <td>88527</td>\n",
              "      <td>Harry Potter and the Order of the Phoenix (Boo...</td>\n",
              "      <td>J. K. Rowling</td>\n",
              "      <td>http://images.amazon.com/images/P/043935806X.0...</td>\n",
              "      <td>347</td>\n",
              "      <td>5.501441</td>\n",
              "      <td>2003</td>\n",
              "    </tr>\n",
              "    <tr>\n",
              "      <th>4</th>\n",
              "      <td>88512</td>\n",
              "      <td>Harry Potter and the Chamber of Secrets (Book 2)</td>\n",
              "      <td>J. K. Rowling</td>\n",
              "      <td>http://images.amazon.com/images/P/0439064872.0...</td>\n",
              "      <td>556</td>\n",
              "      <td>5.183453</td>\n",
              "      <td>2000</td>\n",
              "    </tr>\n",
              "    <tr>\n",
              "      <th>5</th>\n",
              "      <td>211536</td>\n",
              "      <td>The Hobbit : The Enchanting Prelude to The Lor...</td>\n",
              "      <td>J.R.R. TOLKIEN</td>\n",
              "      <td>http://images.amazon.com/images/P/0345339681.0...</td>\n",
              "      <td>281</td>\n",
              "      <td>5.007117</td>\n",
              "      <td>1986</td>\n",
              "    </tr>\n",
              "    <tr>\n",
              "      <th>6</th>\n",
              "      <td>206679</td>\n",
              "      <td>The Fellowship of the Ring (The Lord of the Ri...</td>\n",
              "      <td>J.R.R. TOLKIEN</td>\n",
              "      <td>http://images.amazon.com/images/P/0345339703.0...</td>\n",
              "      <td>368</td>\n",
              "      <td>4.948370</td>\n",
              "      <td>1986</td>\n",
              "    </tr>\n",
              "    <tr>\n",
              "      <th>7</th>\n",
              "      <td>88557</td>\n",
              "      <td>Harry Potter and the Sorcerer's Stone (Harry P...</td>\n",
              "      <td>J. K. Rowling</td>\n",
              "      <td>http://images.amazon.com/images/P/059035342X.0...</td>\n",
              "      <td>575</td>\n",
              "      <td>4.895652</td>\n",
              "      <td>1999</td>\n",
              "    </tr>\n",
              "    <tr>\n",
              "      <th>8</th>\n",
              "      <td>234105</td>\n",
              "      <td>The Two Towers (The Lord of the Rings, Part 2)</td>\n",
              "      <td>J.R.R. TOLKIEN</td>\n",
              "      <td>http://images.amazon.com/images/P/0345339711.0...</td>\n",
              "      <td>260</td>\n",
              "      <td>4.880769</td>\n",
              "      <td>1986</td>\n",
              "    </tr>\n",
              "    <tr>\n",
              "      <th>9</th>\n",
              "      <td>243360</td>\n",
              "      <td>To Kill a Mockingbird</td>\n",
              "      <td>Harper Lee</td>\n",
              "      <td>http://images.amazon.com/images/P/0446310786.0...</td>\n",
              "      <td>510</td>\n",
              "      <td>4.700000</td>\n",
              "      <td>1988</td>\n",
              "    </tr>\n",
              "    <tr>\n",
              "      <th>10</th>\n",
              "      <td>202378</td>\n",
              "      <td>The Da Vinci Code</td>\n",
              "      <td>Dan Brown</td>\n",
              "      <td>http://images.amazon.com/images/P/0385504209.0...</td>\n",
              "      <td>897</td>\n",
              "      <td>4.647715</td>\n",
              "      <td>2003</td>\n",
              "    </tr>\n",
              "    <tr>\n",
              "      <th>11</th>\n",
              "      <td>199028</td>\n",
              "      <td>The Catcher in the Rye</td>\n",
              "      <td>J.D. Salinger</td>\n",
              "      <td>http://images.amazon.com/images/P/0316769487.0...</td>\n",
              "      <td>436</td>\n",
              "      <td>4.646789</td>\n",
              "      <td>1991</td>\n",
              "    </tr>\n",
              "    <tr>\n",
              "      <th>12</th>\n",
              "      <td>207255</td>\n",
              "      <td>The Five People You Meet in Heaven</td>\n",
              "      <td>Mitch Albom</td>\n",
              "      <td>http://images.amazon.com/images/P/0786868716.0...</td>\n",
              "      <td>430</td>\n",
              "      <td>4.551163</td>\n",
              "      <td>2003</td>\n",
              "    </tr>\n",
              "    <tr>\n",
              "      <th>13</th>\n",
              "      <td>785</td>\n",
              "      <td>1984</td>\n",
              "      <td>George Orwell</td>\n",
              "      <td>http://images.amazon.com/images/P/0451524934.0...</td>\n",
              "      <td>266</td>\n",
              "      <td>4.473684</td>\n",
              "      <td>1990</td>\n",
              "    </tr>\n",
              "    <tr>\n",
              "      <th>14</th>\n",
              "      <td>216975</td>\n",
              "      <td>The Lovely Bones: A Novel</td>\n",
              "      <td>Alice Sebold</td>\n",
              "      <td>http://images.amazon.com/images/P/0316666343.0...</td>\n",
              "      <td>1295</td>\n",
              "      <td>4.468726</td>\n",
              "      <td>2002</td>\n",
              "    </tr>\n",
              "    <tr>\n",
              "      <th>15</th>\n",
              "      <td>158358</td>\n",
              "      <td>Prodigal Summer: A Novel</td>\n",
              "      <td>Barbara Kingsolver</td>\n",
              "      <td>http://images.amazon.com/images/P/0060959037.0...</td>\n",
              "      <td>253</td>\n",
              "      <td>4.450593</td>\n",
              "      <td>2001</td>\n",
              "    </tr>\n",
              "    <tr>\n",
              "      <th>16</th>\n",
              "      <td>141060</td>\n",
              "      <td>Neverwhere</td>\n",
              "      <td>Neil Gaiman</td>\n",
              "      <td>http://images.amazon.com/images/P/0380789019.0...</td>\n",
              "      <td>265</td>\n",
              "      <td>4.449057</td>\n",
              "      <td>1998</td>\n",
              "    </tr>\n",
              "    <tr>\n",
              "      <th>17</th>\n",
              "      <td>228526</td>\n",
              "      <td>The Secret Life of Bees</td>\n",
              "      <td>Sue Monk Kidd</td>\n",
              "      <td>http://images.amazon.com/images/P/0142001740.0...</td>\n",
              "      <td>774</td>\n",
              "      <td>4.447028</td>\n",
              "      <td>2003</td>\n",
              "    </tr>\n",
              "    <tr>\n",
              "      <th>18</th>\n",
              "      <td>185904</td>\n",
              "      <td>Stupid White Men ...and Other Sorry Excuses fo...</td>\n",
              "      <td>Michael Moore</td>\n",
              "      <td>http://images.amazon.com/images/P/0060392452.0...</td>\n",
              "      <td>283</td>\n",
              "      <td>4.356890</td>\n",
              "      <td>2002</td>\n",
              "    </tr>\n",
              "    <tr>\n",
              "      <th>19</th>\n",
              "      <td>247102</td>\n",
              "      <td>Tuesdays with Morrie: An Old Man, a Young Man,...</td>\n",
              "      <td>MITCH ALBOM</td>\n",
              "      <td>http://images.amazon.com/images/P/0385484518.0...</td>\n",
              "      <td>493</td>\n",
              "      <td>4.354970</td>\n",
              "      <td>1997</td>\n",
              "    </tr>\n",
              "    <tr>\n",
              "      <th>20</th>\n",
              "      <td>226087</td>\n",
              "      <td>The Red Tent (Bestselling Backlist)</td>\n",
              "      <td>Anita Diamant</td>\n",
              "      <td>http://images.amazon.com/images/P/0312195516.0...</td>\n",
              "      <td>723</td>\n",
              "      <td>4.334716</td>\n",
              "      <td>1998</td>\n",
              "    </tr>\n",
              "    <tr>\n",
              "      <th>21</th>\n",
              "      <td>211491</td>\n",
              "      <td>The Hitchhiker's Guide to the Galaxy</td>\n",
              "      <td>Douglas Adams</td>\n",
              "      <td>http://images.amazon.com/images/P/0671461494.0...</td>\n",
              "      <td>268</td>\n",
              "      <td>4.328358</td>\n",
              "      <td>1982</td>\n",
              "    </tr>\n",
              "    <tr>\n",
              "      <th>22</th>\n",
              "      <td>141810</td>\n",
              "      <td>Nickel and Dimed: On (Not) Getting By in America</td>\n",
              "      <td>Barbara Ehrenreich</td>\n",
              "      <td>http://images.amazon.com/images/P/0805063897.0...</td>\n",
              "      <td>335</td>\n",
              "      <td>4.289552</td>\n",
              "      <td>2002</td>\n",
              "    </tr>\n",
              "    <tr>\n",
              "      <th>23</th>\n",
              "      <td>102902</td>\n",
              "      <td>Into the Wild</td>\n",
              "      <td>Jon Krakauer</td>\n",
              "      <td>http://images.amazon.com/images/P/0385486804.0...</td>\n",
              "      <td>252</td>\n",
              "      <td>4.273810</td>\n",
              "      <td>1997</td>\n",
              "    </tr>\n",
              "    <tr>\n",
              "      <th>24</th>\n",
              "      <td>70201</td>\n",
              "      <td>Fahrenheit 451</td>\n",
              "      <td>Ray Bradbury</td>\n",
              "      <td>http://images.amazon.com/images/P/3257208626.0...</td>\n",
              "      <td>409</td>\n",
              "      <td>4.264059</td>\n",
              "      <td>1994</td>\n",
              "    </tr>\n",
              "  </tbody>\n",
              "</table>\n",
              "</div>"
            ],
            "text/plain": [
              "     index                                         Book-Title  \\\n",
              "0    88540  Harry Potter and the Prisoner of Azkaban (Book 3)   \n",
              "1    88522       Harry Potter and the Goblet of Fire (Book 4)   \n",
              "2    88550     Harry Potter and the Sorcerer's Stone (Book 1)   \n",
              "3    88527  Harry Potter and the Order of the Phoenix (Boo...   \n",
              "4    88512   Harry Potter and the Chamber of Secrets (Book 2)   \n",
              "5   211536  The Hobbit : The Enchanting Prelude to The Lor...   \n",
              "6   206679  The Fellowship of the Ring (The Lord of the Ri...   \n",
              "7    88557  Harry Potter and the Sorcerer's Stone (Harry P...   \n",
              "8   234105     The Two Towers (The Lord of the Rings, Part 2)   \n",
              "9   243360                              To Kill a Mockingbird   \n",
              "10  202378                                  The Da Vinci Code   \n",
              "11  199028                             The Catcher in the Rye   \n",
              "12  207255                 The Five People You Meet in Heaven   \n",
              "13     785                                               1984   \n",
              "14  216975                          The Lovely Bones: A Novel   \n",
              "15  158358                           Prodigal Summer: A Novel   \n",
              "16  141060                                         Neverwhere   \n",
              "17  228526                            The Secret Life of Bees   \n",
              "18  185904  Stupid White Men ...and Other Sorry Excuses fo...   \n",
              "19  247102  Tuesdays with Morrie: An Old Man, a Young Man,...   \n",
              "20  226087                The Red Tent (Bestselling Backlist)   \n",
              "21  211491               The Hitchhiker's Guide to the Galaxy   \n",
              "22  141810   Nickel and Dimed: On (Not) Getting By in America   \n",
              "23  102902                                      Into the Wild   \n",
              "24   70201                                     Fahrenheit 451   \n",
              "\n",
              "           Book-Author                                        Image-URL-M  \\\n",
              "0        J. K. Rowling  http://images.amazon.com/images/P/0439136350.0...   \n",
              "1        J. K. Rowling  http://images.amazon.com/images/P/0439139597.0...   \n",
              "2        J. K. Rowling  http://images.amazon.com/images/P/0590353403.0...   \n",
              "3        J. K. Rowling  http://images.amazon.com/images/P/043935806X.0...   \n",
              "4        J. K. Rowling  http://images.amazon.com/images/P/0439064872.0...   \n",
              "5       J.R.R. TOLKIEN  http://images.amazon.com/images/P/0345339681.0...   \n",
              "6       J.R.R. TOLKIEN  http://images.amazon.com/images/P/0345339703.0...   \n",
              "7        J. K. Rowling  http://images.amazon.com/images/P/059035342X.0...   \n",
              "8       J.R.R. TOLKIEN  http://images.amazon.com/images/P/0345339711.0...   \n",
              "9           Harper Lee  http://images.amazon.com/images/P/0446310786.0...   \n",
              "10           Dan Brown  http://images.amazon.com/images/P/0385504209.0...   \n",
              "11       J.D. Salinger  http://images.amazon.com/images/P/0316769487.0...   \n",
              "12         Mitch Albom  http://images.amazon.com/images/P/0786868716.0...   \n",
              "13       George Orwell  http://images.amazon.com/images/P/0451524934.0...   \n",
              "14        Alice Sebold  http://images.amazon.com/images/P/0316666343.0...   \n",
              "15  Barbara Kingsolver  http://images.amazon.com/images/P/0060959037.0...   \n",
              "16         Neil Gaiman  http://images.amazon.com/images/P/0380789019.0...   \n",
              "17       Sue Monk Kidd  http://images.amazon.com/images/P/0142001740.0...   \n",
              "18       Michael Moore  http://images.amazon.com/images/P/0060392452.0...   \n",
              "19         MITCH ALBOM  http://images.amazon.com/images/P/0385484518.0...   \n",
              "20       Anita Diamant  http://images.amazon.com/images/P/0312195516.0...   \n",
              "21       Douglas Adams  http://images.amazon.com/images/P/0671461494.0...   \n",
              "22  Barbara Ehrenreich  http://images.amazon.com/images/P/0805063897.0...   \n",
              "23        Jon Krakauer  http://images.amazon.com/images/P/0385486804.0...   \n",
              "24        Ray Bradbury  http://images.amazon.com/images/P/3257208626.0...   \n",
              "\n",
              "    Number of Rating  Average Rating Year-Of-Publication  \n",
              "0                428        5.852804                1999  \n",
              "1                387        5.824289                2000  \n",
              "2                278        5.737410                1998  \n",
              "3                347        5.501441                2003  \n",
              "4                556        5.183453                2000  \n",
              "5                281        5.007117                1986  \n",
              "6                368        4.948370                1986  \n",
              "7                575        4.895652                1999  \n",
              "8                260        4.880769                1986  \n",
              "9                510        4.700000                1988  \n",
              "10               897        4.647715                2003  \n",
              "11               436        4.646789                1991  \n",
              "12               430        4.551163                2003  \n",
              "13               266        4.473684                1990  \n",
              "14              1295        4.468726                2002  \n",
              "15               253        4.450593                2001  \n",
              "16               265        4.449057                1998  \n",
              "17               774        4.447028                2003  \n",
              "18               283        4.356890                2002  \n",
              "19               493        4.354970                1997  \n",
              "20               723        4.334716                1998  \n",
              "21               268        4.328358                1982  \n",
              "22               335        4.289552                2002  \n",
              "23               252        4.273810                1997  \n",
              "24               409        4.264059                1994  "
            ]
          },
          "execution_count": 46,
          "metadata": {},
          "output_type": "execute_result"
        }
      ],
      "source": [
        "#Top 25 books based on the number of rating and the average ratings of the book\n",
        "df3[df3['Number of Rating']>250].sort_values('Average Rating',ascending=False).reset_index().head(25)"
      ]
    },
    {
      "cell_type": "code",
      "execution_count": null,
      "metadata": {
        "id": "W8v-s0k5J15Q"
      },
      "outputs": [],
      "source": [
        "disp=df3[df3['Number of Rating']>250].sort_values('Average Rating',ascending=False).reset_index().head(20)"
      ]
    },
    {
      "cell_type": "markdown",
      "metadata": {
        "id": "7aOEees-J71X"
      },
      "source": [
        "**Top 20 : Average rating V/S book**"
      ]
    },
    {
      "cell_type": "code",
      "execution_count": null,
      "metadata": {
        "colab": {
          "base_uri": "https://localhost:8080/",
          "height": 635
        },
        "id": "8hY0vicHI-Z5",
        "outputId": "1fbb64ca-708f-49d8-9497-ba3e619b6107"
      },
      "outputs": [
        {
          "data": {
            "text/plain": [
              "Text(0.5, 1.0, 'Top 20 books v/s Average ratings')"
            ]
          },
          "execution_count": 48,
          "metadata": {},
          "output_type": "execute_result"
        },
        {
          "data": {
            "image/png": "[encoded data removed]",
            "text/plain": [
              "<Figure size 720x720 with 1 Axes>"
            ]
          },
          "metadata": {
            "needs_background": "light"
          },
          "output_type": "display_data"
        }
      ],
      "source": [
        "plt.figure(figsize=(10,10))\n",
        "sns.barplot(y='Book-Title',x='Average Rating',data=disp)\n",
        "plt.xticks(rotation=90)\n",
        "plt.title('Top 20 books v/s Average ratings')"
      ]
    },
    {
      "cell_type": "markdown",
      "metadata": {
        "id": "myP-t1AIKKMu"
      },
      "source": [
        "**Top 20 Based on popularity**"
      ]
    },
    {
      "cell_type": "code",
      "execution_count": null,
      "metadata": {
        "colab": {
          "base_uri": "https://localhost:8080/",
          "height": 1000
        },
        "id": "zf1d8RYZKT2S",
        "outputId": "cafa6aac-4a9d-4313-ab41-1a586cafb396"
      },
      "outputs": [
        {
          "data": {
            "text/plain": [
              "Text(0.5, 1.0, 'Number of ratings  V/S Books')"
            ]
          },
          "execution_count": 49,
          "metadata": {},
          "output_type": "execute_result"
        },
        {
          "data": {
            "image/png": "[encoded data removed]",
            "text/plain": [
              "<Figure size 720x720 with 1 Axes>"
            ]
          },
          "metadata": {
            "needs_background": "light"
          },
          "output_type": "display_data"
        }
      ],
      "source": [
        "#To find the most popular books or best sellers\n",
        "plt.figure(figsize=(10,10))\n",
        "sns.barplot(x='Book-Title',y='Number of Rating',data=disp)\n",
        "plt.xticks(rotation=90)\n",
        "plt.title('Number of ratings  V/S Books')"
      ]
    },
    {
      "cell_type": "code",
      "execution_count": null,
      "metadata": {
        "colab": {
          "base_uri": "https://localhost:8080/",
          "height": 1000
        },
        "id": "oMYRqyI60dTM",
        "outputId": "5b12ab8f-2321-49a6-805f-f5ba0d51c36f"
      },
      "outputs": [
        {
          "data": {
            "text/html": [
              "<div>\n",
              "<style scoped>\n",
              "    .dataframe tbody tr th:only-of-type {\n",
              "        vertical-align: middle;\n",
              "    }\n",
              "\n",
              "    .dataframe tbody tr th {\n",
              "        vertical-align: top;\n",
              "    }\n",
              "\n",
              "    .dataframe thead th {\n",
              "        text-align: right;\n",
              "    }\n",
              "</style>\n",
              "<table border=\"1\" class=\"dataframe\">\n",
              "  <thead>\n",
              "    <tr style=\"text-align: right;\">\n",
              "      <th></th>\n",
              "      <th>Book-Title</th>\n",
              "      <th>Book-Author</th>\n",
              "      <th>Image-URL-M</th>\n",
              "      <th>Number of Rating</th>\n",
              "      <th>Average Rating</th>\n",
              "      <th>Year-Of-Publication</th>\n",
              "    </tr>\n",
              "  </thead>\n",
              "  <tbody>\n",
              "    <tr>\n",
              "      <th>259948</th>\n",
              "      <td>Wild Animus</td>\n",
              "      <td>Rich Shapero</td>\n",
              "      <td>http://images.amazon.com/images/P/0971880107.0...</td>\n",
              "      <td>2502</td>\n",
              "      <td>1.019584</td>\n",
              "      <td>2004</td>\n",
              "    </tr>\n",
              "    <tr>\n",
              "      <th>216975</th>\n",
              "      <td>The Lovely Bones: A Novel</td>\n",
              "      <td>Alice Sebold</td>\n",
              "      <td>http://images.amazon.com/images/P/0316666343.0...</td>\n",
              "      <td>1295</td>\n",
              "      <td>4.468726</td>\n",
              "      <td>2002</td>\n",
              "    </tr>\n",
              "    <tr>\n",
              "      <th>202378</th>\n",
              "      <td>The Da Vinci Code</td>\n",
              "      <td>Dan Brown</td>\n",
              "      <td>http://images.amazon.com/images/P/0385504209.0...</td>\n",
              "      <td>897</td>\n",
              "      <td>4.647715</td>\n",
              "      <td>2003</td>\n",
              "    </tr>\n",
              "    <tr>\n",
              "      <th>5751</th>\n",
              "      <td>A Painted House</td>\n",
              "      <td>John Grisham</td>\n",
              "      <td>http://images.amazon.com/images/P/044023722X.0...</td>\n",
              "      <td>838</td>\n",
              "      <td>3.231504</td>\n",
              "      <td>2001</td>\n",
              "    </tr>\n",
              "    <tr>\n",
              "      <th>220250</th>\n",
              "      <td>The Nanny Diaries: A Novel</td>\n",
              "      <td>Emma McLaughlin</td>\n",
              "      <td>http://images.amazon.com/images/P/0312278586.0...</td>\n",
              "      <td>828</td>\n",
              "      <td>3.530193</td>\n",
              "      <td>2002</td>\n",
              "    </tr>\n",
              "    <tr>\n",
              "      <th>30921</th>\n",
              "      <td>Bridget Jones's Diary</td>\n",
              "      <td>Helen Fielding</td>\n",
              "      <td>http://images.amazon.com/images/P/0330332775.0...</td>\n",
              "      <td>815</td>\n",
              "      <td>3.527607</td>\n",
              "      <td>1997</td>\n",
              "    </tr>\n",
              "    <tr>\n",
              "      <th>228526</th>\n",
              "      <td>The Secret Life of Bees</td>\n",
              "      <td>Sue Monk Kidd</td>\n",
              "      <td>http://images.amazon.com/images/P/0142001740.0...</td>\n",
              "      <td>774</td>\n",
              "      <td>4.447028</td>\n",
              "      <td>2003</td>\n",
              "    </tr>\n",
              "    <tr>\n",
              "      <th>58271</th>\n",
              "      <td>Divine Secrets of the Ya-Ya Sisterhood: A Novel</td>\n",
              "      <td>Rebecca Wells</td>\n",
              "      <td>http://images.amazon.com/images/P/0060928336.0...</td>\n",
              "      <td>740</td>\n",
              "      <td>3.437838</td>\n",
              "      <td>1997</td>\n",
              "    </tr>\n",
              "    <tr>\n",
              "      <th>226087</th>\n",
              "      <td>The Red Tent (Bestselling Backlist)</td>\n",
              "      <td>Anita Diamant</td>\n",
              "      <td>http://images.amazon.com/images/P/0312195516.0...</td>\n",
              "      <td>723</td>\n",
              "      <td>4.334716</td>\n",
              "      <td>1998</td>\n",
              "    </tr>\n",
              "    <tr>\n",
              "      <th>15870</th>\n",
              "      <td>Angels &amp;amp; Demons</td>\n",
              "      <td>Dan Brown</td>\n",
              "      <td>http://images.amazon.com/images/P/0671027360.0...</td>\n",
              "      <td>670</td>\n",
              "      <td>3.708955</td>\n",
              "      <td>2001</td>\n",
              "    </tr>\n",
              "    <tr>\n",
              "      <th>118368</th>\n",
              "      <td>Life of Pi</td>\n",
              "      <td>Yann Martel</td>\n",
              "      <td>http://images.amazon.com/images/P/0151008116.0...</td>\n",
              "      <td>664</td>\n",
              "      <td>4.088855</td>\n",
              "      <td>2002</td>\n",
              "    </tr>\n",
              "    <tr>\n",
              "      <th>179111</th>\n",
              "      <td>Snow Falling on Cedars</td>\n",
              "      <td>David Guterson</td>\n",
              "      <td>http://images.amazon.com/images/P/0151001006.0...</td>\n",
              "      <td>662</td>\n",
              "      <td>3.252266</td>\n",
              "      <td>1994</td>\n",
              "    </tr>\n",
              "    <tr>\n",
              "      <th>231701</th>\n",
              "      <td>The Summons</td>\n",
              "      <td>John Grisham</td>\n",
              "      <td>http://images.amazon.com/images/P/0440241073.0...</td>\n",
              "      <td>655</td>\n",
              "      <td>3.432061</td>\n",
              "      <td>2002</td>\n",
              "    </tr>\n",
              "    <tr>\n",
              "      <th>221380</th>\n",
              "      <td>The Notebook</td>\n",
              "      <td>Nicholas Sparks</td>\n",
              "      <td>http://images.amazon.com/images/P/0446605239.0...</td>\n",
              "      <td>650</td>\n",
              "      <td>3.560000</td>\n",
              "      <td>1998</td>\n",
              "    </tr>\n",
              "    <tr>\n",
              "      <th>232594</th>\n",
              "      <td>The Testament</td>\n",
              "      <td>John Grisham</td>\n",
              "      <td>http://images.amazon.com/images/P/0440234743.0...</td>\n",
              "      <td>617</td>\n",
              "      <td>3.179903</td>\n",
              "      <td>1999</td>\n",
              "    </tr>\n",
              "    <tr>\n",
              "      <th>94650</th>\n",
              "      <td>House of Sand and Fog</td>\n",
              "      <td>Andre Dubus III</td>\n",
              "      <td>http://images.amazon.com/images/P/0375727345.0...</td>\n",
              "      <td>588</td>\n",
              "      <td>3.030612</td>\n",
              "      <td>2000</td>\n",
              "    </tr>\n",
              "    <tr>\n",
              "      <th>258238</th>\n",
              "      <td>Where the Heart Is (Oprah's Book Club (Paperba...</td>\n",
              "      <td>Billie Letts</td>\n",
              "      <td>http://images.amazon.com/images/P/0446672211.0...</td>\n",
              "      <td>585</td>\n",
              "      <td>4.105983</td>\n",
              "      <td>1998</td>\n",
              "    </tr>\n",
              "    <tr>\n",
              "      <th>223020</th>\n",
              "      <td>The Pelican Brief</td>\n",
              "      <td>John Grisham</td>\n",
              "      <td>http://images.amazon.com/images/P/0440214041.0...</td>\n",
              "      <td>581</td>\n",
              "      <td>2.611015</td>\n",
              "      <td>1993</td>\n",
              "    </tr>\n",
              "    <tr>\n",
              "      <th>88557</th>\n",
              "      <td>Harry Potter and the Sorcerer's Stone (Harry P...</td>\n",
              "      <td>J. K. Rowling</td>\n",
              "      <td>http://images.amazon.com/images/P/059035342X.0...</td>\n",
              "      <td>575</td>\n",
              "      <td>4.895652</td>\n",
              "      <td>1999</td>\n",
              "    </tr>\n",
              "    <tr>\n",
              "      <th>208867</th>\n",
              "      <td>The Girls' Guide to Hunting and Fishing</td>\n",
              "      <td>Melissa Bank</td>\n",
              "      <td>http://images.amazon.com/images/P/0140293248.0...</td>\n",
              "      <td>573</td>\n",
              "      <td>3.139616</td>\n",
              "      <td>2000</td>\n",
              "    </tr>\n",
              "    <tr>\n",
              "      <th>186443</th>\n",
              "      <td>Summer Sisters</td>\n",
              "      <td>Judy Blume</td>\n",
              "      <td>http://images.amazon.com/images/P/0385324057.0...</td>\n",
              "      <td>572</td>\n",
              "      <td>3.367133</td>\n",
              "      <td>1998</td>\n",
              "    </tr>\n",
              "    <tr>\n",
              "      <th>207037</th>\n",
              "      <td>The Firm</td>\n",
              "      <td>John Grisham</td>\n",
              "      <td>http://images.amazon.com/images/P/0385416342.0...</td>\n",
              "      <td>569</td>\n",
              "      <td>3.080844</td>\n",
              "      <td>1991</td>\n",
              "    </tr>\n",
              "    <tr>\n",
              "      <th>223665</th>\n",
              "      <td>The Pilot's Wife : A Novel</td>\n",
              "      <td>Anita Shreve</td>\n",
              "      <td>http://images.amazon.com/images/P/0316601950.0...</td>\n",
              "      <td>568</td>\n",
              "      <td>3.593310</td>\n",
              "      <td>1999</td>\n",
              "    </tr>\n",
              "    <tr>\n",
              "      <th>197589</th>\n",
              "      <td>The Brethren</td>\n",
              "      <td>JOHN GRISHAM</td>\n",
              "      <td>http://images.amazon.com/images/P/0385497466.0...</td>\n",
              "      <td>556</td>\n",
              "      <td>2.850719</td>\n",
              "      <td>2000</td>\n",
              "    </tr>\n",
              "    <tr>\n",
              "      <th>88512</th>\n",
              "      <td>Harry Potter and the Chamber of Secrets (Book 2)</td>\n",
              "      <td>J. K. Rowling</td>\n",
              "      <td>http://images.amazon.com/images/P/0439064872.0...</td>\n",
              "      <td>556</td>\n",
              "      <td>5.183453</td>\n",
              "      <td>2000</td>\n",
              "    </tr>\n",
              "    <tr>\n",
              "      <th>213636</th>\n",
              "      <td>The Joy Luck Club</td>\n",
              "      <td>Amy Tan</td>\n",
              "      <td>http://images.amazon.com/images/P/0804106304.0...</td>\n",
              "      <td>555</td>\n",
              "      <td>3.055856</td>\n",
              "      <td>1994</td>\n",
              "    </tr>\n",
              "    <tr>\n",
              "      <th>242905</th>\n",
              "      <td>Timeline</td>\n",
              "      <td>MICHAEL CRICHTON</td>\n",
              "      <td>http://images.amazon.com/images/P/0345417623.0...</td>\n",
              "      <td>550</td>\n",
              "      <td>3.763636</td>\n",
              "      <td>2000</td>\n",
              "    </tr>\n",
              "    <tr>\n",
              "      <th>7651</th>\n",
              "      <td>A Time to Kill</td>\n",
              "      <td>JOHN GRISHAM</td>\n",
              "      <td>http://images.amazon.com/images/P/0440211727.0...</td>\n",
              "      <td>549</td>\n",
              "      <td>3.122040</td>\n",
              "      <td>1992</td>\n",
              "    </tr>\n",
              "    <tr>\n",
              "      <th>231483</th>\n",
              "      <td>The Street Lawyer</td>\n",
              "      <td>JOHN GRISHAM</td>\n",
              "      <td>http://images.amazon.com/images/P/0440225701.0...</td>\n",
              "      <td>545</td>\n",
              "      <td>2.851376</td>\n",
              "      <td>1999</td>\n",
              "    </tr>\n",
              "    <tr>\n",
              "      <th>82296</th>\n",
              "      <td>Girl with a Pearl Earring</td>\n",
              "      <td>Tracy Chevalier</td>\n",
              "      <td>http://images.amazon.com/images/P/0452282152.0...</td>\n",
              "      <td>526</td>\n",
              "      <td>4.218631</td>\n",
              "      <td>2001</td>\n",
              "    </tr>\n",
              "    <tr>\n",
              "      <th>227383</th>\n",
              "      <td>The Runaway Jury</td>\n",
              "      <td>JOHN GRISHAM</td>\n",
              "      <td>http://images.amazon.com/images/P/0440221471.0...</td>\n",
              "      <td>520</td>\n",
              "      <td>2.880769</td>\n",
              "      <td>1997</td>\n",
              "    </tr>\n",
              "    <tr>\n",
              "      <th>243360</th>\n",
              "      <td>To Kill a Mockingbird</td>\n",
              "      <td>Harper Lee</td>\n",
              "      <td>http://images.amazon.com/images/P/0446310786.0...</td>\n",
              "      <td>510</td>\n",
              "      <td>4.700000</td>\n",
              "      <td>1988</td>\n",
              "    </tr>\n",
              "    <tr>\n",
              "      <th>199233</th>\n",
              "      <td>The Chamber</td>\n",
              "      <td>John Grisham</td>\n",
              "      <td>http://images.amazon.com/images/P/0385424728.0...</td>\n",
              "      <td>509</td>\n",
              "      <td>3.015717</td>\n",
              "      <td>1994</td>\n",
              "    </tr>\n",
              "    <tr>\n",
              "      <th>850</th>\n",
              "      <td>1st to Die: A Novel</td>\n",
              "      <td>James Patterson</td>\n",
              "      <td>http://images.amazon.com/images/P/0446610038.0...</td>\n",
              "      <td>509</td>\n",
              "      <td>3.575639</td>\n",
              "      <td>2002</td>\n",
              "    </tr>\n",
              "    <tr>\n",
              "      <th>102700</th>\n",
              "      <td>Interview with the Vampire</td>\n",
              "      <td>Anne Rice</td>\n",
              "      <td>http://images.amazon.com/images/P/0345337662.0...</td>\n",
              "      <td>508</td>\n",
              "      <td>3.551181</td>\n",
              "      <td>1993</td>\n",
              "    </tr>\n",
              "    <tr>\n",
              "      <th>211781</th>\n",
              "      <td>The Horse Whisperer</td>\n",
              "      <td>Nicholas Evans</td>\n",
              "      <td>http://images.amazon.com/images/P/0440222656.0...</td>\n",
              "      <td>507</td>\n",
              "      <td>2.686391</td>\n",
              "      <td>1996</td>\n",
              "    </tr>\n",
              "    <tr>\n",
              "      <th>225650</th>\n",
              "      <td>The Rainmaker</td>\n",
              "      <td>JOHN GRISHAM</td>\n",
              "      <td>http://images.amazon.com/images/P/044022165X.0...</td>\n",
              "      <td>501</td>\n",
              "      <td>2.922156</td>\n",
              "      <td>1996</td>\n",
              "    </tr>\n",
              "  </tbody>\n",
              "</table>\n",
              "</div>"
            ],
            "text/plain": [
              "                                               Book-Title       Book-Author  \\\n",
              "259948                                        Wild Animus      Rich Shapero   \n",
              "216975                          The Lovely Bones: A Novel      Alice Sebold   \n",
              "202378                                  The Da Vinci Code         Dan Brown   \n",
              "5751                                      A Painted House      John Grisham   \n",
              "220250                         The Nanny Diaries: A Novel   Emma McLaughlin   \n",
              "30921                               Bridget Jones's Diary    Helen Fielding   \n",
              "228526                            The Secret Life of Bees     Sue Monk Kidd   \n",
              "58271     Divine Secrets of the Ya-Ya Sisterhood: A Novel     Rebecca Wells   \n",
              "226087                The Red Tent (Bestselling Backlist)     Anita Diamant   \n",
              "15870                                 Angels &amp; Demons         Dan Brown   \n",
              "118368                                         Life of Pi       Yann Martel   \n",
              "179111                             Snow Falling on Cedars    David Guterson   \n",
              "231701                                        The Summons      John Grisham   \n",
              "221380                                       The Notebook   Nicholas Sparks   \n",
              "232594                                      The Testament      John Grisham   \n",
              "94650                               House of Sand and Fog   Andre Dubus III   \n",
              "258238  Where the Heart Is (Oprah's Book Club (Paperba...      Billie Letts   \n",
              "223020                                  The Pelican Brief      John Grisham   \n",
              "88557   Harry Potter and the Sorcerer's Stone (Harry P...     J. K. Rowling   \n",
              "208867            The Girls' Guide to Hunting and Fishing      Melissa Bank   \n",
              "186443                                     Summer Sisters        Judy Blume   \n",
              "207037                                           The Firm      John Grisham   \n",
              "223665                         The Pilot's Wife : A Novel      Anita Shreve   \n",
              "197589                                       The Brethren      JOHN GRISHAM   \n",
              "88512    Harry Potter and the Chamber of Secrets (Book 2)     J. K. Rowling   \n",
              "213636                                  The Joy Luck Club           Amy Tan   \n",
              "242905                                           Timeline  MICHAEL CRICHTON   \n",
              "7651                                       A Time to Kill      JOHN GRISHAM   \n",
              "231483                                  The Street Lawyer      JOHN GRISHAM   \n",
              "82296                           Girl with a Pearl Earring   Tracy Chevalier   \n",
              "227383                                   The Runaway Jury      JOHN GRISHAM   \n",
              "243360                              To Kill a Mockingbird        Harper Lee   \n",
              "199233                                        The Chamber      John Grisham   \n",
              "850                                   1st to Die: A Novel   James Patterson   \n",
              "102700                         Interview with the Vampire         Anne Rice   \n",
              "211781                                The Horse Whisperer    Nicholas Evans   \n",
              "225650                                      The Rainmaker      JOHN GRISHAM   \n",
              "\n",
              "                                              Image-URL-M  Number of Rating  \\\n",
              "259948  http://images.amazon.com/images/P/0971880107.0...              2502   \n",
              "216975  http://images.amazon.com/images/P/0316666343.0...              1295   \n",
              "202378  http://images.amazon.com/images/P/0385504209.0...               897   \n",
              "5751    http://images.amazon.com/images/P/044023722X.0...               838   \n",
              "220250  http://images.amazon.com/images/P/0312278586.0...               828   \n",
              "30921   http://images.amazon.com/images/P/0330332775.0...               815   \n",
              "228526  http://images.amazon.com/images/P/0142001740.0...               774   \n",
              "58271   http://images.amazon.com/images/P/0060928336.0...               740   \n",
              "226087  http://images.amazon.com/images/P/0312195516.0...               723   \n",
              "15870   http://images.amazon.com/images/P/0671027360.0...               670   \n",
              "118368  http://images.amazon.com/images/P/0151008116.0...               664   \n",
              "179111  http://images.amazon.com/images/P/0151001006.0...               662   \n",
              "231701  http://images.amazon.com/images/P/0440241073.0...               655   \n",
              "221380  http://images.amazon.com/images/P/0446605239.0...               650   \n",
              "232594  http://images.amazon.com/images/P/0440234743.0...               617   \n",
              "94650   http://images.amazon.com/images/P/0375727345.0...               588   \n",
              "258238  http://images.amazon.com/images/P/0446672211.0...               585   \n",
              "223020  http://images.amazon.com/images/P/0440214041.0...               581   \n",
              "88557   http://images.amazon.com/images/P/059035342X.0...               575   \n",
              "208867  http://images.amazon.com/images/P/0140293248.0...               573   \n",
              "186443  http://images.amazon.com/images/P/0385324057.0...               572   \n",
              "207037  http://images.amazon.com/images/P/0385416342.0...               569   \n",
              "223665  http://images.amazon.com/images/P/0316601950.0...               568   \n",
              "197589  http://images.amazon.com/images/P/0385497466.0...               556   \n",
              "88512   http://images.amazon.com/images/P/0439064872.0...               556   \n",
              "213636  http://images.amazon.com/images/P/0804106304.0...               555   \n",
              "242905  http://images.amazon.com/images/P/0345417623.0...               550   \n",
              "7651    http://images.amazon.com/images/P/0440211727.0...               549   \n",
              "231483  http://images.amazon.com/images/P/0440225701.0...               545   \n",
              "82296   http://images.amazon.com/images/P/0452282152.0...               526   \n",
              "227383  http://images.amazon.com/images/P/0440221471.0...               520   \n",
              "243360  http://images.amazon.com/images/P/0446310786.0...               510   \n",
              "199233  http://images.amazon.com/images/P/0385424728.0...               509   \n",
              "850     http://images.amazon.com/images/P/0446610038.0...               509   \n",
              "102700  http://images.amazon.com/images/P/0345337662.0...               508   \n",
              "211781  http://images.amazon.com/images/P/0440222656.0...               507   \n",
              "225650  http://images.amazon.com/images/P/044022165X.0...               501   \n",
              "\n",
              "        Average Rating Year-Of-Publication  \n",
              "259948        1.019584                2004  \n",
              "216975        4.468726                2002  \n",
              "202378        4.647715                2003  \n",
              "5751          3.231504                2001  \n",
              "220250        3.530193                2002  \n",
              "30921         3.527607                1997  \n",
              "228526        4.447028                2003  \n",
              "58271         3.437838                1997  \n",
              "226087        4.334716                1998  \n",
              "15870         3.708955                2001  \n",
              "118368        4.088855                2002  \n",
              "179111        3.252266                1994  \n",
              "231701        3.432061                2002  \n",
              "221380        3.560000                1998  \n",
              "232594        3.179903                1999  \n",
              "94650         3.030612                2000  \n",
              "258238        4.105983                1998  \n",
              "223020        2.611015                1993  \n",
              "88557         4.895652                1999  \n",
              "208867        3.139616                2000  \n",
              "186443        3.367133                1998  \n",
              "207037        3.080844                1991  \n",
              "223665        3.593310                1999  \n",
              "197589        2.850719                2000  \n",
              "88512         5.183453                2000  \n",
              "213636        3.055856                1994  \n",
              "242905        3.763636                2000  \n",
              "7651          3.122040                1992  \n",
              "231483        2.851376                1999  \n",
              "82296         4.218631                2001  \n",
              "227383        2.880769                1997  \n",
              "243360        4.700000                1988  \n",
              "199233        3.015717                1994  \n",
              "850           3.575639                2002  \n",
              "102700        3.551181                1993  \n",
              "211781        2.686391                1996  \n",
              "225650        2.922156                1996  "
            ]
          },
          "execution_count": 50,
          "metadata": {},
          "output_type": "execute_result"
        }
      ],
      "source": [
        "#Popular author and their book based on the number of ratings\n",
        "df3[df3['Number of Rating']>500].sort_values('Number of Rating',ascending=False)"
      ]
    },
    {
      "cell_type": "markdown",
      "metadata": {
        "id": "b3FekLcb8dEH"
      },
      "source": [
        "**Country Wise PLot**"
      ]
    },
    {
      "cell_type": "code",
      "execution_count": null,
      "metadata": {
        "id": "_6dY0qsU5jOI"
      },
      "outputs": [],
      "source": [
        "#To find the number of reader who has made a review country wise\n",
        "country_count=final_data.groupby('country').count()['Book-Rating'].reset_index()\n",
        "country_count.rename(columns={'Book-Rating':'Number of ratings'},inplace=True)"
      ]
    },
    {
      "cell_type": "code",
      "execution_count": null,
      "metadata": {
        "colab": {
          "base_uri": "https://localhost:8080/",
          "height": 206
        },
        "id": "nyUfxrIf69px",
        "outputId": "bb32ff4a-1647-4d62-fd70-e6d38cf37fa1"
      },
      "outputs": [
        {
          "data": {
            "text/html": [
              "<div>\n",
              "<style scoped>\n",
              "    .dataframe tbody tr th:only-of-type {\n",
              "        vertical-align: middle;\n",
              "    }\n",
              "\n",
              "    .dataframe tbody tr th {\n",
              "        vertical-align: top;\n",
              "    }\n",
              "\n",
              "    .dataframe thead th {\n",
              "        text-align: right;\n",
              "    }\n",
              "</style>\n",
              "<table border=\"1\" class=\"dataframe\">\n",
              "  <thead>\n",
              "    <tr style=\"text-align: right;\">\n",
              "      <th></th>\n",
              "      <th>index</th>\n",
              "      <th>country</th>\n",
              "      <th>Number of ratings</th>\n",
              "    </tr>\n",
              "  </thead>\n",
              "  <tbody>\n",
              "    <tr>\n",
              "      <th>0</th>\n",
              "      <td>267</td>\n",
              "      <td>usa</td>\n",
              "      <td>742010</td>\n",
              "    </tr>\n",
              "    <tr>\n",
              "      <th>1</th>\n",
              "      <td>41</td>\n",
              "      <td>canada</td>\n",
              "      <td>91868</td>\n",
              "    </tr>\n",
              "    <tr>\n",
              "      <th>2</th>\n",
              "      <td>255</td>\n",
              "      <td>united kingdom</td>\n",
              "      <td>30564</td>\n",
              "    </tr>\n",
              "    <tr>\n",
              "      <th>3</th>\n",
              "      <td>91</td>\n",
              "      <td>germany</td>\n",
              "      <td>26523</td>\n",
              "    </tr>\n",
              "    <tr>\n",
              "      <th>4</th>\n",
              "      <td>0</td>\n",
              "      <td></td>\n",
              "      <td>23966</td>\n",
              "    </tr>\n",
              "  </tbody>\n",
              "</table>\n",
              "</div>"
            ],
            "text/plain": [
              "   index          country  Number of ratings\n",
              "0    267              usa             742010\n",
              "1     41           canada              91868\n",
              "2    255   united kingdom              30564\n",
              "3     91          germany              26523\n",
              "4      0                               23966"
            ]
          },
          "execution_count": 52,
          "metadata": {},
          "output_type": "execute_result"
        }
      ],
      "source": [
        "#Setting min number of rating to 20 inorder to remove all insignificant country names\n",
        "active_user=country_count[country_count['Number of ratings']>20].sort_values('Number of ratings',ascending=False).reset_index()\n",
        "active_user.head()"
      ]
    },
    {
      "cell_type": "code",
      "execution_count": null,
      "metadata": {
        "id": "P8IWLxfSrqKE"
      },
      "outputs": [],
      "source": [
        "#Removing the data that is having country with n/a and null value\n",
        "active_user.drop(active_user[active_user['country']==''].index,inplace=True)\n",
        "active_user.drop(active_user[active_user['Number of ratings']==10947].index,inplace=True)\n",
        "active_user.drop(['index'],axis=1,inplace=True)       #Removing index column"
      ]
    },
    {
      "cell_type": "code",
      "execution_count": null,
      "metadata": {
        "colab": {
          "base_uri": "https://localhost:8080/",
          "height": 519
        },
        "id": "sbAFjKXOuiBl",
        "outputId": "babc5883-45dc-45c3-f9b7-0a06c0851672"
      },
      "outputs": [
        {
          "data": {
            "text/html": [
              "<div>\n",
              "<style scoped>\n",
              "    .dataframe tbody tr th:only-of-type {\n",
              "        vertical-align: middle;\n",
              "    }\n",
              "\n",
              "    .dataframe tbody tr th {\n",
              "        vertical-align: top;\n",
              "    }\n",
              "\n",
              "    .dataframe thead th {\n",
              "        text-align: right;\n",
              "    }\n",
              "</style>\n",
              "<table border=\"1\" class=\"dataframe\">\n",
              "  <thead>\n",
              "    <tr style=\"text-align: right;\">\n",
              "      <th></th>\n",
              "      <th>country</th>\n",
              "      <th>Number of ratings</th>\n",
              "    </tr>\n",
              "  </thead>\n",
              "  <tbody>\n",
              "    <tr>\n",
              "      <th>0</th>\n",
              "      <td>usa</td>\n",
              "      <td>742010</td>\n",
              "    </tr>\n",
              "    <tr>\n",
              "      <th>1</th>\n",
              "      <td>canada</td>\n",
              "      <td>91868</td>\n",
              "    </tr>\n",
              "    <tr>\n",
              "      <th>2</th>\n",
              "      <td>united kingdom</td>\n",
              "      <td>30564</td>\n",
              "    </tr>\n",
              "    <tr>\n",
              "      <th>3</th>\n",
              "      <td>germany</td>\n",
              "      <td>26523</td>\n",
              "    </tr>\n",
              "    <tr>\n",
              "      <th>5</th>\n",
              "      <td>australia</td>\n",
              "      <td>17167</td>\n",
              "    </tr>\n",
              "    <tr>\n",
              "      <th>6</th>\n",
              "      <td>spain</td>\n",
              "      <td>14678</td>\n",
              "    </tr>\n",
              "    <tr>\n",
              "      <th>8</th>\n",
              "      <td>france</td>\n",
              "      <td>9688</td>\n",
              "    </tr>\n",
              "    <tr>\n",
              "      <th>9</th>\n",
              "      <td>portugal</td>\n",
              "      <td>6805</td>\n",
              "    </tr>\n",
              "    <tr>\n",
              "      <th>10</th>\n",
              "      <td>new zealand</td>\n",
              "      <td>5288</td>\n",
              "    </tr>\n",
              "    <tr>\n",
              "      <th>11</th>\n",
              "      <td>malaysia</td>\n",
              "      <td>5022</td>\n",
              "    </tr>\n",
              "    <tr>\n",
              "      <th>12</th>\n",
              "      <td>netherlands</td>\n",
              "      <td>4814</td>\n",
              "    </tr>\n",
              "    <tr>\n",
              "      <th>13</th>\n",
              "      <td>switzerland</td>\n",
              "      <td>3919</td>\n",
              "    </tr>\n",
              "    <tr>\n",
              "      <th>14</th>\n",
              "      <td>italy</td>\n",
              "      <td>2953</td>\n",
              "    </tr>\n",
              "    <tr>\n",
              "      <th>15</th>\n",
              "      <td>austria</td>\n",
              "      <td>2673</td>\n",
              "    </tr>\n",
              "    <tr>\n",
              "      <th>16</th>\n",
              "      <td>iran</td>\n",
              "      <td>1632</td>\n",
              "    </tr>\n",
              "  </tbody>\n",
              "</table>\n",
              "</div>"
            ],
            "text/plain": [
              "            country  Number of ratings\n",
              "0               usa             742010\n",
              "1            canada              91868\n",
              "2    united kingdom              30564\n",
              "3           germany              26523\n",
              "5         australia              17167\n",
              "6             spain              14678\n",
              "8            france               9688\n",
              "9          portugal               6805\n",
              "10      new zealand               5288\n",
              "11         malaysia               5022\n",
              "12      netherlands               4814\n",
              "13      switzerland               3919\n",
              "14            italy               2953\n",
              "15          austria               2673\n",
              "16             iran               1632"
            ]
          },
          "execution_count": 54,
          "metadata": {},
          "output_type": "execute_result"
        }
      ],
      "source": [
        "#Table show Number of Active reader based country\n",
        "active_user.head(15)"
      ]
    },
    {
      "cell_type": "code",
      "execution_count": null,
      "metadata": {
        "colab": {
          "base_uri": "https://localhost:8080/",
          "height": 693
        },
        "id": "4MbmsBcM7hLV",
        "outputId": "11e5fb2b-8591-4c75-e930-c1a27ecdc11f"
      },
      "outputs": [
        {
          "data": {
            "text/plain": [
              "Text(0.5, 1.0, 'Number of reader vs Country')"
            ]
          },
          "execution_count": 55,
          "metadata": {},
          "output_type": "execute_result"
        },
        {
          "data": {
            "image/png": "[encoded data removed]",
            "text/plain": [
              "<Figure size 1080x720 with 1 Axes>"
            ]
          },
          "metadata": {
            "needs_background": "light"
          },
          "output_type": "display_data"
        }
      ],
      "source": [
        "#Extracting Number of Active reader based country\n",
        "plt.figure(figsize=(15,10))\n",
        "plt.xticks(rotation=45)\n",
        "sns.barplot(x='country',y='Number of ratings',data=active_user.head(15))\n",
        "plt.title('Number of reader vs Country')"
      ]
    },
    {
      "cell_type": "code",
      "execution_count": null,
      "metadata": {
        "colab": {
          "base_uri": "https://localhost:8080/",
          "height": 575
        },
        "id": "V7mMrFIyhyip",
        "outputId": "defb9160-0907-4585-fc55-e4bf0c8f5835"
      },
      "outputs": [
        {
          "data": {
            "image/png": "[encoded data removed]",
            "text/plain": [
              "<Figure size 720x720 with 1 Axes>"
            ]
          },
          "metadata": {},
          "output_type": "display_data"
        }
      ],
      "source": [
        "#Top 10 countries Based on active users\n",
        "plt.figure(figsize=(10,10))\n",
        "plt.pie(active_user['Number of ratings'].head(10), labels=active_user['country'].head(10),autopct='%.0f%%',shadow=True, rotatelabels='true')\n",
        "plt.show()"
      ]
    },
    {
      "cell_type": "markdown",
      "metadata": {
        "id": "OsgipU_VvDkO"
      },
      "source": [
        "**Popular publisher**"
      ]
    },
    {
      "cell_type": "code",
      "execution_count": null,
      "metadata": {
        "colab": {
          "base_uri": "https://localhost:8080/",
          "height": 363
        },
        "id": "r8k87ml0vKky",
        "outputId": "3f21b582-b009-4790-9296-9aea4ad36285"
      },
      "outputs": [
        {
          "data": {
            "text/html": [
              "<div>\n",
              "<style scoped>\n",
              "    .dataframe tbody tr th:only-of-type {\n",
              "        vertical-align: middle;\n",
              "    }\n",
              "\n",
              "    .dataframe tbody tr th {\n",
              "        vertical-align: top;\n",
              "    }\n",
              "\n",
              "    .dataframe thead th {\n",
              "        text-align: right;\n",
              "    }\n",
              "</style>\n",
              "<table border=\"1\" class=\"dataframe\">\n",
              "  <thead>\n",
              "    <tr style=\"text-align: right;\">\n",
              "      <th></th>\n",
              "      <th>Publisher</th>\n",
              "      <th>Number of ratings</th>\n",
              "    </tr>\n",
              "  </thead>\n",
              "  <tbody>\n",
              "    <tr>\n",
              "      <th>1360</th>\n",
              "      <td>Ballantine Books</td>\n",
              "      <td>34697</td>\n",
              "    </tr>\n",
              "    <tr>\n",
              "      <th>11437</th>\n",
              "      <td>Pocket</td>\n",
              "      <td>31922</td>\n",
              "    </tr>\n",
              "    <tr>\n",
              "      <th>1682</th>\n",
              "      <td>Berkley Publishing Group</td>\n",
              "      <td>28609</td>\n",
              "    </tr>\n",
              "    <tr>\n",
              "      <th>15469</th>\n",
              "      <td>Warner Books</td>\n",
              "      <td>25471</td>\n",
              "    </tr>\n",
              "    <tr>\n",
              "      <th>6407</th>\n",
              "      <td>Harlequin</td>\n",
              "      <td>25027</td>\n",
              "    </tr>\n",
              "    <tr>\n",
              "      <th>1390</th>\n",
              "      <td>Bantam Books</td>\n",
              "      <td>23574</td>\n",
              "    </tr>\n",
              "    <tr>\n",
              "      <th>1386</th>\n",
              "      <td>Bantam</td>\n",
              "      <td>20001</td>\n",
              "    </tr>\n",
              "    <tr>\n",
              "      <th>13269</th>\n",
              "      <td>Signet Book</td>\n",
              "      <td>19152</td>\n",
              "    </tr>\n",
              "    <tr>\n",
              "      <th>1221</th>\n",
              "      <td>Avon</td>\n",
              "      <td>17351</td>\n",
              "    </tr>\n",
              "    <tr>\n",
              "      <th>11075</th>\n",
              "      <td>Penguin Books</td>\n",
              "      <td>17027</td>\n",
              "    </tr>\n",
              "  </tbody>\n",
              "</table>\n",
              "</div>"
            ],
            "text/plain": [
              "                      Publisher  Number of ratings\n",
              "1360           Ballantine Books              34697\n",
              "11437                    Pocket              31922\n",
              "1682   Berkley Publishing Group              28609\n",
              "15469              Warner Books              25471\n",
              "6407                  Harlequin              25027\n",
              "1390               Bantam Books              23574\n",
              "1386                     Bantam              20001\n",
              "13269               Signet Book              19152\n",
              "1221                       Avon              17351\n",
              "11075             Penguin Books              17027"
            ]
          },
          "execution_count": 57,
          "metadata": {},
          "output_type": "execute_result"
        }
      ],
      "source": [
        "#Top get the popular publisher based on the number of ratings\n",
        "popular_publisher=final_data.groupby('Publisher').count()['Book-Rating'].reset_index().sort_values('Book-Rating',ascending=False)\n",
        "popular_publisher.rename(columns={'Book-Rating':'Number of ratings'},inplace=True)  #Renaming the column to number of ratings\n",
        "popular_publisher.head(10)  #Top 10 popular publishers"
      ]
    },
    {
      "cell_type": "code",
      "execution_count": null,
      "metadata": {
        "colab": {
          "base_uri": "https://localhost:8080/",
          "height": 724
        },
        "id": "5U_80YZIwxwy",
        "outputId": "84313ff7-8bc1-4c4c-e7f0-ee7aa5285c1a"
      },
      "outputs": [
        {
          "data": {
            "text/plain": [
              "Text(0.5, 1.0, 'Popular Publishers')"
            ]
          },
          "execution_count": 58,
          "metadata": {},
          "output_type": "execute_result"
        },
        {
          "data": {
            "image/png": "[encoded data removed]",
            "text/plain": [
              "<Figure size 1080x720 with 1 Axes>"
            ]
          },
          "metadata": {
            "needs_background": "light"
          },
          "output_type": "display_data"
        }
      ],
      "source": [
        "#Popular publisher based on the number of ratings\n",
        "plt.figure(figsize=(15,10))\n",
        "plt.xticks(rotation=45)\n",
        "sns.barplot(x='Publisher',y='Number of ratings',data=popular_publisher.head(15))\n",
        "plt.title('Popular Publishers')"
      ]
    },
    {
      "cell_type": "markdown",
      "metadata": {
        "id": "RNd15_yUxQH6"
      },
      "source": [
        "**Popular Author**"
      ]
    },
    {
      "cell_type": "code",
      "execution_count": null,
      "metadata": {
        "colab": {
          "base_uri": "https://localhost:8080/",
          "height": 206
        },
        "id": "dXVeMryLxSY3",
        "outputId": "3e6a30e0-b0be-463a-9da8-45b27088a280"
      },
      "outputs": [
        {
          "data": {
            "text/html": [
              "<div>\n",
              "<style scoped>\n",
              "    .dataframe tbody tr th:only-of-type {\n",
              "        vertical-align: middle;\n",
              "    }\n",
              "\n",
              "    .dataframe tbody tr th {\n",
              "        vertical-align: top;\n",
              "    }\n",
              "\n",
              "    .dataframe thead th {\n",
              "        text-align: right;\n",
              "    }\n",
              "</style>\n",
              "<table border=\"1\" class=\"dataframe\">\n",
              "  <thead>\n",
              "    <tr style=\"text-align: right;\">\n",
              "      <th></th>\n",
              "      <th>Book-Author</th>\n",
              "      <th>Number of ratings</th>\n",
              "      <th>Average-Rating</th>\n",
              "    </tr>\n",
              "  </thead>\n",
              "  <tbody>\n",
              "    <tr>\n",
              "      <th>0</th>\n",
              "      <td>Stephen King</td>\n",
              "      <td>9967</td>\n",
              "      <td>3.610515</td>\n",
              "    </tr>\n",
              "    <tr>\n",
              "      <th>1</th>\n",
              "      <td>Nora Roberts</td>\n",
              "      <td>8427</td>\n",
              "      <td>2.660021</td>\n",
              "    </tr>\n",
              "    <tr>\n",
              "      <th>2</th>\n",
              "      <td>John Grisham</td>\n",
              "      <td>5958</td>\n",
              "      <td>3.191172</td>\n",
              "    </tr>\n",
              "    <tr>\n",
              "      <th>3</th>\n",
              "      <td>James Patterson</td>\n",
              "      <td>5839</td>\n",
              "      <td>3.145402</td>\n",
              "    </tr>\n",
              "    <tr>\n",
              "      <th>4</th>\n",
              "      <td>Mary Higgins Clark</td>\n",
              "      <td>4768</td>\n",
              "      <td>2.631292</td>\n",
              "    </tr>\n",
              "  </tbody>\n",
              "</table>\n",
              "</div>"
            ],
            "text/plain": [
              "          Book-Author  Number of ratings  Average-Rating\n",
              "0        Stephen King               9967        3.610515\n",
              "1        Nora Roberts               8427        2.660021\n",
              "2        John Grisham               5958        3.191172\n",
              "3     James Patterson               5839        3.145402\n",
              "4  Mary Higgins Clark               4768        2.631292"
            ]
          },
          "execution_count": 59,
          "metadata": {},
          "output_type": "execute_result"
        }
      ],
      "source": [
        "#Top get the popular Author based on the number of ratings\n",
        "count=final_data.groupby('Book-Author').count()['Book-Rating'].reset_index().sort_values('Book-Rating',ascending=False) #To get number of ratings count\n",
        "count.rename(columns={'Book-Rating':'Number of ratings'},inplace=True)                                                  #Renaming the column\n",
        "mean=final_data.groupby('Book-Author').mean()['Book-Rating'].reset_index().sort_values('Book-Rating',ascending=False)   #To get average of rating\n",
        "mean.rename(columns={'Book-Rating':'Average-Rating'},inplace=True)\n",
        "popular_author=count.merge(mean,on='Book-Author')                                                                       #Merging the 2 table\n",
        "popular_author.head()"
      ]
    },
    {
      "cell_type": "code",
      "execution_count": null,
      "metadata": {
        "id": "_Ljr_iv3y1gH"
      },
      "outputs": [],
      "source": [
        "#Updating the data set by selecting only author which has min 1500 rating \n",
        "popular_author=popular_author[popular_author['Number of ratings']>1500].sort_values('Average-Rating',ascending=False)"
      ]
    },
    {
      "cell_type": "code",
      "execution_count": null,
      "metadata": {
        "colab": {
          "base_uri": "https://localhost:8080/",
          "height": 724
        },
        "id": "8AHKWBA16hKY",
        "outputId": "41ed9e44-0757-47c6-dd7c-4250b461a18c"
      },
      "outputs": [
        {
          "data": {
            "text/plain": [
              "Text(0.5, 1.0, 'Top 15 popular autho')"
            ]
          },
          "execution_count": 61,
          "metadata": {},
          "output_type": "execute_result"
        },
        {
          "data": {
            "image/png": "[encoded data removed]",
            "text/plain": [
              "<Figure size 1080x720 with 1 Axes>"
            ]
          },
          "metadata": {
            "needs_background": "light"
          },
          "output_type": "display_data"
        }
      ],
      "source": [
        "#Popular publisher based on the number of ratings\n",
        "plt.figure(figsize=(15,10))\n",
        "plt.xticks(rotation=60)\n",
        "sns.barplot(x='Book-Author',y='Number of ratings',data=popular_author.head(15))\n",
        "plt.title('Top 15 popular autho')"
      ]
    },
    {
      "cell_type": "code",
      "execution_count": null,
      "metadata": {
        "colab": {
          "base_uri": "https://localhost:8080/",
          "height": 519
        },
        "id": "rtZXontb6zsb",
        "outputId": "5a17344f-72f1-4d4a-ed67-d8d960a4d500"
      },
      "outputs": [
        {
          "data": {
            "text/html": [
              "<div>\n",
              "<style scoped>\n",
              "    .dataframe tbody tr th:only-of-type {\n",
              "        vertical-align: middle;\n",
              "    }\n",
              "\n",
              "    .dataframe tbody tr th {\n",
              "        vertical-align: top;\n",
              "    }\n",
              "\n",
              "    .dataframe thead th {\n",
              "        text-align: right;\n",
              "    }\n",
              "</style>\n",
              "<table border=\"1\" class=\"dataframe\">\n",
              "  <thead>\n",
              "    <tr style=\"text-align: right;\">\n",
              "      <th></th>\n",
              "      <th>Book-Author</th>\n",
              "      <th>Number of ratings</th>\n",
              "      <th>Average-Rating</th>\n",
              "    </tr>\n",
              "  </thead>\n",
              "  <tbody>\n",
              "    <tr>\n",
              "      <th>12</th>\n",
              "      <td>J. K. Rowling</td>\n",
              "      <td>2908</td>\n",
              "      <td>5.385832</td>\n",
              "    </tr>\n",
              "    <tr>\n",
              "      <th>46</th>\n",
              "      <td>Neil Gaiman</td>\n",
              "      <td>1509</td>\n",
              "      <td>4.500994</td>\n",
              "    </tr>\n",
              "    <tr>\n",
              "      <th>35</th>\n",
              "      <td>Alice Sebold</td>\n",
              "      <td>1806</td>\n",
              "      <td>4.198782</td>\n",
              "    </tr>\n",
              "    <tr>\n",
              "      <th>42</th>\n",
              "      <td>Terry Pratchett</td>\n",
              "      <td>1545</td>\n",
              "      <td>4.192233</td>\n",
              "    </tr>\n",
              "    <tr>\n",
              "      <th>23</th>\n",
              "      <td>Dan Brown</td>\n",
              "      <td>2227</td>\n",
              "      <td>4.023799</td>\n",
              "    </tr>\n",
              "    <tr>\n",
              "      <th>41</th>\n",
              "      <td>William Shakespeare</td>\n",
              "      <td>1730</td>\n",
              "      <td>3.928902</td>\n",
              "    </tr>\n",
              "    <tr>\n",
              "      <th>25</th>\n",
              "      <td>Barbara Kingsolver</td>\n",
              "      <td>2190</td>\n",
              "      <td>3.718721</td>\n",
              "    </tr>\n",
              "    <tr>\n",
              "      <th>0</th>\n",
              "      <td>Stephen King</td>\n",
              "      <td>9967</td>\n",
              "      <td>3.610515</td>\n",
              "    </tr>\n",
              "    <tr>\n",
              "      <th>9</th>\n",
              "      <td>Janet Evanovich</td>\n",
              "      <td>3346</td>\n",
              "      <td>3.535565</td>\n",
              "    </tr>\n",
              "    <tr>\n",
              "      <th>32</th>\n",
              "      <td>Anne McCaffrey</td>\n",
              "      <td>1932</td>\n",
              "      <td>3.513458</td>\n",
              "    </tr>\n",
              "    <tr>\n",
              "      <th>44</th>\n",
              "      <td>Jane Austen</td>\n",
              "      <td>1525</td>\n",
              "      <td>3.474098</td>\n",
              "    </tr>\n",
              "    <tr>\n",
              "      <th>34</th>\n",
              "      <td>Jack Canfield</td>\n",
              "      <td>1818</td>\n",
              "      <td>3.449945</td>\n",
              "    </tr>\n",
              "    <tr>\n",
              "      <th>38</th>\n",
              "      <td>Rebecca Wells</td>\n",
              "      <td>1798</td>\n",
              "      <td>3.378754</td>\n",
              "    </tr>\n",
              "    <tr>\n",
              "      <th>16</th>\n",
              "      <td>Nicholas Sparks</td>\n",
              "      <td>2646</td>\n",
              "      <td>3.303099</td>\n",
              "    </tr>\n",
              "    <tr>\n",
              "      <th>40</th>\n",
              "      <td>John Irving</td>\n",
              "      <td>1753</td>\n",
              "      <td>3.274387</td>\n",
              "    </tr>\n",
              "  </tbody>\n",
              "</table>\n",
              "</div>"
            ],
            "text/plain": [
              "            Book-Author  Number of ratings  Average-Rating\n",
              "12        J. K. Rowling               2908        5.385832\n",
              "46          Neil Gaiman               1509        4.500994\n",
              "35         Alice Sebold               1806        4.198782\n",
              "42      Terry Pratchett               1545        4.192233\n",
              "23            Dan Brown               2227        4.023799\n",
              "41  William Shakespeare               1730        3.928902\n",
              "25   Barbara Kingsolver               2190        3.718721\n",
              "0          Stephen King               9967        3.610515\n",
              "9       Janet Evanovich               3346        3.535565\n",
              "32       Anne McCaffrey               1932        3.513458\n",
              "44          Jane Austen               1525        3.474098\n",
              "34        Jack Canfield               1818        3.449945\n",
              "38        Rebecca Wells               1798        3.378754\n",
              "16      Nicholas Sparks               2646        3.303099\n",
              "40          John Irving               1753        3.274387"
            ]
          },
          "execution_count": 62,
          "metadata": {},
          "output_type": "execute_result"
        }
      ],
      "source": [
        "popular_author.head(15)"
      ]
    },
    {
      "cell_type": "code",
      "execution_count": null,
      "metadata": {
        "id": "4BbWFt5fdbQx"
      },
      "outputs": [],
      "source": [
        "#Creating a separate data for weighted average\n",
        "data=final_data.copy()\n",
        "data['average_rating']=data.groupby('Book-Title')['Book-Rating'].transform('mean')   #Creating r for the equation\n",
        "data['no_of_ratings']=data.groupby('Book-Title')['Book-Rating'].transform('count')   #Creating v for the equation"
      ]
    },
    {
      "cell_type": "code",
      "execution_count": null,
      "metadata": {
        "id": "Fv5VZHyfKwfH",
        "outputId": "97ebe553-ecfd-4167-f61f-01d742ab84e7"
      },
      "outputs": [
        {
          "data": {
            "text/html": [
              "<div>\n",
              "<style scoped>\n",
              "    .dataframe tbody tr th:only-of-type {\n",
              "        vertical-align: middle;\n",
              "    }\n",
              "\n",
              "    .dataframe tbody tr th {\n",
              "        vertical-align: top;\n",
              "    }\n",
              "\n",
              "    .dataframe thead th {\n",
              "        text-align: right;\n",
              "    }\n",
              "</style>\n",
              "<table border=\"1\" class=\"dataframe\">\n",
              "  <thead>\n",
              "    <tr style=\"text-align: right;\">\n",
              "      <th></th>\n",
              "      <th>ISBN</th>\n",
              "      <th>Book-Title</th>\n",
              "      <th>Book-Author</th>\n",
              "      <th>Year-Of-Publication</th>\n",
              "      <th>Publisher</th>\n",
              "      <th>Image-URL-M</th>\n",
              "      <th>User-ID</th>\n",
              "      <th>Book-Rating</th>\n",
              "      <th>Age</th>\n",
              "      <th>country</th>\n",
              "    </tr>\n",
              "  </thead>\n",
              "  <tbody>\n",
              "    <tr>\n",
              "      <th>0</th>\n",
              "      <td>0195153448</td>\n",
              "      <td>Classical Mythology</td>\n",
              "      <td>Mark P. O. Morford</td>\n",
              "      <td>2002</td>\n",
              "      <td>Oxford University Press</td>\n",
              "      <td>http://images.amazon.com/images/P/0195153448.0...</td>\n",
              "      <td>2</td>\n",
              "      <td>0</td>\n",
              "      <td>18.0</td>\n",
              "      <td>usa</td>\n",
              "    </tr>\n",
              "    <tr>\n",
              "      <th>1</th>\n",
              "      <td>0002005018</td>\n",
              "      <td>Clara Callan</td>\n",
              "      <td>Richard Bruce Wright</td>\n",
              "      <td>2001</td>\n",
              "      <td>HarperFlamingo Canada</td>\n",
              "      <td>http://images.amazon.com/images/P/0002005018.0...</td>\n",
              "      <td>8</td>\n",
              "      <td>5</td>\n",
              "      <td>36.0</td>\n",
              "      <td>canada</td>\n",
              "    </tr>\n",
              "    <tr>\n",
              "      <th>2</th>\n",
              "      <td>0060973129</td>\n",
              "      <td>Decision in Normandy</td>\n",
              "      <td>Carlo D'Este</td>\n",
              "      <td>1991</td>\n",
              "      <td>HarperPerennial</td>\n",
              "      <td>http://images.amazon.com/images/P/0060973129.0...</td>\n",
              "      <td>8</td>\n",
              "      <td>0</td>\n",
              "      <td>36.0</td>\n",
              "      <td>canada</td>\n",
              "    </tr>\n",
              "    <tr>\n",
              "      <th>3</th>\n",
              "      <td>0374157065</td>\n",
              "      <td>Flu: The Story of the Great Influenza Pandemic...</td>\n",
              "      <td>Gina Bari Kolata</td>\n",
              "      <td>1999</td>\n",
              "      <td>Farrar Straus Giroux</td>\n",
              "      <td>http://images.amazon.com/images/P/0374157065.0...</td>\n",
              "      <td>8</td>\n",
              "      <td>0</td>\n",
              "      <td>36.0</td>\n",
              "      <td>canada</td>\n",
              "    </tr>\n",
              "    <tr>\n",
              "      <th>4</th>\n",
              "      <td>0393045218</td>\n",
              "      <td>The Mummies of Urumchi</td>\n",
              "      <td>E. J. W. Barber</td>\n",
              "      <td>1999</td>\n",
              "      <td>W. W. Norton &amp;amp; Company</td>\n",
              "      <td>http://images.amazon.com/images/P/0393045218.0...</td>\n",
              "      <td>8</td>\n",
              "      <td>0</td>\n",
              "      <td>36.0</td>\n",
              "      <td>canada</td>\n",
              "    </tr>\n",
              "    <tr>\n",
              "      <th>...</th>\n",
              "      <td>...</td>\n",
              "      <td>...</td>\n",
              "      <td>...</td>\n",
              "      <td>...</td>\n",
              "      <td>...</td>\n",
              "      <td>...</td>\n",
              "      <td>...</td>\n",
              "      <td>...</td>\n",
              "      <td>...</td>\n",
              "      <td>...</td>\n",
              "    </tr>\n",
              "    <tr>\n",
              "      <th>1031131</th>\n",
              "      <td>087004124X</td>\n",
              "      <td>Anthem</td>\n",
              "      <td>Ayn Rand</td>\n",
              "      <td>1966</td>\n",
              "      <td>Caxton Press</td>\n",
              "      <td>http://images.amazon.com/images/P/087004124X.0...</td>\n",
              "      <td>259589</td>\n",
              "      <td>8</td>\n",
              "      <td>19.0</td>\n",
              "      <td>usa</td>\n",
              "    </tr>\n",
              "    <tr>\n",
              "      <th>1031132</th>\n",
              "      <td>158243123X</td>\n",
              "      <td>A Student of Weather</td>\n",
              "      <td>Elizabeth Hay</td>\n",
              "      <td>2001</td>\n",
              "      <td>Counterpoint Press</td>\n",
              "      <td>http://images.amazon.com/images/P/158243123X.0...</td>\n",
              "      <td>259591</td>\n",
              "      <td>8</td>\n",
              "      <td>39.0</td>\n",
              "      <td>usa</td>\n",
              "    </tr>\n",
              "    <tr>\n",
              "      <th>1031133</th>\n",
              "      <td>8485900057</td>\n",
              "      <td>Rimas y leyendas (ClÃ¡sicos Fraile ; 3)</td>\n",
              "      <td>Gustavo Adolfo BÃ©cquer</td>\n",
              "      <td>1981</td>\n",
              "      <td>Ediciones Fraile</td>\n",
              "      <td>http://images.amazon.com/images/P/8485900057.0...</td>\n",
              "      <td>259614</td>\n",
              "      <td>10</td>\n",
              "      <td>22.0</td>\n",
              "      <td>spain</td>\n",
              "    </tr>\n",
              "    <tr>\n",
              "      <th>1031134</th>\n",
              "      <td>0838934854</td>\n",
              "      <td>Anglo-American Cataloguing Rules</td>\n",
              "      <td>Michael Gorman</td>\n",
              "      <td>1998</td>\n",
              "      <td>American Library Association</td>\n",
              "      <td>http://images.amazon.com/images/P/0838934854.0...</td>\n",
              "      <td>259679</td>\n",
              "      <td>6</td>\n",
              "      <td>27.0</td>\n",
              "      <td>usa</td>\n",
              "    </tr>\n",
              "    <tr>\n",
              "      <th>1031135</th>\n",
              "      <td>3423300965</td>\n",
              "      <td>Texte zur Ethik.</td>\n",
              "      <td>Dieter Birnbacher</td>\n",
              "      <td>2003</td>\n",
              "      <td>Dtv</td>\n",
              "      <td>http://images.amazon.com/images/P/3423300965.0...</td>\n",
              "      <td>259920</td>\n",
              "      <td>0</td>\n",
              "      <td>36.0</td>\n",
              "      <td>germany</td>\n",
              "    </tr>\n",
              "  </tbody>\n",
              "</table>\n",
              "<p>1017069 rows × 10 columns</p>\n",
              "</div>"
            ],
            "text/plain": [
              "               ISBN                                         Book-Title  \\\n",
              "0        0195153448                                Classical Mythology   \n",
              "1        0002005018                                       Clara Callan   \n",
              "2        0060973129                               Decision in Normandy   \n",
              "3        0374157065  Flu: The Story of the Great Influenza Pandemic...   \n",
              "4        0393045218                             The Mummies of Urumchi   \n",
              "...             ...                                                ...   \n",
              "1031131  087004124X                                             Anthem   \n",
              "1031132  158243123X                               A Student of Weather   \n",
              "1031133  8485900057            Rimas y leyendas (ClÃ¡sicos Fraile ; 3)   \n",
              "1031134  0838934854                   Anglo-American Cataloguing Rules   \n",
              "1031135  3423300965                                   Texte zur Ethik.   \n",
              "\n",
              "                     Book-Author  Year-Of-Publication  \\\n",
              "0             Mark P. O. Morford                 2002   \n",
              "1           Richard Bruce Wright                 2001   \n",
              "2                   Carlo D'Este                 1991   \n",
              "3               Gina Bari Kolata                 1999   \n",
              "4                E. J. W. Barber                 1999   \n",
              "...                          ...                  ...   \n",
              "1031131                 Ayn Rand                 1966   \n",
              "1031132            Elizabeth Hay                 2001   \n",
              "1031133  Gustavo Adolfo BÃ©cquer                 1981   \n",
              "1031134           Michael Gorman                 1998   \n",
              "1031135        Dieter Birnbacher                 2003   \n",
              "\n",
              "                            Publisher  \\\n",
              "0             Oxford University Press   \n",
              "1               HarperFlamingo Canada   \n",
              "2                     HarperPerennial   \n",
              "3                Farrar Straus Giroux   \n",
              "4          W. W. Norton &amp; Company   \n",
              "...                               ...   \n",
              "1031131                  Caxton Press   \n",
              "1031132            Counterpoint Press   \n",
              "1031133              Ediciones Fraile   \n",
              "1031134  American Library Association   \n",
              "1031135                           Dtv   \n",
              "\n",
              "                                               Image-URL-M  User-ID  \\\n",
              "0        http://images.amazon.com/images/P/0195153448.0...        2   \n",
              "1        http://images.amazon.com/images/P/0002005018.0...        8   \n",
              "2        http://images.amazon.com/images/P/0060973129.0...        8   \n",
              "3        http://images.amazon.com/images/P/0374157065.0...        8   \n",
              "4        http://images.amazon.com/images/P/0393045218.0...        8   \n",
              "...                                                    ...      ...   \n",
              "1031131  http://images.amazon.com/images/P/087004124X.0...   259589   \n",
              "1031132  http://images.amazon.com/images/P/158243123X.0...   259591   \n",
              "1031133  http://images.amazon.com/images/P/8485900057.0...   259614   \n",
              "1031134  http://images.amazon.com/images/P/0838934854.0...   259679   \n",
              "1031135  http://images.amazon.com/images/P/3423300965.0...   259920   \n",
              "\n",
              "         Book-Rating   Age   country  \n",
              "0                  0  18.0       usa  \n",
              "1                  5  36.0    canada  \n",
              "2                  0  36.0    canada  \n",
              "3                  0  36.0    canada  \n",
              "4                  0  36.0    canada  \n",
              "...              ...   ...       ...  \n",
              "1031131            8  19.0       usa  \n",
              "1031132            8  39.0       usa  \n",
              "1031133           10  22.0     spain  \n",
              "1031134            6  27.0       usa  \n",
              "1031135            0  36.0   germany  \n",
              "\n",
              "[1017069 rows x 10 columns]"
            ]
          },
          "execution_count": 64,
          "metadata": {},
          "output_type": "execute_result"
        }
      ],
      "source": [
        "final_data"
      ]
    },
    {
      "cell_type": "markdown",
      "metadata": {
        "id": "YO1DZp7g1JSR"
      },
      "source": [
        "# Model building"
      ]
    },
    {
      "cell_type": "markdown",
      "metadata": {
        "id": "G8rB10TMdbQx"
      },
      "source": [
        "# Weighted Rating model"
      ]
    },
    {
      "cell_type": "markdown",
      "metadata": {
        "id": "bGDLfEusdbQx"
      },
      "source": [
        "#Fromula for calculating weighted average\n",
        "\n",
        "W=(Rv+cm)/(v+m)\n",
        "W=weighted rating\n",
        "R=average rating of a particular book\n",
        "v=Number of reviews/voting made for each book\n",
        "m=minimum number of voting required for consider the book for recommendation\n",
        "c=mean of all the average rating "
      ]
    },
    {
      "cell_type": "code",
      "execution_count": null,
      "metadata": {
        "id": "m2izrfsudbQy"
      },
      "outputs": [],
      "source": [
        "v=data['no_of_ratings']\n",
        "R=data['average_rating']\n",
        "c=data['average_rating'].mean()\n",
        "m=150    #Set min number of votes"
      ]
    },
    {
      "cell_type": "code",
      "execution_count": null,
      "metadata": {
        "id": "33tw_fU_KwfJ",
        "outputId": "01c80af5-6221-4d15-b662-8a1ec42d84c5"
      },
      "outputs": [
        {
          "data": {
            "text/plain": [
              "2.834984647059473"
            ]
          },
          "execution_count": 66,
          "metadata": {},
          "output_type": "execute_result"
        }
      ],
      "source": [
        "c"
      ]
    },
    {
      "cell_type": "code",
      "execution_count": null,
      "metadata": {
        "id": "bIKT0V40dbQy"
      },
      "outputs": [],
      "source": [
        "#Creating a table which hold's a weighted average \n",
        "data['weighted_average']=((R*v)+(c*m))/(v+m)"
      ]
    },
    {
      "cell_type": "code",
      "execution_count": null,
      "metadata": {
        "id": "wBlegzTbdbQy"
      },
      "outputs": [],
      "source": [
        "#Removing all the duplicate book title from the data\n",
        "popular_books=data.sort_values('weighted_average',ascending=False).drop_duplicates('Book-Title').reset_index()"
      ]
    },
    {
      "cell_type": "code",
      "execution_count": null,
      "metadata": {
        "id": "iXLfLiDTdbQy"
      },
      "outputs": [],
      "source": [
        "#These are the top 20 recommendation based on weighted average\n",
        "pk=popular_books"
      ]
    },
    {
      "cell_type": "code",
      "execution_count": null,
      "metadata": {
        "id": "WzRKSP5kKwfJ",
        "outputId": "f68cbf0e-7130-43d7-f07c-a6e3ec78a3d4"
      },
      "outputs": [
        {
          "data": {
            "text/html": [
              "<div>\n",
              "<style scoped>\n",
              "    .dataframe tbody tr th:only-of-type {\n",
              "        vertical-align: middle;\n",
              "    }\n",
              "\n",
              "    .dataframe tbody tr th {\n",
              "        vertical-align: top;\n",
              "    }\n",
              "\n",
              "    .dataframe thead th {\n",
              "        text-align: right;\n",
              "    }\n",
              "</style>\n",
              "<table border=\"1\" class=\"dataframe\">\n",
              "  <thead>\n",
              "    <tr style=\"text-align: right;\">\n",
              "      <th></th>\n",
              "      <th>ISBN</th>\n",
              "      <th>Book-Title</th>\n",
              "      <th>Book-Author</th>\n",
              "      <th>Year-Of-Publication</th>\n",
              "      <th>Publisher</th>\n",
              "      <th>User-ID</th>\n",
              "      <th>Book-Rating</th>\n",
              "      <th>Age</th>\n",
              "      <th>country</th>\n",
              "      <th>average_rating</th>\n",
              "      <th>no_of_ratings</th>\n",
              "      <th>weighted_average</th>\n",
              "    </tr>\n",
              "  </thead>\n",
              "  <tbody>\n",
              "    <tr>\n",
              "      <th>0</th>\n",
              "      <td>0439136350</td>\n",
              "      <td>Harry Potter and the Prisoner of Azkaban (Book 3)</td>\n",
              "      <td>J. K. Rowling</td>\n",
              "      <td>1999</td>\n",
              "      <td>Scholastic</td>\n",
              "      <td>124876</td>\n",
              "      <td>10</td>\n",
              "      <td>23.0</td>\n",
              "      <td>usa</td>\n",
              "      <td>5.852804</td>\n",
              "      <td>428</td>\n",
              "      <td>5.069633</td>\n",
              "    </tr>\n",
              "    <tr>\n",
              "      <th>1</th>\n",
              "      <td>0439139600</td>\n",
              "      <td>Harry Potter and the Goblet of Fire (Book 4)</td>\n",
              "      <td>J. K. Rowling</td>\n",
              "      <td>2002</td>\n",
              "      <td>Scholastic Paperbacks</td>\n",
              "      <td>143837</td>\n",
              "      <td>10</td>\n",
              "      <td>28.0</td>\n",
              "      <td>usa</td>\n",
              "      <td>5.824289</td>\n",
              "      <td>387</td>\n",
              "      <td>4.989288</td>\n",
              "    </tr>\n",
              "    <tr>\n",
              "      <th>2</th>\n",
              "      <td>043936213X</td>\n",
              "      <td>Harry Potter and the Sorcerer's Stone (Book 1)</td>\n",
              "      <td>J. K. Rowling</td>\n",
              "      <td>2001</td>\n",
              "      <td>Scholastic</td>\n",
              "      <td>111013</td>\n",
              "      <td>9</td>\n",
              "      <td>24.0</td>\n",
              "      <td>usa</td>\n",
              "      <td>5.737410</td>\n",
              "      <td>278</td>\n",
              "      <td>4.720205</td>\n",
              "    </tr>\n",
              "    <tr>\n",
              "      <th>3</th>\n",
              "      <td>043935806X</td>\n",
              "      <td>Harry Potter and the Order of the Phoenix (Boo...</td>\n",
              "      <td>J. K. Rowling</td>\n",
              "      <td>2003</td>\n",
              "      <td>Scholastic</td>\n",
              "      <td>120579</td>\n",
              "      <td>0</td>\n",
              "      <td>18.0</td>\n",
              "      <td>portugal</td>\n",
              "      <td>5.501441</td>\n",
              "      <td>347</td>\n",
              "      <td>4.696675</td>\n",
              "    </tr>\n",
              "    <tr>\n",
              "      <th>4</th>\n",
              "      <td>0439420105</td>\n",
              "      <td>Harry Potter and the Chamber of Secrets (Book 2)</td>\n",
              "      <td>J. K. Rowling</td>\n",
              "      <td>2002</td>\n",
              "      <td>Scholastic</td>\n",
              "      <td>275970</td>\n",
              "      <td>9</td>\n",
              "      <td>46.0</td>\n",
              "      <td>usa</td>\n",
              "      <td>5.183453</td>\n",
              "      <td>556</td>\n",
              "      <td>4.684487</td>\n",
              "    </tr>\n",
              "    <tr>\n",
              "      <th>5</th>\n",
              "      <td>059035342X</td>\n",
              "      <td>Harry Potter and the Sorcerer's Stone (Harry P...</td>\n",
              "      <td>J. K. Rowling</td>\n",
              "      <td>1999</td>\n",
              "      <td>Arthur A. Levine Books</td>\n",
              "      <td>275375</td>\n",
              "      <td>0</td>\n",
              "      <td>14.0</td>\n",
              "      <td>usa</td>\n",
              "      <td>4.895652</td>\n",
              "      <td>575</td>\n",
              "      <td>4.469307</td>\n",
              "    </tr>\n",
              "    <tr>\n",
              "      <th>6</th>\n",
              "      <td>0812550706</td>\n",
              "      <td>Ender's Game (Ender Wiggins Saga (Paperback))</td>\n",
              "      <td>Orson Scott Card</td>\n",
              "      <td>1994</td>\n",
              "      <td>Tor Books</td>\n",
              "      <td>112026</td>\n",
              "      <td>0</td>\n",
              "      <td>17.0</td>\n",
              "      <td>usa</td>\n",
              "      <td>5.409639</td>\n",
              "      <td>249</td>\n",
              "      <td>4.441724</td>\n",
              "    </tr>\n",
              "    <tr>\n",
              "      <th>7</th>\n",
              "      <td>0385504209</td>\n",
              "      <td>The Da Vinci Code</td>\n",
              "      <td>Dan Brown</td>\n",
              "      <td>2003</td>\n",
              "      <td>Doubleday</td>\n",
              "      <td>76223</td>\n",
              "      <td>0</td>\n",
              "      <td>25.0</td>\n",
              "      <td>portugal</td>\n",
              "      <td>4.647715</td>\n",
              "      <td>897</td>\n",
              "      <td>4.388011</td>\n",
              "    </tr>\n",
              "    <tr>\n",
              "      <th>8</th>\n",
              "      <td>0345339703</td>\n",
              "      <td>The Fellowship of the Ring (The Lord of the Ri...</td>\n",
              "      <td>J.R.R. TOLKIEN</td>\n",
              "      <td>1986</td>\n",
              "      <td>Del Rey</td>\n",
              "      <td>161872</td>\n",
              "      <td>10</td>\n",
              "      <td>27.0</td>\n",
              "      <td>usa</td>\n",
              "      <td>4.948370</td>\n",
              "      <td>368</td>\n",
              "      <td>4.336386</td>\n",
              "    </tr>\n",
              "    <tr>\n",
              "      <th>9</th>\n",
              "      <td>0316666343</td>\n",
              "      <td>The Lovely Bones: A Novel</td>\n",
              "      <td>Alice Sebold</td>\n",
              "      <td>2002</td>\n",
              "      <td>Little, Brown</td>\n",
              "      <td>248570</td>\n",
              "      <td>7</td>\n",
              "      <td>36.0</td>\n",
              "      <td>usa</td>\n",
              "      <td>4.468726</td>\n",
              "      <td>1295</td>\n",
              "      <td>4.299133</td>\n",
              "    </tr>\n",
              "    <tr>\n",
              "      <th>10</th>\n",
              "      <td>0152023984</td>\n",
              "      <td>The Little Prince</td>\n",
              "      <td>Antoine de Saint-ExupÃ©ry</td>\n",
              "      <td>2000</td>\n",
              "      <td>Harcourt Children's Books</td>\n",
              "      <td>65836</td>\n",
              "      <td>0</td>\n",
              "      <td>59.0</td>\n",
              "      <td></td>\n",
              "      <td>5.815603</td>\n",
              "      <td>141</td>\n",
              "      <td>4.279202</td>\n",
              "    </tr>\n",
              "    <tr>\n",
              "      <th>11</th>\n",
              "      <td>0446310786</td>\n",
              "      <td>To Kill a Mockingbird</td>\n",
              "      <td>Harper Lee</td>\n",
              "      <td>1988</td>\n",
              "      <td>Little Brown &amp;amp; Company</td>\n",
              "      <td>59150</td>\n",
              "      <td>0</td>\n",
              "      <td>37.0</td>\n",
              "      <td>canada</td>\n",
              "      <td>4.700000</td>\n",
              "      <td>510</td>\n",
              "      <td>4.276133</td>\n",
              "    </tr>\n",
              "    <tr>\n",
              "      <th>12</th>\n",
              "      <td>0345339681</td>\n",
              "      <td>The Hobbit : The Enchanting Prelude to The Lor...</td>\n",
              "      <td>J.R.R. TOLKIEN</td>\n",
              "      <td>1986</td>\n",
              "      <td>Del Rey</td>\n",
              "      <td>67198</td>\n",
              "      <td>10</td>\n",
              "      <td>13.0</td>\n",
              "      <td>usa</td>\n",
              "      <td>5.007117</td>\n",
              "      <td>281</td>\n",
              "      <td>4.251155</td>\n",
              "    </tr>\n",
              "    <tr>\n",
              "      <th>13</th>\n",
              "      <td>0951426133</td>\n",
              "      <td>Free</td>\n",
              "      <td>M. Gilliland</td>\n",
              "      <td>1990</td>\n",
              "      <td>Attack International</td>\n",
              "      <td>7210</td>\n",
              "      <td>9</td>\n",
              "      <td>36.0</td>\n",
              "      <td>canada</td>\n",
              "      <td>8.017857</td>\n",
              "      <td>56</td>\n",
              "      <td>4.243921</td>\n",
              "    </tr>\n",
              "    <tr>\n",
              "      <th>14</th>\n",
              "      <td>0142001740</td>\n",
              "      <td>The Secret Life of Bees</td>\n",
              "      <td>Sue Monk Kidd</td>\n",
              "      <td>2003</td>\n",
              "      <td>Penguin Books</td>\n",
              "      <td>37712</td>\n",
              "      <td>9</td>\n",
              "      <td>23.0</td>\n",
              "      <td>usa</td>\n",
              "      <td>4.447028</td>\n",
              "      <td>774</td>\n",
              "      <td>4.185333</td>\n",
              "    </tr>\n",
              "    <tr>\n",
              "      <th>15</th>\n",
              "      <td>0316769487</td>\n",
              "      <td>The Catcher in the Rye</td>\n",
              "      <td>J.D. Salinger</td>\n",
              "      <td>1991</td>\n",
              "      <td>Little, Brown</td>\n",
              "      <td>275520</td>\n",
              "      <td>9</td>\n",
              "      <td>25.0</td>\n",
              "      <td>usa</td>\n",
              "      <td>4.646789</td>\n",
              "      <td>436</td>\n",
              "      <td>4.183017</td>\n",
              "    </tr>\n",
              "    <tr>\n",
              "      <th>16</th>\n",
              "      <td>0395489334</td>\n",
              "      <td>The Two Towers (The Lord of the Rings, Part 2)</td>\n",
              "      <td>J. R. R. Tolkien</td>\n",
              "      <td>1988</td>\n",
              "      <td>Houghton Mifflin Company</td>\n",
              "      <td>170513</td>\n",
              "      <td>10</td>\n",
              "      <td>36.0</td>\n",
              "      <td>usa</td>\n",
              "      <td>4.880769</td>\n",
              "      <td>260</td>\n",
              "      <td>4.132311</td>\n",
              "    </tr>\n",
              "    <tr>\n",
              "      <th>17</th>\n",
              "      <td>0786868716</td>\n",
              "      <td>The Five People You Meet in Heaven</td>\n",
              "      <td>Mitch Albom</td>\n",
              "      <td>2003</td>\n",
              "      <td>Hyperion</td>\n",
              "      <td>124184</td>\n",
              "      <td>0</td>\n",
              "      <td>55.0</td>\n",
              "      <td>usa</td>\n",
              "      <td>4.551163</td>\n",
              "      <td>430</td>\n",
              "      <td>4.107324</td>\n",
              "    </tr>\n",
              "    <tr>\n",
              "      <th>18</th>\n",
              "      <td>0312195516</td>\n",
              "      <td>The Red Tent (Bestselling Backlist)</td>\n",
              "      <td>Anita Diamant</td>\n",
              "      <td>1998</td>\n",
              "      <td>Picador USA</td>\n",
              "      <td>249732</td>\n",
              "      <td>6</td>\n",
              "      <td>36.0</td>\n",
              "      <td>usa</td>\n",
              "      <td>4.334716</td>\n",
              "      <td>723</td>\n",
              "      <td>4.077031</td>\n",
              "    </tr>\n",
              "    <tr>\n",
              "      <th>19</th>\n",
              "      <td>076790592X</td>\n",
              "      <td>Tuesdays with Morrie: An Old Man, a Young Man,...</td>\n",
              "      <td>Mitch Albom</td>\n",
              "      <td>2002</td>\n",
              "      <td>Broadway</td>\n",
              "      <td>88620</td>\n",
              "      <td>7</td>\n",
              "      <td>27.0</td>\n",
              "      <td>netherlands</td>\n",
              "      <td>4.354970</td>\n",
              "      <td>493</td>\n",
              "      <td>4.000385</td>\n",
              "    </tr>\n",
              "    <tr>\n",
              "      <th>20</th>\n",
              "      <td>0440219078</td>\n",
              "      <td>The Giver (21st Century Reference)</td>\n",
              "      <td>LOIS LOWRY</td>\n",
              "      <td>1994</td>\n",
              "      <td>Laure Leaf</td>\n",
              "      <td>143718</td>\n",
              "      <td>0</td>\n",
              "      <td>36.0</td>\n",
              "      <td>usa</td>\n",
              "      <td>4.916201</td>\n",
              "      <td>179</td>\n",
              "      <td>3.967318</td>\n",
              "    </tr>\n",
              "    <tr>\n",
              "      <th>21</th>\n",
              "      <td>0452282152</td>\n",
              "      <td>Girl with a Pearl Earring</td>\n",
              "      <td>Tracy Chevalier</td>\n",
              "      <td>2001</td>\n",
              "      <td>Plume Books</td>\n",
              "      <td>62895</td>\n",
              "      <td>0</td>\n",
              "      <td>39.0</td>\n",
              "      <td>united kingdom</td>\n",
              "      <td>4.218631</td>\n",
              "      <td>526</td>\n",
              "      <td>3.911609</td>\n",
              "    </tr>\n",
              "    <tr>\n",
              "      <th>22</th>\n",
              "      <td>0553375407</td>\n",
              "      <td>Ishmael: An Adventure of the Mind and Spirit</td>\n",
              "      <td>Daniel Quinn</td>\n",
              "      <td>1995</td>\n",
              "      <td>Bantam</td>\n",
              "      <td>272078</td>\n",
              "      <td>5</td>\n",
              "      <td>20.0</td>\n",
              "      <td>usa</td>\n",
              "      <td>4.907407</td>\n",
              "      <td>162</td>\n",
              "      <td>3.911050</td>\n",
              "    </tr>\n",
              "    <tr>\n",
              "      <th>23</th>\n",
              "      <td>0451524934</td>\n",
              "      <td>1984</td>\n",
              "      <td>George Orwell</td>\n",
              "      <td>1990</td>\n",
              "      <td>Signet Book</td>\n",
              "      <td>80538</td>\n",
              "      <td>10</td>\n",
              "      <td>32.0</td>\n",
              "      <td>portugal</td>\n",
              "      <td>4.473684</td>\n",
              "      <td>266</td>\n",
              "      <td>3.882807</td>\n",
              "    </tr>\n",
              "    <tr>\n",
              "      <th>24</th>\n",
              "      <td>0345342968</td>\n",
              "      <td>Fahrenheit 451</td>\n",
              "      <td>RAY BRADBURY</td>\n",
              "      <td>1987</td>\n",
              "      <td>Del Rey</td>\n",
              "      <td>225986</td>\n",
              "      <td>9</td>\n",
              "      <td>36.0</td>\n",
              "      <td>united kingdom</td>\n",
              "      <td>4.264059</td>\n",
              "      <td>409</td>\n",
              "      <td>3.880586</td>\n",
              "    </tr>\n",
              "  </tbody>\n",
              "</table>\n",
              "</div>"
            ],
            "text/plain": [
              "          ISBN                                         Book-Title  \\\n",
              "0   0439136350  Harry Potter and the Prisoner of Azkaban (Book 3)   \n",
              "1   0439139600       Harry Potter and the Goblet of Fire (Book 4)   \n",
              "2   043936213X     Harry Potter and the Sorcerer's Stone (Book 1)   \n",
              "3   043935806X  Harry Potter and the Order of the Phoenix (Boo...   \n",
              "4   0439420105   Harry Potter and the Chamber of Secrets (Book 2)   \n",
              "5   059035342X  Harry Potter and the Sorcerer's Stone (Harry P...   \n",
              "6   0812550706      Ender's Game (Ender Wiggins Saga (Paperback))   \n",
              "7   0385504209                                  The Da Vinci Code   \n",
              "8   0345339703  The Fellowship of the Ring (The Lord of the Ri...   \n",
              "9   0316666343                          The Lovely Bones: A Novel   \n",
              "10  0152023984                                  The Little Prince   \n",
              "11  0446310786                              To Kill a Mockingbird   \n",
              "12  0345339681  The Hobbit : The Enchanting Prelude to The Lor...   \n",
              "13  0951426133                                               Free   \n",
              "14  0142001740                            The Secret Life of Bees   \n",
              "15  0316769487                             The Catcher in the Rye   \n",
              "16  0395489334     The Two Towers (The Lord of the Rings, Part 2)   \n",
              "17  0786868716                 The Five People You Meet in Heaven   \n",
              "18  0312195516                The Red Tent (Bestselling Backlist)   \n",
              "19  076790592X  Tuesdays with Morrie: An Old Man, a Young Man,...   \n",
              "20  0440219078                 The Giver (21st Century Reference)   \n",
              "21  0452282152                          Girl with a Pearl Earring   \n",
              "22  0553375407       Ishmael: An Adventure of the Mind and Spirit   \n",
              "23  0451524934                                               1984   \n",
              "24  0345342968                                     Fahrenheit 451   \n",
              "\n",
              "                  Book-Author  Year-Of-Publication  \\\n",
              "0               J. K. Rowling                 1999   \n",
              "1               J. K. Rowling                 2002   \n",
              "2               J. K. Rowling                 2001   \n",
              "3               J. K. Rowling                 2003   \n",
              "4               J. K. Rowling                 2002   \n",
              "5               J. K. Rowling                 1999   \n",
              "6            Orson Scott Card                 1994   \n",
              "7                   Dan Brown                 2003   \n",
              "8              J.R.R. TOLKIEN                 1986   \n",
              "9                Alice Sebold                 2002   \n",
              "10  Antoine de Saint-ExupÃ©ry                 2000   \n",
              "11                 Harper Lee                 1988   \n",
              "12             J.R.R. TOLKIEN                 1986   \n",
              "13               M. Gilliland                 1990   \n",
              "14              Sue Monk Kidd                 2003   \n",
              "15              J.D. Salinger                 1991   \n",
              "16           J. R. R. Tolkien                 1988   \n",
              "17                Mitch Albom                 2003   \n",
              "18              Anita Diamant                 1998   \n",
              "19                Mitch Albom                 2002   \n",
              "20                 LOIS LOWRY                 1994   \n",
              "21            Tracy Chevalier                 2001   \n",
              "22               Daniel Quinn                 1995   \n",
              "23              George Orwell                 1990   \n",
              "24               RAY BRADBURY                 1987   \n",
              "\n",
              "                     Publisher  User-ID  Book-Rating   Age          country  \\\n",
              "0                   Scholastic   124876           10  23.0              usa   \n",
              "1        Scholastic Paperbacks   143837           10  28.0              usa   \n",
              "2                   Scholastic   111013            9  24.0              usa   \n",
              "3                   Scholastic   120579            0  18.0         portugal   \n",
              "4                   Scholastic   275970            9  46.0              usa   \n",
              "5       Arthur A. Levine Books   275375            0  14.0              usa   \n",
              "6                    Tor Books   112026            0  17.0              usa   \n",
              "7                    Doubleday    76223            0  25.0         portugal   \n",
              "8                      Del Rey   161872           10  27.0              usa   \n",
              "9                Little, Brown   248570            7  36.0              usa   \n",
              "10   Harcourt Children's Books    65836            0  59.0                    \n",
              "11  Little Brown &amp; Company    59150            0  37.0           canada   \n",
              "12                     Del Rey    67198           10  13.0              usa   \n",
              "13        Attack International     7210            9  36.0           canada   \n",
              "14               Penguin Books    37712            9  23.0              usa   \n",
              "15               Little, Brown   275520            9  25.0              usa   \n",
              "16    Houghton Mifflin Company   170513           10  36.0              usa   \n",
              "17                    Hyperion   124184            0  55.0              usa   \n",
              "18                 Picador USA   249732            6  36.0              usa   \n",
              "19                    Broadway    88620            7  27.0      netherlands   \n",
              "20                  Laure Leaf   143718            0  36.0              usa   \n",
              "21                 Plume Books    62895            0  39.0   united kingdom   \n",
              "22                      Bantam   272078            5  20.0              usa   \n",
              "23                 Signet Book    80538           10  32.0         portugal   \n",
              "24                     Del Rey   225986            9  36.0   united kingdom   \n",
              "\n",
              "    average_rating  no_of_ratings  weighted_average  \n",
              "0         5.852804            428          5.069633  \n",
              "1         5.824289            387          4.989288  \n",
              "2         5.737410            278          4.720205  \n",
              "3         5.501441            347          4.696675  \n",
              "4         5.183453            556          4.684487  \n",
              "5         4.895652            575          4.469307  \n",
              "6         5.409639            249          4.441724  \n",
              "7         4.647715            897          4.388011  \n",
              "8         4.948370            368          4.336386  \n",
              "9         4.468726           1295          4.299133  \n",
              "10        5.815603            141          4.279202  \n",
              "11        4.700000            510          4.276133  \n",
              "12        5.007117            281          4.251155  \n",
              "13        8.017857             56          4.243921  \n",
              "14        4.447028            774          4.185333  \n",
              "15        4.646789            436          4.183017  \n",
              "16        4.880769            260          4.132311  \n",
              "17        4.551163            430          4.107324  \n",
              "18        4.334716            723          4.077031  \n",
              "19        4.354970            493          4.000385  \n",
              "20        4.916201            179          3.967318  \n",
              "21        4.218631            526          3.911609  \n",
              "22        4.907407            162          3.911050  \n",
              "23        4.473684            266          3.882807  \n",
              "24        4.264059            409          3.880586  "
            ]
          },
          "execution_count": 70,
          "metadata": {},
          "output_type": "execute_result"
        }
      ],
      "source": [
        "pk.drop(['Image-URL-M','index'],axis=1).head(25)"
      ]
    },
    {
      "cell_type": "markdown",
      "metadata": {
        "id": "u48pngG91Wt7"
      },
      "source": [
        "**Collaborative filtering Based Recommender system**"
      ]
    },
    {
      "cell_type": "markdown",
      "metadata": {
        "id": "GoDp4P_l2U2B"
      },
      "source": [
        "Here data of user's who have read & gave rating for 150. books will be consider.\n",
        "and in the case of book min 50 people should have read the book and must should have given the ratings."
      ]
    },
    {
      "cell_type": "code",
      "execution_count": null,
      "metadata": {
        "id": "IrEfJoj222eb"
      },
      "outputs": [],
      "source": [
        "x=final_data.groupby('User-ID').count()['Book-Rating']>150      #Considering only user who have read & reviewed more than 150 books\n",
        "active_readers=x[x].index #Give list of data which satisfies the above conditions"
      ]
    },
    {
      "cell_type": "code",
      "execution_count": null,
      "metadata": {
        "colab": {
          "base_uri": "https://localhost:8080/",
          "height": 302
        },
        "id": "5mFR5TSm4ls5",
        "outputId": "9455cb32-0571-426a-9f58-29b5770b3ca8"
      },
      "outputs": [
        {
          "data": {
            "text/html": [
              "<div>\n",
              "<style scoped>\n",
              "    .dataframe tbody tr th:only-of-type {\n",
              "        vertical-align: middle;\n",
              "    }\n",
              "\n",
              "    .dataframe tbody tr th {\n",
              "        vertical-align: top;\n",
              "    }\n",
              "\n",
              "    .dataframe thead th {\n",
              "        text-align: right;\n",
              "    }\n",
              "</style>\n",
              "<table border=\"1\" class=\"dataframe\">\n",
              "  <thead>\n",
              "    <tr style=\"text-align: right;\">\n",
              "      <th></th>\n",
              "      <th>ISBN</th>\n",
              "      <th>Book-Title</th>\n",
              "      <th>Book-Author</th>\n",
              "      <th>Year-Of-Publication</th>\n",
              "      <th>Publisher</th>\n",
              "      <th>Image-URL-M</th>\n",
              "      <th>User-ID</th>\n",
              "      <th>Book-Rating</th>\n",
              "      <th>Age</th>\n",
              "      <th>country</th>\n",
              "    </tr>\n",
              "  </thead>\n",
              "  <tbody>\n",
              "    <tr>\n",
              "      <th>80</th>\n",
              "      <td>0002005018</td>\n",
              "      <td>Clara Callan</td>\n",
              "      <td>Richard Bruce Wright</td>\n",
              "      <td>2001</td>\n",
              "      <td>HarperFlamingo Canada</td>\n",
              "      <td>http://images.amazon.com/images/P/0002005018.0...</td>\n",
              "      <td>11676</td>\n",
              "      <td>8</td>\n",
              "      <td>36.0</td>\n",
              "      <td>n/a</td>\n",
              "    </tr>\n",
              "    <tr>\n",
              "      <th>81</th>\n",
              "      <td>0399135782</td>\n",
              "      <td>The Kitchen God's Wife</td>\n",
              "      <td>Amy Tan</td>\n",
              "      <td>1991</td>\n",
              "      <td>Putnam Pub Group</td>\n",
              "      <td>http://images.amazon.com/images/P/0399135782.0...</td>\n",
              "      <td>11676</td>\n",
              "      <td>9</td>\n",
              "      <td>36.0</td>\n",
              "      <td>n/a</td>\n",
              "    </tr>\n",
              "    <tr>\n",
              "      <th>82</th>\n",
              "      <td>0671870432</td>\n",
              "      <td>PLEADING GUILTY</td>\n",
              "      <td>Scott Turow</td>\n",
              "      <td>1993</td>\n",
              "      <td>Audioworks</td>\n",
              "      <td>http://images.amazon.com/images/P/0671870432.0...</td>\n",
              "      <td>11676</td>\n",
              "      <td>8</td>\n",
              "      <td>36.0</td>\n",
              "      <td>n/a</td>\n",
              "    </tr>\n",
              "    <tr>\n",
              "      <th>83</th>\n",
              "      <td>0771074670</td>\n",
              "      <td>Nights Below Station Street</td>\n",
              "      <td>David Adams Richards</td>\n",
              "      <td>1988</td>\n",
              "      <td>Emblem Editions</td>\n",
              "      <td>http://images.amazon.com/images/P/0771074670.0...</td>\n",
              "      <td>11676</td>\n",
              "      <td>0</td>\n",
              "      <td>36.0</td>\n",
              "      <td>n/a</td>\n",
              "    </tr>\n",
              "    <tr>\n",
              "      <th>84</th>\n",
              "      <td>0440234743</td>\n",
              "      <td>The Testament</td>\n",
              "      <td>John Grisham</td>\n",
              "      <td>1999</td>\n",
              "      <td>Dell</td>\n",
              "      <td>http://images.amazon.com/images/P/0440234743.0...</td>\n",
              "      <td>11676</td>\n",
              "      <td>9</td>\n",
              "      <td>36.0</td>\n",
              "      <td>n/a</td>\n",
              "    </tr>\n",
              "  </tbody>\n",
              "</table>\n",
              "</div>"
            ],
            "text/plain": [
              "          ISBN                   Book-Title           Book-Author  \\\n",
              "80  0002005018                 Clara Callan  Richard Bruce Wright   \n",
              "81  0399135782       The Kitchen God's Wife               Amy Tan   \n",
              "82  0671870432              PLEADING GUILTY           Scott Turow   \n",
              "83  0771074670  Nights Below Station Street  David Adams Richards   \n",
              "84  0440234743                The Testament          John Grisham   \n",
              "\n",
              "    Year-Of-Publication              Publisher  \\\n",
              "80                 2001  HarperFlamingo Canada   \n",
              "81                 1991       Putnam Pub Group   \n",
              "82                 1993             Audioworks   \n",
              "83                 1988        Emblem Editions   \n",
              "84                 1999                   Dell   \n",
              "\n",
              "                                          Image-URL-M  User-ID  Book-Rating  \\\n",
              "80  http://images.amazon.com/images/P/0002005018.0...    11676            8   \n",
              "81  http://images.amazon.com/images/P/0399135782.0...    11676            9   \n",
              "82  http://images.amazon.com/images/P/0671870432.0...    11676            8   \n",
              "83  http://images.amazon.com/images/P/0771074670.0...    11676            0   \n",
              "84  http://images.amazon.com/images/P/0440234743.0...    11676            9   \n",
              "\n",
              "     Age country  \n",
              "80  36.0     n/a  \n",
              "81  36.0     n/a  \n",
              "82  36.0     n/a  \n",
              "83  36.0     n/a  \n",
              "84  36.0     n/a  "
            ]
          },
          "execution_count": 72,
          "metadata": {},
          "output_type": "execute_result"
        }
      ],
      "source": [
        "filtered_df=final_data[final_data['User-ID'].isin(active_readers)]\n",
        "filtered_df.head() "
      ]
    },
    {
      "cell_type": "code",
      "execution_count": null,
      "metadata": {
        "colab": {
          "base_uri": "https://localhost:8080/",
          "height": 554
        },
        "id": "Fxo8e6b88--G",
        "outputId": "f633ae50-ff61-4c83-a951-782fd1d8c28e"
      },
      "outputs": [
        {
          "data": {
            "text/html": [
              "<div>\n",
              "<style scoped>\n",
              "    .dataframe tbody tr th:only-of-type {\n",
              "        vertical-align: middle;\n",
              "    }\n",
              "\n",
              "    .dataframe tbody tr th {\n",
              "        vertical-align: top;\n",
              "    }\n",
              "\n",
              "    .dataframe thead th {\n",
              "        text-align: right;\n",
              "    }\n",
              "</style>\n",
              "<table border=\"1\" class=\"dataframe\">\n",
              "  <thead>\n",
              "    <tr style=\"text-align: right;\">\n",
              "      <th></th>\n",
              "      <th>ISBN</th>\n",
              "      <th>Book-Title</th>\n",
              "      <th>Book-Author</th>\n",
              "      <th>Year-Of-Publication</th>\n",
              "      <th>Publisher</th>\n",
              "      <th>Image-URL-M</th>\n",
              "      <th>User-ID</th>\n",
              "      <th>Book-Rating</th>\n",
              "      <th>Age</th>\n",
              "      <th>country</th>\n",
              "    </tr>\n",
              "  </thead>\n",
              "  <tbody>\n",
              "    <tr>\n",
              "      <th>81</th>\n",
              "      <td>0399135782</td>\n",
              "      <td>The Kitchen God's Wife</td>\n",
              "      <td>Amy Tan</td>\n",
              "      <td>1991</td>\n",
              "      <td>Putnam Pub Group</td>\n",
              "      <td>http://images.amazon.com/images/P/0399135782.0...</td>\n",
              "      <td>11676</td>\n",
              "      <td>9</td>\n",
              "      <td>36.0</td>\n",
              "      <td>n/a</td>\n",
              "    </tr>\n",
              "    <tr>\n",
              "      <th>84</th>\n",
              "      <td>0440234743</td>\n",
              "      <td>The Testament</td>\n",
              "      <td>John Grisham</td>\n",
              "      <td>1999</td>\n",
              "      <td>Dell</td>\n",
              "      <td>http://images.amazon.com/images/P/0440234743.0...</td>\n",
              "      <td>11676</td>\n",
              "      <td>9</td>\n",
              "      <td>36.0</td>\n",
              "      <td>n/a</td>\n",
              "    </tr>\n",
              "    <tr>\n",
              "      <th>85</th>\n",
              "      <td>0452264464</td>\n",
              "      <td>Beloved (Plume Contemporary Fiction)</td>\n",
              "      <td>Toni Morrison</td>\n",
              "      <td>1994</td>\n",
              "      <td>Plume</td>\n",
              "      <td>http://images.amazon.com/images/P/0452264464.0...</td>\n",
              "      <td>11676</td>\n",
              "      <td>8</td>\n",
              "      <td>36.0</td>\n",
              "      <td>n/a</td>\n",
              "    </tr>\n",
              "    <tr>\n",
              "      <th>88</th>\n",
              "      <td>0971880107</td>\n",
              "      <td>Wild Animus</td>\n",
              "      <td>Rich Shapero</td>\n",
              "      <td>2004</td>\n",
              "      <td>Too Far</td>\n",
              "      <td>http://images.amazon.com/images/P/0971880107.0...</td>\n",
              "      <td>11676</td>\n",
              "      <td>6</td>\n",
              "      <td>36.0</td>\n",
              "      <td>n/a</td>\n",
              "    </tr>\n",
              "    <tr>\n",
              "      <th>89</th>\n",
              "      <td>0345402871</td>\n",
              "      <td>Airframe</td>\n",
              "      <td>Michael Crichton</td>\n",
              "      <td>1997</td>\n",
              "      <td>Ballantine Books</td>\n",
              "      <td>http://images.amazon.com/images/P/0345402871.0...</td>\n",
              "      <td>11676</td>\n",
              "      <td>0</td>\n",
              "      <td>36.0</td>\n",
              "      <td>n/a</td>\n",
              "    </tr>\n",
              "    <tr>\n",
              "      <th>...</th>\n",
              "      <td>...</td>\n",
              "      <td>...</td>\n",
              "      <td>...</td>\n",
              "      <td>...</td>\n",
              "      <td>...</td>\n",
              "      <td>...</td>\n",
              "      <td>...</td>\n",
              "      <td>...</td>\n",
              "      <td>...</td>\n",
              "      <td>...</td>\n",
              "    </tr>\n",
              "    <tr>\n",
              "      <th>918734</th>\n",
              "      <td>0440201926</td>\n",
              "      <td>Kaleidoscope</td>\n",
              "      <td>Danielle Steel</td>\n",
              "      <td>1988</td>\n",
              "      <td>Dell</td>\n",
              "      <td>http://images.amazon.com/images/P/0440201926.0...</td>\n",
              "      <td>247958</td>\n",
              "      <td>10</td>\n",
              "      <td>44.0</td>\n",
              "      <td>usa</td>\n",
              "    </tr>\n",
              "    <tr>\n",
              "      <th>918736</th>\n",
              "      <td>0446353957</td>\n",
              "      <td>Mirror Image</td>\n",
              "      <td>Sandra Brown</td>\n",
              "      <td>1990</td>\n",
              "      <td>Warner Books</td>\n",
              "      <td>http://images.amazon.com/images/P/0446353957.0...</td>\n",
              "      <td>247958</td>\n",
              "      <td>0</td>\n",
              "      <td>44.0</td>\n",
              "      <td>usa</td>\n",
              "    </tr>\n",
              "    <tr>\n",
              "      <th>918740</th>\n",
              "      <td>0671741195</td>\n",
              "      <td>The Cradle Will Fall</td>\n",
              "      <td>Mary Higgins Clark</td>\n",
              "      <td>1991</td>\n",
              "      <td>Pocket</td>\n",
              "      <td>http://images.amazon.com/images/P/0671741195.0...</td>\n",
              "      <td>247958</td>\n",
              "      <td>0</td>\n",
              "      <td>44.0</td>\n",
              "      <td>usa</td>\n",
              "    </tr>\n",
              "    <tr>\n",
              "      <th>918745</th>\n",
              "      <td>155166674X</td>\n",
              "      <td>Between Friends</td>\n",
              "      <td>Debbie Macomber</td>\n",
              "      <td>2003</td>\n",
              "      <td>Mira Books</td>\n",
              "      <td>http://images.amazon.com/images/P/155166674X.0...</td>\n",
              "      <td>247958</td>\n",
              "      <td>0</td>\n",
              "      <td>44.0</td>\n",
              "      <td>usa</td>\n",
              "    </tr>\n",
              "    <tr>\n",
              "      <th>918869</th>\n",
              "      <td>0786004304</td>\n",
              "      <td>Over the Edge</td>\n",
              "      <td>Bill G. Cox</td>\n",
              "      <td>1997</td>\n",
              "      <td>Pinnacle Books</td>\n",
              "      <td>http://images.amazon.com/images/P/0786004304.0...</td>\n",
              "      <td>247958</td>\n",
              "      <td>0</td>\n",
              "      <td>44.0</td>\n",
              "      <td>usa</td>\n",
              "    </tr>\n",
              "  </tbody>\n",
              "</table>\n",
              "<p>73442 rows × 10 columns</p>\n",
              "</div>"
            ],
            "text/plain": [
              "              ISBN                            Book-Title         Book-Author  \\\n",
              "81      0399135782                The Kitchen God's Wife             Amy Tan   \n",
              "84      0440234743                         The Testament        John Grisham   \n",
              "85      0452264464  Beloved (Plume Contemporary Fiction)       Toni Morrison   \n",
              "88      0971880107                           Wild Animus        Rich Shapero   \n",
              "89      0345402871                              Airframe    Michael Crichton   \n",
              "...            ...                                   ...                 ...   \n",
              "918734  0440201926                          Kaleidoscope      Danielle Steel   \n",
              "918736  0446353957                          Mirror Image        Sandra Brown   \n",
              "918740  0671741195                  The Cradle Will Fall  Mary Higgins Clark   \n",
              "918745  155166674X                       Between Friends     Debbie Macomber   \n",
              "918869  0786004304                         Over the Edge         Bill G. Cox   \n",
              "\n",
              "        Year-Of-Publication         Publisher  \\\n",
              "81                     1991  Putnam Pub Group   \n",
              "84                     1999              Dell   \n",
              "85                     1994             Plume   \n",
              "88                     2004           Too Far   \n",
              "89                     1997  Ballantine Books   \n",
              "...                     ...               ...   \n",
              "918734                 1988              Dell   \n",
              "918736                 1990      Warner Books   \n",
              "918740                 1991            Pocket   \n",
              "918745                 2003        Mira Books   \n",
              "918869                 1997    Pinnacle Books   \n",
              "\n",
              "                                              Image-URL-M  User-ID  \\\n",
              "81      http://images.amazon.com/images/P/0399135782.0...    11676   \n",
              "84      http://images.amazon.com/images/P/0440234743.0...    11676   \n",
              "85      http://images.amazon.com/images/P/0452264464.0...    11676   \n",
              "88      http://images.amazon.com/images/P/0971880107.0...    11676   \n",
              "89      http://images.amazon.com/images/P/0345402871.0...    11676   \n",
              "...                                                   ...      ...   \n",
              "918734  http://images.amazon.com/images/P/0440201926.0...   247958   \n",
              "918736  http://images.amazon.com/images/P/0446353957.0...   247958   \n",
              "918740  http://images.amazon.com/images/P/0671741195.0...   247958   \n",
              "918745  http://images.amazon.com/images/P/155166674X.0...   247958   \n",
              "918869  http://images.amazon.com/images/P/0786004304.0...   247958   \n",
              "\n",
              "        Book-Rating   Age country  \n",
              "81                9  36.0     n/a  \n",
              "84                9  36.0     n/a  \n",
              "85                8  36.0     n/a  \n",
              "88                6  36.0     n/a  \n",
              "89                0  36.0     n/a  \n",
              "...             ...   ...     ...  \n",
              "918734           10  44.0     usa  \n",
              "918736            0  44.0     usa  \n",
              "918740            0  44.0     usa  \n",
              "918745            0  44.0     usa  \n",
              "918869            0  44.0     usa  \n",
              "\n",
              "[73442 rows x 10 columns]"
            ]
          },
          "execution_count": 73,
          "metadata": {},
          "output_type": "execute_result"
        }
      ],
      "source": [
        "y=filtered_df.groupby('Book-Title').count()['Book-Rating']>50     #applying filter condition on book title\n",
        "good_books=y[y].index #List of books which is having more than 50 ratings\n",
        "filtered_df2=filtered_df[filtered_df['Book-Title'].isin(good_books)]\n",
        "filtered_df2"
      ]
    },
    {
      "cell_type": "code",
      "execution_count": null,
      "metadata": {
        "colab": {
          "base_uri": "https://localhost:8080/",
          "height": 533
        },
        "id": "M5A7gMRL-oSX",
        "outputId": "7a03d4a6-e77e-46ac-c8e3-6fe890ce3230"
      },
      "outputs": [
        {
          "data": {
            "text/html": [
              "<div>\n",
              "<style scoped>\n",
              "    .dataframe tbody tr th:only-of-type {\n",
              "        vertical-align: middle;\n",
              "    }\n",
              "\n",
              "    .dataframe tbody tr th {\n",
              "        vertical-align: top;\n",
              "    }\n",
              "\n",
              "    .dataframe thead th {\n",
              "        text-align: right;\n",
              "    }\n",
              "</style>\n",
              "<table border=\"1\" class=\"dataframe\">\n",
              "  <thead>\n",
              "    <tr style=\"text-align: right;\">\n",
              "      <th>User-ID</th>\n",
              "      <th>254</th>\n",
              "      <th>1733</th>\n",
              "      <th>1903</th>\n",
              "      <th>2033</th>\n",
              "      <th>2110</th>\n",
              "      <th>2276</th>\n",
              "      <th>2766</th>\n",
              "      <th>2891</th>\n",
              "      <th>2977</th>\n",
              "      <th>3363</th>\n",
              "      <th>...</th>\n",
              "      <th>274301</th>\n",
              "      <th>274308</th>\n",
              "      <th>274808</th>\n",
              "      <th>275970</th>\n",
              "      <th>276680</th>\n",
              "      <th>277427</th>\n",
              "      <th>277478</th>\n",
              "      <th>277639</th>\n",
              "      <th>278188</th>\n",
              "      <th>278418</th>\n",
              "    </tr>\n",
              "    <tr>\n",
              "      <th>Book-Title</th>\n",
              "      <th></th>\n",
              "      <th></th>\n",
              "      <th></th>\n",
              "      <th></th>\n",
              "      <th></th>\n",
              "      <th></th>\n",
              "      <th></th>\n",
              "      <th></th>\n",
              "      <th></th>\n",
              "      <th></th>\n",
              "      <th></th>\n",
              "      <th></th>\n",
              "      <th></th>\n",
              "      <th></th>\n",
              "      <th></th>\n",
              "      <th></th>\n",
              "      <th></th>\n",
              "      <th></th>\n",
              "      <th></th>\n",
              "      <th></th>\n",
              "      <th></th>\n",
              "    </tr>\n",
              "  </thead>\n",
              "  <tbody>\n",
              "    <tr>\n",
              "      <th>1984</th>\n",
              "      <td>9.0</td>\n",
              "      <td>NaN</td>\n",
              "      <td>NaN</td>\n",
              "      <td>NaN</td>\n",
              "      <td>NaN</td>\n",
              "      <td>NaN</td>\n",
              "      <td>NaN</td>\n",
              "      <td>NaN</td>\n",
              "      <td>NaN</td>\n",
              "      <td>NaN</td>\n",
              "      <td>...</td>\n",
              "      <td>NaN</td>\n",
              "      <td>NaN</td>\n",
              "      <td>NaN</td>\n",
              "      <td>0.0</td>\n",
              "      <td>NaN</td>\n",
              "      <td>NaN</td>\n",
              "      <td>NaN</td>\n",
              "      <td>NaN</td>\n",
              "      <td>NaN</td>\n",
              "      <td>NaN</td>\n",
              "    </tr>\n",
              "    <tr>\n",
              "      <th>1st to Die: A Novel</th>\n",
              "      <td>NaN</td>\n",
              "      <td>NaN</td>\n",
              "      <td>NaN</td>\n",
              "      <td>NaN</td>\n",
              "      <td>NaN</td>\n",
              "      <td>NaN</td>\n",
              "      <td>NaN</td>\n",
              "      <td>NaN</td>\n",
              "      <td>NaN</td>\n",
              "      <td>NaN</td>\n",
              "      <td>...</td>\n",
              "      <td>NaN</td>\n",
              "      <td>NaN</td>\n",
              "      <td>NaN</td>\n",
              "      <td>NaN</td>\n",
              "      <td>NaN</td>\n",
              "      <td>NaN</td>\n",
              "      <td>NaN</td>\n",
              "      <td>NaN</td>\n",
              "      <td>NaN</td>\n",
              "      <td>NaN</td>\n",
              "    </tr>\n",
              "    <tr>\n",
              "      <th>2nd Chance</th>\n",
              "      <td>NaN</td>\n",
              "      <td>NaN</td>\n",
              "      <td>NaN</td>\n",
              "      <td>NaN</td>\n",
              "      <td>NaN</td>\n",
              "      <td>10.0</td>\n",
              "      <td>NaN</td>\n",
              "      <td>NaN</td>\n",
              "      <td>NaN</td>\n",
              "      <td>NaN</td>\n",
              "      <td>...</td>\n",
              "      <td>NaN</td>\n",
              "      <td>0.0</td>\n",
              "      <td>NaN</td>\n",
              "      <td>NaN</td>\n",
              "      <td>NaN</td>\n",
              "      <td>NaN</td>\n",
              "      <td>NaN</td>\n",
              "      <td>0.0</td>\n",
              "      <td>NaN</td>\n",
              "      <td>NaN</td>\n",
              "    </tr>\n",
              "    <tr>\n",
              "      <th>4 Blondes</th>\n",
              "      <td>NaN</td>\n",
              "      <td>NaN</td>\n",
              "      <td>NaN</td>\n",
              "      <td>NaN</td>\n",
              "      <td>NaN</td>\n",
              "      <td>NaN</td>\n",
              "      <td>NaN</td>\n",
              "      <td>NaN</td>\n",
              "      <td>NaN</td>\n",
              "      <td>NaN</td>\n",
              "      <td>...</td>\n",
              "      <td>NaN</td>\n",
              "      <td>NaN</td>\n",
              "      <td>NaN</td>\n",
              "      <td>NaN</td>\n",
              "      <td>NaN</td>\n",
              "      <td>NaN</td>\n",
              "      <td>NaN</td>\n",
              "      <td>NaN</td>\n",
              "      <td>NaN</td>\n",
              "      <td>NaN</td>\n",
              "    </tr>\n",
              "    <tr>\n",
              "      <th>A Beautiful Mind: The Life of Mathematical Genius and Nobel Laureate John Nash</th>\n",
              "      <td>NaN</td>\n",
              "      <td>NaN</td>\n",
              "      <td>NaN</td>\n",
              "      <td>NaN</td>\n",
              "      <td>NaN</td>\n",
              "      <td>NaN</td>\n",
              "      <td>NaN</td>\n",
              "      <td>NaN</td>\n",
              "      <td>NaN</td>\n",
              "      <td>NaN</td>\n",
              "      <td>...</td>\n",
              "      <td>NaN</td>\n",
              "      <td>NaN</td>\n",
              "      <td>NaN</td>\n",
              "      <td>NaN</td>\n",
              "      <td>NaN</td>\n",
              "      <td>NaN</td>\n",
              "      <td>NaN</td>\n",
              "      <td>NaN</td>\n",
              "      <td>NaN</td>\n",
              "      <td>NaN</td>\n",
              "    </tr>\n",
              "    <tr>\n",
              "      <th>...</th>\n",
              "      <td>...</td>\n",
              "      <td>...</td>\n",
              "      <td>...</td>\n",
              "      <td>...</td>\n",
              "      <td>...</td>\n",
              "      <td>...</td>\n",
              "      <td>...</td>\n",
              "      <td>...</td>\n",
              "      <td>...</td>\n",
              "      <td>...</td>\n",
              "      <td>...</td>\n",
              "      <td>...</td>\n",
              "      <td>...</td>\n",
              "      <td>...</td>\n",
              "      <td>...</td>\n",
              "      <td>...</td>\n",
              "      <td>...</td>\n",
              "      <td>...</td>\n",
              "      <td>...</td>\n",
              "      <td>...</td>\n",
              "      <td>...</td>\n",
              "    </tr>\n",
              "    <tr>\n",
              "      <th>Year of Wonders</th>\n",
              "      <td>NaN</td>\n",
              "      <td>NaN</td>\n",
              "      <td>NaN</td>\n",
              "      <td>NaN</td>\n",
              "      <td>NaN</td>\n",
              "      <td>NaN</td>\n",
              "      <td>NaN</td>\n",
              "      <td>NaN</td>\n",
              "      <td>7.0</td>\n",
              "      <td>NaN</td>\n",
              "      <td>...</td>\n",
              "      <td>NaN</td>\n",
              "      <td>NaN</td>\n",
              "      <td>NaN</td>\n",
              "      <td>0.0</td>\n",
              "      <td>NaN</td>\n",
              "      <td>NaN</td>\n",
              "      <td>NaN</td>\n",
              "      <td>NaN</td>\n",
              "      <td>NaN</td>\n",
              "      <td>NaN</td>\n",
              "    </tr>\n",
              "    <tr>\n",
              "      <th>You Belong To Me</th>\n",
              "      <td>NaN</td>\n",
              "      <td>NaN</td>\n",
              "      <td>NaN</td>\n",
              "      <td>NaN</td>\n",
              "      <td>NaN</td>\n",
              "      <td>NaN</td>\n",
              "      <td>NaN</td>\n",
              "      <td>NaN</td>\n",
              "      <td>NaN</td>\n",
              "      <td>NaN</td>\n",
              "      <td>...</td>\n",
              "      <td>NaN</td>\n",
              "      <td>NaN</td>\n",
              "      <td>NaN</td>\n",
              "      <td>NaN</td>\n",
              "      <td>NaN</td>\n",
              "      <td>NaN</td>\n",
              "      <td>NaN</td>\n",
              "      <td>NaN</td>\n",
              "      <td>NaN</td>\n",
              "      <td>NaN</td>\n",
              "    </tr>\n",
              "    <tr>\n",
              "      <th>Zen and the Art of Motorcycle Maintenance: An Inquiry into Values</th>\n",
              "      <td>NaN</td>\n",
              "      <td>NaN</td>\n",
              "      <td>NaN</td>\n",
              "      <td>NaN</td>\n",
              "      <td>NaN</td>\n",
              "      <td>NaN</td>\n",
              "      <td>NaN</td>\n",
              "      <td>NaN</td>\n",
              "      <td>NaN</td>\n",
              "      <td>0.0</td>\n",
              "      <td>...</td>\n",
              "      <td>NaN</td>\n",
              "      <td>NaN</td>\n",
              "      <td>NaN</td>\n",
              "      <td>0.0</td>\n",
              "      <td>NaN</td>\n",
              "      <td>NaN</td>\n",
              "      <td>NaN</td>\n",
              "      <td>NaN</td>\n",
              "      <td>NaN</td>\n",
              "      <td>NaN</td>\n",
              "    </tr>\n",
              "    <tr>\n",
              "      <th>Zoya</th>\n",
              "      <td>NaN</td>\n",
              "      <td>NaN</td>\n",
              "      <td>NaN</td>\n",
              "      <td>NaN</td>\n",
              "      <td>NaN</td>\n",
              "      <td>NaN</td>\n",
              "      <td>NaN</td>\n",
              "      <td>NaN</td>\n",
              "      <td>NaN</td>\n",
              "      <td>NaN</td>\n",
              "      <td>...</td>\n",
              "      <td>NaN</td>\n",
              "      <td>NaN</td>\n",
              "      <td>NaN</td>\n",
              "      <td>NaN</td>\n",
              "      <td>NaN</td>\n",
              "      <td>NaN</td>\n",
              "      <td>NaN</td>\n",
              "      <td>NaN</td>\n",
              "      <td>NaN</td>\n",
              "      <td>NaN</td>\n",
              "    </tr>\n",
              "    <tr>\n",
              "      <th>\\O\\\" Is for Outlaw\"</th>\n",
              "      <td>NaN</td>\n",
              "      <td>NaN</td>\n",
              "      <td>NaN</td>\n",
              "      <td>0.0</td>\n",
              "      <td>NaN</td>\n",
              "      <td>NaN</td>\n",
              "      <td>NaN</td>\n",
              "      <td>NaN</td>\n",
              "      <td>NaN</td>\n",
              "      <td>NaN</td>\n",
              "      <td>...</td>\n",
              "      <td>8.0</td>\n",
              "      <td>NaN</td>\n",
              "      <td>NaN</td>\n",
              "      <td>NaN</td>\n",
              "      <td>NaN</td>\n",
              "      <td>NaN</td>\n",
              "      <td>NaN</td>\n",
              "      <td>NaN</td>\n",
              "      <td>NaN</td>\n",
              "      <td>NaN</td>\n",
              "    </tr>\n",
              "  </tbody>\n",
              "</table>\n",
              "<p>839 rows × 1102 columns</p>\n",
              "</div>"
            ],
            "text/plain": [
              "User-ID                                             254     1733    1903    \\\n",
              "Book-Title                                                                   \n",
              "1984                                                   9.0     NaN     NaN   \n",
              "1st to Die: A Novel                                    NaN     NaN     NaN   \n",
              "2nd Chance                                             NaN     NaN     NaN   \n",
              "4 Blondes                                              NaN     NaN     NaN   \n",
              "A Beautiful Mind: The Life of Mathematical Geni...     NaN     NaN     NaN   \n",
              "...                                                    ...     ...     ...   \n",
              "Year of Wonders                                        NaN     NaN     NaN   \n",
              "You Belong To Me                                       NaN     NaN     NaN   \n",
              "Zen and the Art of Motorcycle Maintenance: An I...     NaN     NaN     NaN   \n",
              "Zoya                                                   NaN     NaN     NaN   \n",
              "\\O\\\" Is for Outlaw\"                                    NaN     NaN     NaN   \n",
              "\n",
              "User-ID                                             2033    2110    2276    \\\n",
              "Book-Title                                                                   \n",
              "1984                                                   NaN     NaN     NaN   \n",
              "1st to Die: A Novel                                    NaN     NaN     NaN   \n",
              "2nd Chance                                             NaN     NaN    10.0   \n",
              "4 Blondes                                              NaN     NaN     NaN   \n",
              "A Beautiful Mind: The Life of Mathematical Geni...     NaN     NaN     NaN   \n",
              "...                                                    ...     ...     ...   \n",
              "Year of Wonders                                        NaN     NaN     NaN   \n",
              "You Belong To Me                                       NaN     NaN     NaN   \n",
              "Zen and the Art of Motorcycle Maintenance: An I...     NaN     NaN     NaN   \n",
              "Zoya                                                   NaN     NaN     NaN   \n",
              "\\O\\\" Is for Outlaw\"                                    0.0     NaN     NaN   \n",
              "\n",
              "User-ID                                             2766    2891    2977    \\\n",
              "Book-Title                                                                   \n",
              "1984                                                   NaN     NaN     NaN   \n",
              "1st to Die: A Novel                                    NaN     NaN     NaN   \n",
              "2nd Chance                                             NaN     NaN     NaN   \n",
              "4 Blondes                                              NaN     NaN     NaN   \n",
              "A Beautiful Mind: The Life of Mathematical Geni...     NaN     NaN     NaN   \n",
              "...                                                    ...     ...     ...   \n",
              "Year of Wonders                                        NaN     NaN     7.0   \n",
              "You Belong To Me                                       NaN     NaN     NaN   \n",
              "Zen and the Art of Motorcycle Maintenance: An I...     NaN     NaN     NaN   \n",
              "Zoya                                                   NaN     NaN     NaN   \n",
              "\\O\\\" Is for Outlaw\"                                    NaN     NaN     NaN   \n",
              "\n",
              "User-ID                                             3363    ...  274301  \\\n",
              "Book-Title                                                  ...           \n",
              "1984                                                   NaN  ...     NaN   \n",
              "1st to Die: A Novel                                    NaN  ...     NaN   \n",
              "2nd Chance                                             NaN  ...     NaN   \n",
              "4 Blondes                                              NaN  ...     NaN   \n",
              "A Beautiful Mind: The Life of Mathematical Geni...     NaN  ...     NaN   \n",
              "...                                                    ...  ...     ...   \n",
              "Year of Wonders                                        NaN  ...     NaN   \n",
              "You Belong To Me                                       NaN  ...     NaN   \n",
              "Zen and the Art of Motorcycle Maintenance: An I...     0.0  ...     NaN   \n",
              "Zoya                                                   NaN  ...     NaN   \n",
              "\\O\\\" Is for Outlaw\"                                    NaN  ...     8.0   \n",
              "\n",
              "User-ID                                             274308  274808  275970  \\\n",
              "Book-Title                                                                   \n",
              "1984                                                   NaN     NaN     0.0   \n",
              "1st to Die: A Novel                                    NaN     NaN     NaN   \n",
              "2nd Chance                                             0.0     NaN     NaN   \n",
              "4 Blondes                                              NaN     NaN     NaN   \n",
              "A Beautiful Mind: The Life of Mathematical Geni...     NaN     NaN     NaN   \n",
              "...                                                    ...     ...     ...   \n",
              "Year of Wonders                                        NaN     NaN     0.0   \n",
              "You Belong To Me                                       NaN     NaN     NaN   \n",
              "Zen and the Art of Motorcycle Maintenance: An I...     NaN     NaN     0.0   \n",
              "Zoya                                                   NaN     NaN     NaN   \n",
              "\\O\\\" Is for Outlaw\"                                    NaN     NaN     NaN   \n",
              "\n",
              "User-ID                                             276680  277427  277478  \\\n",
              "Book-Title                                                                   \n",
              "1984                                                   NaN     NaN     NaN   \n",
              "1st to Die: A Novel                                    NaN     NaN     NaN   \n",
              "2nd Chance                                             NaN     NaN     NaN   \n",
              "4 Blondes                                              NaN     NaN     NaN   \n",
              "A Beautiful Mind: The Life of Mathematical Geni...     NaN     NaN     NaN   \n",
              "...                                                    ...     ...     ...   \n",
              "Year of Wonders                                        NaN     NaN     NaN   \n",
              "You Belong To Me                                       NaN     NaN     NaN   \n",
              "Zen and the Art of Motorcycle Maintenance: An I...     NaN     NaN     NaN   \n",
              "Zoya                                                   NaN     NaN     NaN   \n",
              "\\O\\\" Is for Outlaw\"                                    NaN     NaN     NaN   \n",
              "\n",
              "User-ID                                             277639  278188  278418  \n",
              "Book-Title                                                                  \n",
              "1984                                                   NaN     NaN     NaN  \n",
              "1st to Die: A Novel                                    NaN     NaN     NaN  \n",
              "2nd Chance                                             0.0     NaN     NaN  \n",
              "4 Blondes                                              NaN     NaN     NaN  \n",
              "A Beautiful Mind: The Life of Mathematical Geni...     NaN     NaN     NaN  \n",
              "...                                                    ...     ...     ...  \n",
              "Year of Wonders                                        NaN     NaN     NaN  \n",
              "You Belong To Me                                       NaN     NaN     NaN  \n",
              "Zen and the Art of Motorcycle Maintenance: An I...     NaN     NaN     NaN  \n",
              "Zoya                                                   NaN     NaN     NaN  \n",
              "\\O\\\" Is for Outlaw\"                                    NaN     NaN     NaN  \n",
              "\n",
              "[839 rows x 1102 columns]"
            ]
          },
          "execution_count": 74,
          "metadata": {},
          "output_type": "execute_result"
        }
      ],
      "source": [
        "#Creating pivot table \n",
        "pivot=filtered_df2.pivot_table(index='Book-Title',columns='User-ID',values='Book-Rating')\n",
        "pivot"
      ]
    },
    {
      "cell_type": "code",
      "execution_count": null,
      "metadata": {
        "colab": {
          "base_uri": "https://localhost:8080/",
          "height": 533
        },
        "id": "S-megn2h_3uv",
        "outputId": "df073c08-e2b1-4584-816f-dee7fae18b28"
      },
      "outputs": [
        {
          "data": {
            "text/html": [
              "<div>\n",
              "<style scoped>\n",
              "    .dataframe tbody tr th:only-of-type {\n",
              "        vertical-align: middle;\n",
              "    }\n",
              "\n",
              "    .dataframe tbody tr th {\n",
              "        vertical-align: top;\n",
              "    }\n",
              "\n",
              "    .dataframe thead th {\n",
              "        text-align: right;\n",
              "    }\n",
              "</style>\n",
              "<table border=\"1\" class=\"dataframe\">\n",
              "  <thead>\n",
              "    <tr style=\"text-align: right;\">\n",
              "      <th>User-ID</th>\n",
              "      <th>254</th>\n",
              "      <th>1733</th>\n",
              "      <th>1903</th>\n",
              "      <th>2033</th>\n",
              "      <th>2110</th>\n",
              "      <th>2276</th>\n",
              "      <th>2766</th>\n",
              "      <th>2891</th>\n",
              "      <th>2977</th>\n",
              "      <th>3363</th>\n",
              "      <th>...</th>\n",
              "      <th>274301</th>\n",
              "      <th>274308</th>\n",
              "      <th>274808</th>\n",
              "      <th>275970</th>\n",
              "      <th>276680</th>\n",
              "      <th>277427</th>\n",
              "      <th>277478</th>\n",
              "      <th>277639</th>\n",
              "      <th>278188</th>\n",
              "      <th>278418</th>\n",
              "    </tr>\n",
              "    <tr>\n",
              "      <th>Book-Title</th>\n",
              "      <th></th>\n",
              "      <th></th>\n",
              "      <th></th>\n",
              "      <th></th>\n",
              "      <th></th>\n",
              "      <th></th>\n",
              "      <th></th>\n",
              "      <th></th>\n",
              "      <th></th>\n",
              "      <th></th>\n",
              "      <th></th>\n",
              "      <th></th>\n",
              "      <th></th>\n",
              "      <th></th>\n",
              "      <th></th>\n",
              "      <th></th>\n",
              "      <th></th>\n",
              "      <th></th>\n",
              "      <th></th>\n",
              "      <th></th>\n",
              "      <th></th>\n",
              "    </tr>\n",
              "  </thead>\n",
              "  <tbody>\n",
              "    <tr>\n",
              "      <th>1984</th>\n",
              "      <td>9.0</td>\n",
              "      <td>0.0</td>\n",
              "      <td>0.0</td>\n",
              "      <td>0.0</td>\n",
              "      <td>0.0</td>\n",
              "      <td>0.0</td>\n",
              "      <td>0.0</td>\n",
              "      <td>0.0</td>\n",
              "      <td>0.0</td>\n",
              "      <td>0.0</td>\n",
              "      <td>...</td>\n",
              "      <td>0.0</td>\n",
              "      <td>0.0</td>\n",
              "      <td>0.0</td>\n",
              "      <td>0.0</td>\n",
              "      <td>0.0</td>\n",
              "      <td>0.0</td>\n",
              "      <td>0.0</td>\n",
              "      <td>0.0</td>\n",
              "      <td>0.0</td>\n",
              "      <td>0.0</td>\n",
              "    </tr>\n",
              "    <tr>\n",
              "      <th>1st to Die: A Novel</th>\n",
              "      <td>0.0</td>\n",
              "      <td>0.0</td>\n",
              "      <td>0.0</td>\n",
              "      <td>0.0</td>\n",
              "      <td>0.0</td>\n",
              "      <td>0.0</td>\n",
              "      <td>0.0</td>\n",
              "      <td>0.0</td>\n",
              "      <td>0.0</td>\n",
              "      <td>0.0</td>\n",
              "      <td>...</td>\n",
              "      <td>0.0</td>\n",
              "      <td>0.0</td>\n",
              "      <td>0.0</td>\n",
              "      <td>0.0</td>\n",
              "      <td>0.0</td>\n",
              "      <td>0.0</td>\n",
              "      <td>0.0</td>\n",
              "      <td>0.0</td>\n",
              "      <td>0.0</td>\n",
              "      <td>0.0</td>\n",
              "    </tr>\n",
              "    <tr>\n",
              "      <th>2nd Chance</th>\n",
              "      <td>0.0</td>\n",
              "      <td>0.0</td>\n",
              "      <td>0.0</td>\n",
              "      <td>0.0</td>\n",
              "      <td>0.0</td>\n",
              "      <td>10.0</td>\n",
              "      <td>0.0</td>\n",
              "      <td>0.0</td>\n",
              "      <td>0.0</td>\n",
              "      <td>0.0</td>\n",
              "      <td>...</td>\n",
              "      <td>0.0</td>\n",
              "      <td>0.0</td>\n",
              "      <td>0.0</td>\n",
              "      <td>0.0</td>\n",
              "      <td>0.0</td>\n",
              "      <td>0.0</td>\n",
              "      <td>0.0</td>\n",
              "      <td>0.0</td>\n",
              "      <td>0.0</td>\n",
              "      <td>0.0</td>\n",
              "    </tr>\n",
              "    <tr>\n",
              "      <th>4 Blondes</th>\n",
              "      <td>0.0</td>\n",
              "      <td>0.0</td>\n",
              "      <td>0.0</td>\n",
              "      <td>0.0</td>\n",
              "      <td>0.0</td>\n",
              "      <td>0.0</td>\n",
              "      <td>0.0</td>\n",
              "      <td>0.0</td>\n",
              "      <td>0.0</td>\n",
              "      <td>0.0</td>\n",
              "      <td>...</td>\n",
              "      <td>0.0</td>\n",
              "      <td>0.0</td>\n",
              "      <td>0.0</td>\n",
              "      <td>0.0</td>\n",
              "      <td>0.0</td>\n",
              "      <td>0.0</td>\n",
              "      <td>0.0</td>\n",
              "      <td>0.0</td>\n",
              "      <td>0.0</td>\n",
              "      <td>0.0</td>\n",
              "    </tr>\n",
              "    <tr>\n",
              "      <th>A Beautiful Mind: The Life of Mathematical Genius and Nobel Laureate John Nash</th>\n",
              "      <td>0.0</td>\n",
              "      <td>0.0</td>\n",
              "      <td>0.0</td>\n",
              "      <td>0.0</td>\n",
              "      <td>0.0</td>\n",
              "      <td>0.0</td>\n",
              "      <td>0.0</td>\n",
              "      <td>0.0</td>\n",
              "      <td>0.0</td>\n",
              "      <td>0.0</td>\n",
              "      <td>...</td>\n",
              "      <td>0.0</td>\n",
              "      <td>0.0</td>\n",
              "      <td>0.0</td>\n",
              "      <td>0.0</td>\n",
              "      <td>0.0</td>\n",
              "      <td>0.0</td>\n",
              "      <td>0.0</td>\n",
              "      <td>0.0</td>\n",
              "      <td>0.0</td>\n",
              "      <td>0.0</td>\n",
              "    </tr>\n",
              "    <tr>\n",
              "      <th>...</th>\n",
              "      <td>...</td>\n",
              "      <td>...</td>\n",
              "      <td>...</td>\n",
              "      <td>...</td>\n",
              "      <td>...</td>\n",
              "      <td>...</td>\n",
              "      <td>...</td>\n",
              "      <td>...</td>\n",
              "      <td>...</td>\n",
              "      <td>...</td>\n",
              "      <td>...</td>\n",
              "      <td>...</td>\n",
              "      <td>...</td>\n",
              "      <td>...</td>\n",
              "      <td>...</td>\n",
              "      <td>...</td>\n",
              "      <td>...</td>\n",
              "      <td>...</td>\n",
              "      <td>...</td>\n",
              "      <td>...</td>\n",
              "      <td>...</td>\n",
              "    </tr>\n",
              "    <tr>\n",
              "      <th>Year of Wonders</th>\n",
              "      <td>0.0</td>\n",
              "      <td>0.0</td>\n",
              "      <td>0.0</td>\n",
              "      <td>0.0</td>\n",
              "      <td>0.0</td>\n",
              "      <td>0.0</td>\n",
              "      <td>0.0</td>\n",
              "      <td>0.0</td>\n",
              "      <td>7.0</td>\n",
              "      <td>0.0</td>\n",
              "      <td>...</td>\n",
              "      <td>0.0</td>\n",
              "      <td>0.0</td>\n",
              "      <td>0.0</td>\n",
              "      <td>0.0</td>\n",
              "      <td>0.0</td>\n",
              "      <td>0.0</td>\n",
              "      <td>0.0</td>\n",
              "      <td>0.0</td>\n",
              "      <td>0.0</td>\n",
              "      <td>0.0</td>\n",
              "    </tr>\n",
              "    <tr>\n",
              "      <th>You Belong To Me</th>\n",
              "      <td>0.0</td>\n",
              "      <td>0.0</td>\n",
              "      <td>0.0</td>\n",
              "      <td>0.0</td>\n",
              "      <td>0.0</td>\n",
              "      <td>0.0</td>\n",
              "      <td>0.0</td>\n",
              "      <td>0.0</td>\n",
              "      <td>0.0</td>\n",
              "      <td>0.0</td>\n",
              "      <td>...</td>\n",
              "      <td>0.0</td>\n",
              "      <td>0.0</td>\n",
              "      <td>0.0</td>\n",
              "      <td>0.0</td>\n",
              "      <td>0.0</td>\n",
              "      <td>0.0</td>\n",
              "      <td>0.0</td>\n",
              "      <td>0.0</td>\n",
              "      <td>0.0</td>\n",
              "      <td>0.0</td>\n",
              "    </tr>\n",
              "    <tr>\n",
              "      <th>Zen and the Art of Motorcycle Maintenance: An Inquiry into Values</th>\n",
              "      <td>0.0</td>\n",
              "      <td>0.0</td>\n",
              "      <td>0.0</td>\n",
              "      <td>0.0</td>\n",
              "      <td>0.0</td>\n",
              "      <td>0.0</td>\n",
              "      <td>0.0</td>\n",
              "      <td>0.0</td>\n",
              "      <td>0.0</td>\n",
              "      <td>0.0</td>\n",
              "      <td>...</td>\n",
              "      <td>0.0</td>\n",
              "      <td>0.0</td>\n",
              "      <td>0.0</td>\n",
              "      <td>0.0</td>\n",
              "      <td>0.0</td>\n",
              "      <td>0.0</td>\n",
              "      <td>0.0</td>\n",
              "      <td>0.0</td>\n",
              "      <td>0.0</td>\n",
              "      <td>0.0</td>\n",
              "    </tr>\n",
              "    <tr>\n",
              "      <th>Zoya</th>\n",
              "      <td>0.0</td>\n",
              "      <td>0.0</td>\n",
              "      <td>0.0</td>\n",
              "      <td>0.0</td>\n",
              "      <td>0.0</td>\n",
              "      <td>0.0</td>\n",
              "      <td>0.0</td>\n",
              "      <td>0.0</td>\n",
              "      <td>0.0</td>\n",
              "      <td>0.0</td>\n",
              "      <td>...</td>\n",
              "      <td>0.0</td>\n",
              "      <td>0.0</td>\n",
              "      <td>0.0</td>\n",
              "      <td>0.0</td>\n",
              "      <td>0.0</td>\n",
              "      <td>0.0</td>\n",
              "      <td>0.0</td>\n",
              "      <td>0.0</td>\n",
              "      <td>0.0</td>\n",
              "      <td>0.0</td>\n",
              "    </tr>\n",
              "    <tr>\n",
              "      <th>\\O\\\" Is for Outlaw\"</th>\n",
              "      <td>0.0</td>\n",
              "      <td>0.0</td>\n",
              "      <td>0.0</td>\n",
              "      <td>0.0</td>\n",
              "      <td>0.0</td>\n",
              "      <td>0.0</td>\n",
              "      <td>0.0</td>\n",
              "      <td>0.0</td>\n",
              "      <td>0.0</td>\n",
              "      <td>0.0</td>\n",
              "      <td>...</td>\n",
              "      <td>8.0</td>\n",
              "      <td>0.0</td>\n",
              "      <td>0.0</td>\n",
              "      <td>0.0</td>\n",
              "      <td>0.0</td>\n",
              "      <td>0.0</td>\n",
              "      <td>0.0</td>\n",
              "      <td>0.0</td>\n",
              "      <td>0.0</td>\n",
              "      <td>0.0</td>\n",
              "    </tr>\n",
              "  </tbody>\n",
              "</table>\n",
              "<p>839 rows × 1102 columns</p>\n",
              "</div>"
            ],
            "text/plain": [
              "User-ID                                             254     1733    1903    \\\n",
              "Book-Title                                                                   \n",
              "1984                                                   9.0     0.0     0.0   \n",
              "1st to Die: A Novel                                    0.0     0.0     0.0   \n",
              "2nd Chance                                             0.0     0.0     0.0   \n",
              "4 Blondes                                              0.0     0.0     0.0   \n",
              "A Beautiful Mind: The Life of Mathematical Geni...     0.0     0.0     0.0   \n",
              "...                                                    ...     ...     ...   \n",
              "Year of Wonders                                        0.0     0.0     0.0   \n",
              "You Belong To Me                                       0.0     0.0     0.0   \n",
              "Zen and the Art of Motorcycle Maintenance: An I...     0.0     0.0     0.0   \n",
              "Zoya                                                   0.0     0.0     0.0   \n",
              "\\O\\\" Is for Outlaw\"                                    0.0     0.0     0.0   \n",
              "\n",
              "User-ID                                             2033    2110    2276    \\\n",
              "Book-Title                                                                   \n",
              "1984                                                   0.0     0.0     0.0   \n",
              "1st to Die: A Novel                                    0.0     0.0     0.0   \n",
              "2nd Chance                                             0.0     0.0    10.0   \n",
              "4 Blondes                                              0.0     0.0     0.0   \n",
              "A Beautiful Mind: The Life of Mathematical Geni...     0.0     0.0     0.0   \n",
              "...                                                    ...     ...     ...   \n",
              "Year of Wonders                                        0.0     0.0     0.0   \n",
              "You Belong To Me                                       0.0     0.0     0.0   \n",
              "Zen and the Art of Motorcycle Maintenance: An I...     0.0     0.0     0.0   \n",
              "Zoya                                                   0.0     0.0     0.0   \n",
              "\\O\\\" Is for Outlaw\"                                    0.0     0.0     0.0   \n",
              "\n",
              "User-ID                                             2766    2891    2977    \\\n",
              "Book-Title                                                                   \n",
              "1984                                                   0.0     0.0     0.0   \n",
              "1st to Die: A Novel                                    0.0     0.0     0.0   \n",
              "2nd Chance                                             0.0     0.0     0.0   \n",
              "4 Blondes                                              0.0     0.0     0.0   \n",
              "A Beautiful Mind: The Life of Mathematical Geni...     0.0     0.0     0.0   \n",
              "...                                                    ...     ...     ...   \n",
              "Year of Wonders                                        0.0     0.0     7.0   \n",
              "You Belong To Me                                       0.0     0.0     0.0   \n",
              "Zen and the Art of Motorcycle Maintenance: An I...     0.0     0.0     0.0   \n",
              "Zoya                                                   0.0     0.0     0.0   \n",
              "\\O\\\" Is for Outlaw\"                                    0.0     0.0     0.0   \n",
              "\n",
              "User-ID                                             3363    ...  274301  \\\n",
              "Book-Title                                                  ...           \n",
              "1984                                                   0.0  ...     0.0   \n",
              "1st to Die: A Novel                                    0.0  ...     0.0   \n",
              "2nd Chance                                             0.0  ...     0.0   \n",
              "4 Blondes                                              0.0  ...     0.0   \n",
              "A Beautiful Mind: The Life of Mathematical Geni...     0.0  ...     0.0   \n",
              "...                                                    ...  ...     ...   \n",
              "Year of Wonders                                        0.0  ...     0.0   \n",
              "You Belong To Me                                       0.0  ...     0.0   \n",
              "Zen and the Art of Motorcycle Maintenance: An I...     0.0  ...     0.0   \n",
              "Zoya                                                   0.0  ...     0.0   \n",
              "\\O\\\" Is for Outlaw\"                                    0.0  ...     8.0   \n",
              "\n",
              "User-ID                                             274308  274808  275970  \\\n",
              "Book-Title                                                                   \n",
              "1984                                                   0.0     0.0     0.0   \n",
              "1st to Die: A Novel                                    0.0     0.0     0.0   \n",
              "2nd Chance                                             0.0     0.0     0.0   \n",
              "4 Blondes                                              0.0     0.0     0.0   \n",
              "A Beautiful Mind: The Life of Mathematical Geni...     0.0     0.0     0.0   \n",
              "...                                                    ...     ...     ...   \n",
              "Year of Wonders                                        0.0     0.0     0.0   \n",
              "You Belong To Me                                       0.0     0.0     0.0   \n",
              "Zen and the Art of Motorcycle Maintenance: An I...     0.0     0.0     0.0   \n",
              "Zoya                                                   0.0     0.0     0.0   \n",
              "\\O\\\" Is for Outlaw\"                                    0.0     0.0     0.0   \n",
              "\n",
              "User-ID                                             276680  277427  277478  \\\n",
              "Book-Title                                                                   \n",
              "1984                                                   0.0     0.0     0.0   \n",
              "1st to Die: A Novel                                    0.0     0.0     0.0   \n",
              "2nd Chance                                             0.0     0.0     0.0   \n",
              "4 Blondes                                              0.0     0.0     0.0   \n",
              "A Beautiful Mind: The Life of Mathematical Geni...     0.0     0.0     0.0   \n",
              "...                                                    ...     ...     ...   \n",
              "Year of Wonders                                        0.0     0.0     0.0   \n",
              "You Belong To Me                                       0.0     0.0     0.0   \n",
              "Zen and the Art of Motorcycle Maintenance: An I...     0.0     0.0     0.0   \n",
              "Zoya                                                   0.0     0.0     0.0   \n",
              "\\O\\\" Is for Outlaw\"                                    0.0     0.0     0.0   \n",
              "\n",
              "User-ID                                             277639  278188  278418  \n",
              "Book-Title                                                                  \n",
              "1984                                                   0.0     0.0     0.0  \n",
              "1st to Die: A Novel                                    0.0     0.0     0.0  \n",
              "2nd Chance                                             0.0     0.0     0.0  \n",
              "4 Blondes                                              0.0     0.0     0.0  \n",
              "A Beautiful Mind: The Life of Mathematical Geni...     0.0     0.0     0.0  \n",
              "...                                                    ...     ...     ...  \n",
              "Year of Wonders                                        0.0     0.0     0.0  \n",
              "You Belong To Me                                       0.0     0.0     0.0  \n",
              "Zen and the Art of Motorcycle Maintenance: An I...     0.0     0.0     0.0  \n",
              "Zoya                                                   0.0     0.0     0.0  \n",
              "\\O\\\" Is for Outlaw\"                                    0.0     0.0     0.0  \n",
              "\n",
              "[839 rows x 1102 columns]"
            ]
          },
          "execution_count": 75,
          "metadata": {},
          "output_type": "execute_result"
        }
      ],
      "source": [
        "#Filling the nan value with 0\n",
        "pivot.fillna(0,inplace=True)\n",
        "pivot"
      ]
    },
    {
      "cell_type": "code",
      "execution_count": null,
      "metadata": {
        "colab": {
          "base_uri": "https://localhost:8080/"
        },
        "id": "3hHaTRxPD7Dd",
        "outputId": "af74d984-387a-49e3-b240-fa825d29d9b8"
      },
      "outputs": [
        {
          "data": {
            "text/plain": [
              "(839, 839)"
            ]
          },
          "execution_count": 137,
          "metadata": {},
          "output_type": "execute_result"
        }
      ],
      "source": [
        "from sklearn.metrics.pairwise import cosine_similarity\n",
        "similarity_score=cosine_similarity(pivot)         #Compare each book with other books and find similar book\n",
        "similarity_score.shape"
      ]
    },
    {
      "cell_type": "code",
      "execution_count": null,
      "metadata": {
        "id": "LzbwTl7AKwfL",
        "outputId": "b5ce1f87-c263-44ec-eec4-9be7e927115a"
      },
      "outputs": [
        {
          "data": {
            "text/plain": [
              "array([[1.        , 0.08202874, 0.01002098, ..., 0.09928384, 0.06628141,\n",
              "        0.03648583],\n",
              "       [0.08202874, 1.        , 0.25233692, ..., 0.06000464, 0.14873547,\n",
              "        0.1435961 ],\n",
              "       [0.01002098, 0.25233692, 1.        , ..., 0.03769791, 0.04493654,\n",
              "        0.09205667],\n",
              "       ...,\n",
              "       [0.09928384, 0.06000464, 0.03769791, ..., 1.        , 0.06439035,\n",
              "        0.01670749],\n",
              "       [0.06628141, 0.14873547, 0.04493654, ..., 0.06439035, 1.        ,\n",
              "        0.09936127],\n",
              "       [0.03648583, 0.1435961 , 0.09205667, ..., 0.01670749, 0.09936127,\n",
              "        1.        ]])"
            ]
          },
          "execution_count": 138,
          "metadata": {},
          "output_type": "execute_result"
        }
      ],
      "source": [
        "similarity_score"
      ]
    },
    {
      "cell_type": "code",
      "execution_count": null,
      "metadata": {
        "id": "pgivOX-HGu_b"
      },
      "outputs": [],
      "source": [
        "#concept\n",
        "#sorted(list(enumerate(similarity_score[0])),key=lambda x:x[1],reverse=True)[1:6]       #List of enumerate function will return the index position along with the distance "
      ]
    },
    {
      "cell_type": "code",
      "execution_count": null,
      "metadata": {
        "colab": {
          "base_uri": "https://localhost:8080/"
        },
        "id": "RYbTkm17Hzzo",
        "outputId": "cd126829-a780-4827-b49d-8d90ea7d882e"
      },
      "outputs": [
        {
          "data": {
            "text/plain": [
              "Index(['1984', '1st to Die: A Novel', '2nd Chance', '4 Blondes',\n",
              "       'A Beautiful Mind: The Life of Mathematical Genius and Nobel Laureate John Nash',\n",
              "       'A Bend in the Road', 'A Case of Need',\n",
              "       'A Child Called \\It\\\": One Child's Courage to Survive\"',\n",
              "       'A Civil Action', 'A Cry In The Night',\n",
              "       ...\n",
              "       'Without Remorse', 'Wizard and Glass (The Dark Tower, Book 4)',\n",
              "       'Women Who Run with the Wolves',\n",
              "       'Word Freak: Heartbreak, Triumph, Genius, and Obsession in the World of Competitive Scrabble Players',\n",
              "       'Wuthering Heights', 'Year of Wonders', 'You Belong To Me',\n",
              "       'Zen and the Art of Motorcycle Maintenance: An Inquiry into Values',\n",
              "       'Zoya', '\\O\\\" Is for Outlaw\"'],\n",
              "      dtype='object', name='Book-Title', length=839)"
            ]
          },
          "execution_count": 78,
          "metadata": {},
          "output_type": "execute_result"
        }
      ],
      "source": [
        "pivot.index"
      ]
    },
    {
      "cell_type": "code",
      "execution_count": null,
      "metadata": {
        "id": "2OA7tv06Fkjl"
      },
      "outputs": [],
      "source": [
        "#Defining a function which would take a book name and returns suggesion based on the book\n",
        "def recommender(book_name):\n",
        "  index=np.where(pivot.index==book_name)[0][0]\n",
        "  similar_items=sorted(list(enumerate(similarity_score[index])),key=lambda x:x[1],reverse=True)[1:6]\n",
        "\n",
        "  for i in similar_items:\n",
        "    print(pivot.index[i[0]]) "
      ]
    },
    {
      "cell_type": "code",
      "execution_count": null,
      "metadata": {
        "colab": {
          "base_uri": "https://localhost:8080/"
        },
        "id": "_7d_uD30dbQ0",
        "outputId": "1fd700ef-5ffb-4e4d-baad-d68edc84c1c8"
      },
      "outputs": [
        {
          "name": "stdout",
          "output_type": "stream",
          "text": [
            "Fine Things\n",
            "Secrets\n",
            "Kaleidoscope\n",
            "Message from Nam\n",
            "Five Days in Paris\n"
          ]
        }
      ],
      "source": [
        "recommender('Zoya')"
      ]
    },
    {
      "cell_type": "code",
      "execution_count": null,
      "metadata": {
        "id": "VVcQR6FaKwfM",
        "outputId": "ab7123cc-92b5-4d99-eab9-a73d9a01c3a5"
      },
      "outputs": [
        {
          "name": "stdout",
          "output_type": "stream",
          "text": [
            "Animal Farm\n",
            "Lord of the Flies\n",
            "Slaughterhouse Five or the Children's Crusade: A Duty Dance With Death\n",
            "The Handmaid's Tale\n",
            "Brave New World\n"
          ]
        }
      ],
      "source": [
        "recommender('1984')"
      ]
    },
    {
      "cell_type": "markdown",
      "metadata": {
        "id": "oaTlyS2CdbQ0"
      },
      "source": [
        "# Knn Clustering model"
      ]
    },
    {
      "cell_type": "code",
      "execution_count": null,
      "metadata": {
        "colab": {
          "base_uri": "https://localhost:8080/",
          "height": 206
        },
        "id": "Njod9W_gdbQ0",
        "outputId": "a33f808c-d92e-41c5-8070-f45840764fda"
      },
      "outputs": [
        {
          "data": {
            "text/html": [
              "<div>\n",
              "<style scoped>\n",
              "    .dataframe tbody tr th:only-of-type {\n",
              "        vertical-align: middle;\n",
              "    }\n",
              "\n",
              "    .dataframe tbody tr th {\n",
              "        vertical-align: top;\n",
              "    }\n",
              "\n",
              "    .dataframe thead th {\n",
              "        text-align: right;\n",
              "    }\n",
              "</style>\n",
              "<table border=\"1\" class=\"dataframe\">\n",
              "  <thead>\n",
              "    <tr style=\"text-align: right;\">\n",
              "      <th></th>\n",
              "      <th>User-ID</th>\n",
              "      <th>Location</th>\n",
              "      <th>Age</th>\n",
              "      <th>country</th>\n",
              "    </tr>\n",
              "  </thead>\n",
              "  <tbody>\n",
              "    <tr>\n",
              "      <th>0</th>\n",
              "      <td>1</td>\n",
              "      <td>nyc, new york, usa</td>\n",
              "      <td>NaN</td>\n",
              "      <td>usa</td>\n",
              "    </tr>\n",
              "    <tr>\n",
              "      <th>1</th>\n",
              "      <td>2</td>\n",
              "      <td>stockton, california, usa</td>\n",
              "      <td>18.0</td>\n",
              "      <td>usa</td>\n",
              "    </tr>\n",
              "    <tr>\n",
              "      <th>2</th>\n",
              "      <td>3</td>\n",
              "      <td>moscow, yukon territory, russia</td>\n",
              "      <td>NaN</td>\n",
              "      <td>russia</td>\n",
              "    </tr>\n",
              "    <tr>\n",
              "      <th>3</th>\n",
              "      <td>4</td>\n",
              "      <td>porto, v.n.gaia, portugal</td>\n",
              "      <td>17.0</td>\n",
              "      <td>portugal</td>\n",
              "    </tr>\n",
              "    <tr>\n",
              "      <th>4</th>\n",
              "      <td>5</td>\n",
              "      <td>farnborough, hants, united kingdom</td>\n",
              "      <td>NaN</td>\n",
              "      <td>united kingdom</td>\n",
              "    </tr>\n",
              "  </tbody>\n",
              "</table>\n",
              "</div>"
            ],
            "text/plain": [
              "   User-ID                            Location   Age          country\n",
              "0        1                  nyc, new york, usa   NaN              usa\n",
              "1        2           stockton, california, usa  18.0              usa\n",
              "2        3     moscow, yukon territory, russia   NaN           russia\n",
              "3        4           porto, v.n.gaia, portugal  17.0         portugal\n",
              "4        5  farnborough, hants, united kingdom   NaN   united kingdom"
            ]
          },
          "execution_count": 82,
          "metadata": {},
          "output_type": "execute_result"
        }
      ],
      "source": [
        "user.head()"
      ]
    },
    {
      "cell_type": "code",
      "execution_count": null,
      "metadata": {
        "id": "f-ExfDhzdbQ1"
      },
      "outputs": [],
      "source": [
        "#Selecting user only if they have made min of 200 reviews\n",
        "x=rating['User-ID'].value_counts()>200\n",
        "y=x[x].index #to get all the true value boolean indexing and gives the user id"
      ]
    },
    {
      "cell_type": "code",
      "execution_count": null,
      "metadata": {
        "colab": {
          "base_uri": "https://localhost:8080/"
        },
        "id": "peXR-634dbQ1",
        "outputId": "bd3aaaad-ddf8-433f-b757-84405076c0bb"
      },
      "outputs": [
        {
          "data": {
            "text/plain": [
              "(526356, 3)"
            ]
          },
          "execution_count": 84,
          "metadata": {},
          "output_type": "execute_result"
        }
      ],
      "source": [
        "rating=rating[rating['User-ID'].isin(y)]\n",
        "rating.shape"
      ]
    },
    {
      "cell_type": "code",
      "execution_count": null,
      "metadata": {
        "colab": {
          "base_uri": "https://localhost:8080/",
          "height": 721
        },
        "id": "6YA9IA41dbQ1",
        "outputId": "094980e0-7486-49f2-d7a5-1f67bbbc2ed3"
      },
      "outputs": [
        {
          "data": {
            "text/html": [
              "<div>\n",
              "<style scoped>\n",
              "    .dataframe tbody tr th:only-of-type {\n",
              "        vertical-align: middle;\n",
              "    }\n",
              "\n",
              "    .dataframe tbody tr th {\n",
              "        vertical-align: top;\n",
              "    }\n",
              "\n",
              "    .dataframe thead th {\n",
              "        text-align: right;\n",
              "    }\n",
              "</style>\n",
              "<table border=\"1\" class=\"dataframe\">\n",
              "  <thead>\n",
              "    <tr style=\"text-align: right;\">\n",
              "      <th></th>\n",
              "      <th>User-ID</th>\n",
              "      <th>ISBN</th>\n",
              "      <th>Book-Rating</th>\n",
              "      <th>Book-Title</th>\n",
              "      <th>Book-Author</th>\n",
              "      <th>Year-Of-Publication</th>\n",
              "      <th>Publisher</th>\n",
              "      <th>Image-URL-S</th>\n",
              "      <th>Image-URL-M</th>\n",
              "      <th>Image-URL-L</th>\n",
              "    </tr>\n",
              "  </thead>\n",
              "  <tbody>\n",
              "    <tr>\n",
              "      <th>0</th>\n",
              "      <td>277427</td>\n",
              "      <td>002542730X</td>\n",
              "      <td>10</td>\n",
              "      <td>Politically Correct Bedtime Stories: Modern Ta...</td>\n",
              "      <td>James Finn Garner</td>\n",
              "      <td>1994</td>\n",
              "      <td>John Wiley &amp;amp; Sons Inc</td>\n",
              "      <td>http://images.amazon.com/images/P/002542730X.0...</td>\n",
              "      <td>http://images.amazon.com/images/P/002542730X.0...</td>\n",
              "      <td>http://images.amazon.com/images/P/002542730X.0...</td>\n",
              "    </tr>\n",
              "    <tr>\n",
              "      <th>1</th>\n",
              "      <td>3363</td>\n",
              "      <td>002542730X</td>\n",
              "      <td>0</td>\n",
              "      <td>Politically Correct Bedtime Stories: Modern Ta...</td>\n",
              "      <td>James Finn Garner</td>\n",
              "      <td>1994</td>\n",
              "      <td>John Wiley &amp;amp; Sons Inc</td>\n",
              "      <td>http://images.amazon.com/images/P/002542730X.0...</td>\n",
              "      <td>http://images.amazon.com/images/P/002542730X.0...</td>\n",
              "      <td>http://images.amazon.com/images/P/002542730X.0...</td>\n",
              "    </tr>\n",
              "    <tr>\n",
              "      <th>2</th>\n",
              "      <td>11676</td>\n",
              "      <td>002542730X</td>\n",
              "      <td>6</td>\n",
              "      <td>Politically Correct Bedtime Stories: Modern Ta...</td>\n",
              "      <td>James Finn Garner</td>\n",
              "      <td>1994</td>\n",
              "      <td>John Wiley &amp;amp; Sons Inc</td>\n",
              "      <td>http://images.amazon.com/images/P/002542730X.0...</td>\n",
              "      <td>http://images.amazon.com/images/P/002542730X.0...</td>\n",
              "      <td>http://images.amazon.com/images/P/002542730X.0...</td>\n",
              "    </tr>\n",
              "    <tr>\n",
              "      <th>3</th>\n",
              "      <td>12538</td>\n",
              "      <td>002542730X</td>\n",
              "      <td>10</td>\n",
              "      <td>Politically Correct Bedtime Stories: Modern Ta...</td>\n",
              "      <td>James Finn Garner</td>\n",
              "      <td>1994</td>\n",
              "      <td>John Wiley &amp;amp; Sons Inc</td>\n",
              "      <td>http://images.amazon.com/images/P/002542730X.0...</td>\n",
              "      <td>http://images.amazon.com/images/P/002542730X.0...</td>\n",
              "      <td>http://images.amazon.com/images/P/002542730X.0...</td>\n",
              "    </tr>\n",
              "    <tr>\n",
              "      <th>4</th>\n",
              "      <td>13552</td>\n",
              "      <td>002542730X</td>\n",
              "      <td>0</td>\n",
              "      <td>Politically Correct Bedtime Stories: Modern Ta...</td>\n",
              "      <td>James Finn Garner</td>\n",
              "      <td>1994</td>\n",
              "      <td>John Wiley &amp;amp; Sons Inc</td>\n",
              "      <td>http://images.amazon.com/images/P/002542730X.0...</td>\n",
              "      <td>http://images.amazon.com/images/P/002542730X.0...</td>\n",
              "      <td>http://images.amazon.com/images/P/002542730X.0...</td>\n",
              "    </tr>\n",
              "  </tbody>\n",
              "</table>\n",
              "</div>"
            ],
            "text/plain": [
              "   User-ID        ISBN  Book-Rating  \\\n",
              "0   277427  002542730X           10   \n",
              "1     3363  002542730X            0   \n",
              "2    11676  002542730X            6   \n",
              "3    12538  002542730X           10   \n",
              "4    13552  002542730X            0   \n",
              "\n",
              "                                          Book-Title        Book-Author  \\\n",
              "0  Politically Correct Bedtime Stories: Modern Ta...  James Finn Garner   \n",
              "1  Politically Correct Bedtime Stories: Modern Ta...  James Finn Garner   \n",
              "2  Politically Correct Bedtime Stories: Modern Ta...  James Finn Garner   \n",
              "3  Politically Correct Bedtime Stories: Modern Ta...  James Finn Garner   \n",
              "4  Politically Correct Bedtime Stories: Modern Ta...  James Finn Garner   \n",
              "\n",
              "  Year-Of-Publication                  Publisher  \\\n",
              "0                1994  John Wiley &amp; Sons Inc   \n",
              "1                1994  John Wiley &amp; Sons Inc   \n",
              "2                1994  John Wiley &amp; Sons Inc   \n",
              "3                1994  John Wiley &amp; Sons Inc   \n",
              "4                1994  John Wiley &amp; Sons Inc   \n",
              "\n",
              "                                         Image-URL-S  \\\n",
              "0  http://images.amazon.com/images/P/002542730X.0...   \n",
              "1  http://images.amazon.com/images/P/002542730X.0...   \n",
              "2  http://images.amazon.com/images/P/002542730X.0...   \n",
              "3  http://images.amazon.com/images/P/002542730X.0...   \n",
              "4  http://images.amazon.com/images/P/002542730X.0...   \n",
              "\n",
              "                                         Image-URL-M  \\\n",
              "0  http://images.amazon.com/images/P/002542730X.0...   \n",
              "1  http://images.amazon.com/images/P/002542730X.0...   \n",
              "2  http://images.amazon.com/images/P/002542730X.0...   \n",
              "3  http://images.amazon.com/images/P/002542730X.0...   \n",
              "4  http://images.amazon.com/images/P/002542730X.0...   \n",
              "\n",
              "                                         Image-URL-L  \n",
              "0  http://images.amazon.com/images/P/002542730X.0...  \n",
              "1  http://images.amazon.com/images/P/002542730X.0...  \n",
              "2  http://images.amazon.com/images/P/002542730X.0...  \n",
              "3  http://images.amazon.com/images/P/002542730X.0...  \n",
              "4  http://images.amazon.com/images/P/002542730X.0...  "
            ]
          },
          "execution_count": 85,
          "metadata": {},
          "output_type": "execute_result"
        }
      ],
      "source": [
        "#merging the book and rating data set\n",
        "df1=rating.merge(book,on='ISBN')\n",
        "df1.head()"
      ]
    },
    {
      "cell_type": "code",
      "execution_count": null,
      "metadata": {
        "colab": {
          "base_uri": "https://localhost:8080/",
          "height": 738
        },
        "id": "lXPTRTUPdbQ1",
        "outputId": "a829954f-8dcc-46eb-e5d1-541ac66c0995"
      },
      "outputs": [
        {
          "data": {
            "text/html": [
              "<div>\n",
              "<style scoped>\n",
              "    .dataframe tbody tr th:only-of-type {\n",
              "        vertical-align: middle;\n",
              "    }\n",
              "\n",
              "    .dataframe tbody tr th {\n",
              "        vertical-align: top;\n",
              "    }\n",
              "\n",
              "    .dataframe thead th {\n",
              "        text-align: right;\n",
              "    }\n",
              "</style>\n",
              "<table border=\"1\" class=\"dataframe\">\n",
              "  <thead>\n",
              "    <tr style=\"text-align: right;\">\n",
              "      <th></th>\n",
              "      <th>User-ID</th>\n",
              "      <th>ISBN</th>\n",
              "      <th>Book-Rating</th>\n",
              "      <th>Book-Title</th>\n",
              "      <th>Book-Author</th>\n",
              "      <th>Year-Of-Publication</th>\n",
              "      <th>Publisher</th>\n",
              "      <th>Image-URL-S</th>\n",
              "      <th>Image-URL-M</th>\n",
              "      <th>Image-URL-L</th>\n",
              "      <th>number of ratings</th>\n",
              "    </tr>\n",
              "  </thead>\n",
              "  <tbody>\n",
              "    <tr>\n",
              "      <th>0</th>\n",
              "      <td>277427</td>\n",
              "      <td>002542730X</td>\n",
              "      <td>10</td>\n",
              "      <td>Politically Correct Bedtime Stories: Modern Ta...</td>\n",
              "      <td>James Finn Garner</td>\n",
              "      <td>1994</td>\n",
              "      <td>John Wiley &amp;amp; Sons Inc</td>\n",
              "      <td>http://images.amazon.com/images/P/002542730X.0...</td>\n",
              "      <td>http://images.amazon.com/images/P/002542730X.0...</td>\n",
              "      <td>http://images.amazon.com/images/P/002542730X.0...</td>\n",
              "      <td>82</td>\n",
              "    </tr>\n",
              "    <tr>\n",
              "      <th>1</th>\n",
              "      <td>3363</td>\n",
              "      <td>002542730X</td>\n",
              "      <td>0</td>\n",
              "      <td>Politically Correct Bedtime Stories: Modern Ta...</td>\n",
              "      <td>James Finn Garner</td>\n",
              "      <td>1994</td>\n",
              "      <td>John Wiley &amp;amp; Sons Inc</td>\n",
              "      <td>http://images.amazon.com/images/P/002542730X.0...</td>\n",
              "      <td>http://images.amazon.com/images/P/002542730X.0...</td>\n",
              "      <td>http://images.amazon.com/images/P/002542730X.0...</td>\n",
              "      <td>82</td>\n",
              "    </tr>\n",
              "    <tr>\n",
              "      <th>2</th>\n",
              "      <td>11676</td>\n",
              "      <td>002542730X</td>\n",
              "      <td>6</td>\n",
              "      <td>Politically Correct Bedtime Stories: Modern Ta...</td>\n",
              "      <td>James Finn Garner</td>\n",
              "      <td>1994</td>\n",
              "      <td>John Wiley &amp;amp; Sons Inc</td>\n",
              "      <td>http://images.amazon.com/images/P/002542730X.0...</td>\n",
              "      <td>http://images.amazon.com/images/P/002542730X.0...</td>\n",
              "      <td>http://images.amazon.com/images/P/002542730X.0...</td>\n",
              "      <td>82</td>\n",
              "    </tr>\n",
              "    <tr>\n",
              "      <th>3</th>\n",
              "      <td>12538</td>\n",
              "      <td>002542730X</td>\n",
              "      <td>10</td>\n",
              "      <td>Politically Correct Bedtime Stories: Modern Ta...</td>\n",
              "      <td>James Finn Garner</td>\n",
              "      <td>1994</td>\n",
              "      <td>John Wiley &amp;amp; Sons Inc</td>\n",
              "      <td>http://images.amazon.com/images/P/002542730X.0...</td>\n",
              "      <td>http://images.amazon.com/images/P/002542730X.0...</td>\n",
              "      <td>http://images.amazon.com/images/P/002542730X.0...</td>\n",
              "      <td>82</td>\n",
              "    </tr>\n",
              "    <tr>\n",
              "      <th>4</th>\n",
              "      <td>13552</td>\n",
              "      <td>002542730X</td>\n",
              "      <td>0</td>\n",
              "      <td>Politically Correct Bedtime Stories: Modern Ta...</td>\n",
              "      <td>James Finn Garner</td>\n",
              "      <td>1994</td>\n",
              "      <td>John Wiley &amp;amp; Sons Inc</td>\n",
              "      <td>http://images.amazon.com/images/P/002542730X.0...</td>\n",
              "      <td>http://images.amazon.com/images/P/002542730X.0...</td>\n",
              "      <td>http://images.amazon.com/images/P/002542730X.0...</td>\n",
              "      <td>82</td>\n",
              "    </tr>\n",
              "  </tbody>\n",
              "</table>\n",
              "</div>"
            ],
            "text/plain": [
              "   User-ID        ISBN  Book-Rating  \\\n",
              "0   277427  002542730X           10   \n",
              "1     3363  002542730X            0   \n",
              "2    11676  002542730X            6   \n",
              "3    12538  002542730X           10   \n",
              "4    13552  002542730X            0   \n",
              "\n",
              "                                          Book-Title        Book-Author  \\\n",
              "0  Politically Correct Bedtime Stories: Modern Ta...  James Finn Garner   \n",
              "1  Politically Correct Bedtime Stories: Modern Ta...  James Finn Garner   \n",
              "2  Politically Correct Bedtime Stories: Modern Ta...  James Finn Garner   \n",
              "3  Politically Correct Bedtime Stories: Modern Ta...  James Finn Garner   \n",
              "4  Politically Correct Bedtime Stories: Modern Ta...  James Finn Garner   \n",
              "\n",
              "  Year-Of-Publication                  Publisher  \\\n",
              "0                1994  John Wiley &amp; Sons Inc   \n",
              "1                1994  John Wiley &amp; Sons Inc   \n",
              "2                1994  John Wiley &amp; Sons Inc   \n",
              "3                1994  John Wiley &amp; Sons Inc   \n",
              "4                1994  John Wiley &amp; Sons Inc   \n",
              "\n",
              "                                         Image-URL-S  \\\n",
              "0  http://images.amazon.com/images/P/002542730X.0...   \n",
              "1  http://images.amazon.com/images/P/002542730X.0...   \n",
              "2  http://images.amazon.com/images/P/002542730X.0...   \n",
              "3  http://images.amazon.com/images/P/002542730X.0...   \n",
              "4  http://images.amazon.com/images/P/002542730X.0...   \n",
              "\n",
              "                                         Image-URL-M  \\\n",
              "0  http://images.amazon.com/images/P/002542730X.0...   \n",
              "1  http://images.amazon.com/images/P/002542730X.0...   \n",
              "2  http://images.amazon.com/images/P/002542730X.0...   \n",
              "3  http://images.amazon.com/images/P/002542730X.0...   \n",
              "4  http://images.amazon.com/images/P/002542730X.0...   \n",
              "\n",
              "                                         Image-URL-L  number of ratings  \n",
              "0  http://images.amazon.com/images/P/002542730X.0...                 82  \n",
              "1  http://images.amazon.com/images/P/002542730X.0...                 82  \n",
              "2  http://images.amazon.com/images/P/002542730X.0...                 82  \n",
              "3  http://images.amazon.com/images/P/002542730X.0...                 82  \n",
              "4  http://images.amazon.com/images/P/002542730X.0...                 82  "
            ]
          },
          "execution_count": 86,
          "metadata": {},
          "output_type": "execute_result"
        }
      ],
      "source": [
        "#Filtering the data based on the books\n",
        "num_rating=df1.groupby('Book-Title')['Book-Rating'].count().reset_index()\n",
        "num_rating.rename(columns={'Book-Rating':'number of ratings'},inplace=True)\n",
        "final_rating=df1.merge(num_rating,on='Book-Title')\n",
        "final_rating.head()"
      ]
    },
    {
      "cell_type": "code",
      "execution_count": null,
      "metadata": {
        "colab": {
          "base_uri": "https://localhost:8080/"
        },
        "id": "Nimsg_bEdbQ1",
        "outputId": "4e9c0cf1-b480-40ae-c97b-baf1786fa9eb"
      },
      "outputs": [
        {
          "data": {
            "text/plain": [
              "(61853, 11)"
            ]
          },
          "execution_count": 87,
          "metadata": {},
          "output_type": "execute_result"
        }
      ],
      "source": [
        "#Selecting only is the number of ratings is greater than 50\n",
        "final_rating=final_rating[final_rating['number of ratings']>=50]\n",
        "final_rating.shape  #This is data which books with min 50 ratings"
      ]
    },
    {
      "cell_type": "code",
      "execution_count": null,
      "metadata": {
        "colab": {
          "base_uri": "https://localhost:8080/"
        },
        "id": "mAgr0UEFdbQ1",
        "outputId": "cf9c9991-65c4-4d8b-998e-f4f25fa23e87"
      },
      "outputs": [
        {
          "data": {
            "text/plain": [
              "(59850, 11)"
            ]
          },
          "execution_count": 88,
          "metadata": {},
          "output_type": "execute_result"
        }
      ],
      "source": [
        "#Deleting records of people who have rated the same book multiple times\n",
        "final_rating.drop_duplicates(['Book-Title','User-ID'],inplace=True)\n",
        "final_rating.shape"
      ]
    },
    {
      "cell_type": "code",
      "execution_count": null,
      "metadata": {
        "colab": {
          "base_uri": "https://localhost:8080/"
        },
        "id": "yELXpR4hdbQ2",
        "outputId": "a021ccf5-2164-494f-872c-cea38391f27f"
      },
      "outputs": [
        {
          "name": "stdout",
          "output_type": "stream",
          "text": [
            "(742, 888)\n"
          ]
        }
      ],
      "source": [
        "#Creating pivot table\n",
        "book_pivot=final_rating.pivot_table(index='Book-Title',columns='User-ID',values='Book-Rating')\n",
        "print(book_pivot.shape)   #There are total 742 books and 888 user got filter for suggestion list\n",
        "book_pivot.fillna(0,inplace=True)"
      ]
    },
    {
      "cell_type": "code",
      "execution_count": null,
      "metadata": {
        "colab": {
          "base_uri": "https://localhost:8080/",
          "height": 267
        },
        "id": "2GtcgoIMdbQ2",
        "outputId": "5d086be2-a390-4da3-8882-8f7bd36d4ed5"
      },
      "outputs": [
        {
          "data": {
            "text/html": [
              "<div>\n",
              "<style scoped>\n",
              "    .dataframe tbody tr th:only-of-type {\n",
              "        vertical-align: middle;\n",
              "    }\n",
              "\n",
              "    .dataframe tbody tr th {\n",
              "        vertical-align: top;\n",
              "    }\n",
              "\n",
              "    .dataframe thead th {\n",
              "        text-align: right;\n",
              "    }\n",
              "</style>\n",
              "<table border=\"1\" class=\"dataframe\">\n",
              "  <thead>\n",
              "    <tr style=\"text-align: right;\">\n",
              "      <th>User-ID</th>\n",
              "      <th>254</th>\n",
              "      <th>2276</th>\n",
              "      <th>2766</th>\n",
              "      <th>2977</th>\n",
              "      <th>3363</th>\n",
              "      <th>3757</th>\n",
              "      <th>4017</th>\n",
              "      <th>4385</th>\n",
              "      <th>6242</th>\n",
              "      <th>6251</th>\n",
              "      <th>...</th>\n",
              "      <th>274004</th>\n",
              "      <th>274061</th>\n",
              "      <th>274301</th>\n",
              "      <th>274308</th>\n",
              "      <th>274808</th>\n",
              "      <th>275970</th>\n",
              "      <th>277427</th>\n",
              "      <th>277478</th>\n",
              "      <th>277639</th>\n",
              "      <th>278418</th>\n",
              "    </tr>\n",
              "    <tr>\n",
              "      <th>Book-Title</th>\n",
              "      <th></th>\n",
              "      <th></th>\n",
              "      <th></th>\n",
              "      <th></th>\n",
              "      <th></th>\n",
              "      <th></th>\n",
              "      <th></th>\n",
              "      <th></th>\n",
              "      <th></th>\n",
              "      <th></th>\n",
              "      <th></th>\n",
              "      <th></th>\n",
              "      <th></th>\n",
              "      <th></th>\n",
              "      <th></th>\n",
              "      <th></th>\n",
              "      <th></th>\n",
              "      <th></th>\n",
              "      <th></th>\n",
              "      <th></th>\n",
              "      <th></th>\n",
              "    </tr>\n",
              "  </thead>\n",
              "  <tbody>\n",
              "    <tr>\n",
              "      <th>1984</th>\n",
              "      <td>9.0</td>\n",
              "      <td>0.0</td>\n",
              "      <td>0.0</td>\n",
              "      <td>0.0</td>\n",
              "      <td>0.0</td>\n",
              "      <td>0.0</td>\n",
              "      <td>0.0</td>\n",
              "      <td>0.0</td>\n",
              "      <td>0.0</td>\n",
              "      <td>0.0</td>\n",
              "      <td>...</td>\n",
              "      <td>0.0</td>\n",
              "      <td>0.0</td>\n",
              "      <td>0.0</td>\n",
              "      <td>0.0</td>\n",
              "      <td>0.0</td>\n",
              "      <td>0.0</td>\n",
              "      <td>0.0</td>\n",
              "      <td>0.0</td>\n",
              "      <td>0.0</td>\n",
              "      <td>0.0</td>\n",
              "    </tr>\n",
              "    <tr>\n",
              "      <th>1st to Die: A Novel</th>\n",
              "      <td>0.0</td>\n",
              "      <td>0.0</td>\n",
              "      <td>0.0</td>\n",
              "      <td>0.0</td>\n",
              "      <td>0.0</td>\n",
              "      <td>0.0</td>\n",
              "      <td>0.0</td>\n",
              "      <td>0.0</td>\n",
              "      <td>0.0</td>\n",
              "      <td>0.0</td>\n",
              "      <td>...</td>\n",
              "      <td>0.0</td>\n",
              "      <td>0.0</td>\n",
              "      <td>0.0</td>\n",
              "      <td>0.0</td>\n",
              "      <td>0.0</td>\n",
              "      <td>0.0</td>\n",
              "      <td>0.0</td>\n",
              "      <td>0.0</td>\n",
              "      <td>0.0</td>\n",
              "      <td>0.0</td>\n",
              "    </tr>\n",
              "    <tr>\n",
              "      <th>2nd Chance</th>\n",
              "      <td>0.0</td>\n",
              "      <td>10.0</td>\n",
              "      <td>0.0</td>\n",
              "      <td>0.0</td>\n",
              "      <td>0.0</td>\n",
              "      <td>0.0</td>\n",
              "      <td>0.0</td>\n",
              "      <td>0.0</td>\n",
              "      <td>0.0</td>\n",
              "      <td>0.0</td>\n",
              "      <td>...</td>\n",
              "      <td>0.0</td>\n",
              "      <td>0.0</td>\n",
              "      <td>0.0</td>\n",
              "      <td>0.0</td>\n",
              "      <td>0.0</td>\n",
              "      <td>0.0</td>\n",
              "      <td>0.0</td>\n",
              "      <td>0.0</td>\n",
              "      <td>0.0</td>\n",
              "      <td>0.0</td>\n",
              "    </tr>\n",
              "    <tr>\n",
              "      <th>4 Blondes</th>\n",
              "      <td>0.0</td>\n",
              "      <td>0.0</td>\n",
              "      <td>0.0</td>\n",
              "      <td>0.0</td>\n",
              "      <td>0.0</td>\n",
              "      <td>0.0</td>\n",
              "      <td>0.0</td>\n",
              "      <td>0.0</td>\n",
              "      <td>0.0</td>\n",
              "      <td>0.0</td>\n",
              "      <td>...</td>\n",
              "      <td>0.0</td>\n",
              "      <td>0.0</td>\n",
              "      <td>0.0</td>\n",
              "      <td>0.0</td>\n",
              "      <td>0.0</td>\n",
              "      <td>0.0</td>\n",
              "      <td>0.0</td>\n",
              "      <td>0.0</td>\n",
              "      <td>0.0</td>\n",
              "      <td>0.0</td>\n",
              "    </tr>\n",
              "    <tr>\n",
              "      <th>84 Charing Cross Road</th>\n",
              "      <td>0.0</td>\n",
              "      <td>0.0</td>\n",
              "      <td>0.0</td>\n",
              "      <td>0.0</td>\n",
              "      <td>0.0</td>\n",
              "      <td>0.0</td>\n",
              "      <td>0.0</td>\n",
              "      <td>0.0</td>\n",
              "      <td>0.0</td>\n",
              "      <td>0.0</td>\n",
              "      <td>...</td>\n",
              "      <td>0.0</td>\n",
              "      <td>0.0</td>\n",
              "      <td>0.0</td>\n",
              "      <td>0.0</td>\n",
              "      <td>0.0</td>\n",
              "      <td>10.0</td>\n",
              "      <td>0.0</td>\n",
              "      <td>0.0</td>\n",
              "      <td>0.0</td>\n",
              "      <td>0.0</td>\n",
              "    </tr>\n",
              "  </tbody>\n",
              "</table>\n",
              "<p>5 rows × 888 columns</p>\n",
              "</div>"
            ],
            "text/plain": [
              "User-ID                254     2276    2766    2977    3363    3757    4017    \\\n",
              "Book-Title                                                                      \n",
              "1984                      9.0     0.0     0.0     0.0     0.0     0.0     0.0   \n",
              "1st to Die: A Novel       0.0     0.0     0.0     0.0     0.0     0.0     0.0   \n",
              "2nd Chance                0.0    10.0     0.0     0.0     0.0     0.0     0.0   \n",
              "4 Blondes                 0.0     0.0     0.0     0.0     0.0     0.0     0.0   \n",
              "84 Charing Cross Road     0.0     0.0     0.0     0.0     0.0     0.0     0.0   \n",
              "\n",
              "User-ID                4385    6242    6251    ...  274004  274061  274301  \\\n",
              "Book-Title                                     ...                           \n",
              "1984                      0.0     0.0     0.0  ...     0.0     0.0     0.0   \n",
              "1st to Die: A Novel       0.0     0.0     0.0  ...     0.0     0.0     0.0   \n",
              "2nd Chance                0.0     0.0     0.0  ...     0.0     0.0     0.0   \n",
              "4 Blondes                 0.0     0.0     0.0  ...     0.0     0.0     0.0   \n",
              "84 Charing Cross Road     0.0     0.0     0.0  ...     0.0     0.0     0.0   \n",
              "\n",
              "User-ID                274308  274808  275970  277427  277478  277639  278418  \n",
              "Book-Title                                                                     \n",
              "1984                      0.0     0.0     0.0     0.0     0.0     0.0     0.0  \n",
              "1st to Die: A Novel       0.0     0.0     0.0     0.0     0.0     0.0     0.0  \n",
              "2nd Chance                0.0     0.0     0.0     0.0     0.0     0.0     0.0  \n",
              "4 Blondes                 0.0     0.0     0.0     0.0     0.0     0.0     0.0  \n",
              "84 Charing Cross Road     0.0     0.0    10.0     0.0     0.0     0.0     0.0  \n",
              "\n",
              "[5 rows x 888 columns]"
            ]
          },
          "execution_count": 90,
          "metadata": {},
          "output_type": "execute_result"
        }
      ],
      "source": [
        "book_pivot.head()"
      ]
    },
    {
      "cell_type": "code",
      "execution_count": null,
      "metadata": {
        "colab": {
          "base_uri": "https://localhost:8080/"
        },
        "id": "nYXn1F7fdbQ2",
        "outputId": "1303ef46-54ee-4443-cc47-7b7704144489"
      },
      "outputs": [
        {
          "data": {
            "text/html": [
              "<style>#sk-container-id-1 {color: black;background-color: white;}#sk-container-id-1 pre{padding: 0;}#sk-container-id-1 div.sk-toggleable {background-color: white;}#sk-container-id-1 label.sk-toggleable__label {cursor: pointer;display: block;width: 100%;margin-bottom: 0;padding: 0.3em;box-sizing: border-box;text-align: center;}#sk-container-id-1 label.sk-toggleable__label-arrow:before {content: \"▸\";float: left;margin-right: 0.25em;color: #696969;}#sk-container-id-1 label.sk-toggleable__label-arrow:hover:before {color: black;}#sk-container-id-1 div.sk-estimator:hover label.sk-toggleable__label-arrow:before {color: black;}#sk-container-id-1 div.sk-toggleable__content {max-height: 0;max-width: 0;overflow: hidden;text-align: left;background-color: #f0f8ff;}#sk-container-id-1 div.sk-toggleable__content pre {margin: 0.2em;color: black;border-radius: 0.25em;background-color: #f0f8ff;}#sk-container-id-1 input.sk-toggleable__control:checked~div.sk-toggleable__content {max-height: 200px;max-width: 100%;overflow: auto;}#sk-container-id-1 input.sk-toggleable__control:checked~label.sk-toggleable__label-arrow:before {content: \"▾\";}#sk-container-id-1 div.sk-estimator input.sk-toggleable__control:checked~label.sk-toggleable__label {background-color: #d4ebff;}#sk-container-id-1 div.sk-label input.sk-toggleable__control:checked~label.sk-toggleable__label {background-color: #d4ebff;}#sk-container-id-1 input.sk-hidden--visually {border: 0;clip: rect(1px 1px 1px 1px);clip: rect(1px, 1px, 1px, 1px);height: 1px;margin: -1px;overflow: hidden;padding: 0;position: absolute;width: 1px;}#sk-container-id-1 div.sk-estimator {font-family: monospace;background-color: #f0f8ff;border: 1px dotted black;border-radius: 0.25em;box-sizing: border-box;margin-bottom: 0.5em;}#sk-container-id-1 div.sk-estimator:hover {background-color: #d4ebff;}#sk-container-id-1 div.sk-parallel-item::after {content: \"\";width: 100%;border-bottom: 1px solid gray;flex-grow: 1;}#sk-container-id-1 div.sk-label:hover label.sk-toggleable__label {background-color: #d4ebff;}#sk-container-id-1 div.sk-serial::before {content: \"\";position: absolute;border-left: 1px solid gray;box-sizing: border-box;top: 0;bottom: 0;left: 50%;z-index: 0;}#sk-container-id-1 div.sk-serial {display: flex;flex-direction: column;align-items: center;background-color: white;padding-right: 0.2em;padding-left: 0.2em;position: relative;}#sk-container-id-1 div.sk-item {position: relative;z-index: 1;}#sk-container-id-1 div.sk-parallel {display: flex;align-items: stretch;justify-content: center;background-color: white;position: relative;}#sk-container-id-1 div.sk-item::before, #sk-container-id-1 div.sk-parallel-item::before {content: \"\";position: absolute;border-left: 1px solid gray;box-sizing: border-box;top: 0;bottom: 0;left: 50%;z-index: -1;}#sk-container-id-1 div.sk-parallel-item {display: flex;flex-direction: column;z-index: 1;position: relative;background-color: white;}#sk-container-id-1 div.sk-parallel-item:first-child::after {align-self: flex-end;width: 50%;}#sk-container-id-1 div.sk-parallel-item:last-child::after {align-self: flex-start;width: 50%;}#sk-container-id-1 div.sk-parallel-item:only-child::after {width: 0;}#sk-container-id-1 div.sk-dashed-wrapped {border: 1px dashed gray;margin: 0 0.4em 0.5em 0.4em;box-sizing: border-box;padding-bottom: 0.4em;background-color: white;}#sk-container-id-1 div.sk-label label {font-family: monospace;font-weight: bold;display: inline-block;line-height: 1.2em;}#sk-container-id-1 div.sk-label-container {text-align: center;}#sk-container-id-1 div.sk-container {/* jupyter's `normalize.less` sets `[hidden] { display: none; }` but bootstrap.min.css set `[hidden] { display: none !important; }` so we also need the `!important` here to be able to override the default hidden behavior on the sphinx rendered scikit-learn.org. See: https://github.com/scikit-learn/scikit-learn/issues/21755 */display: inline-block !important;position: relative;}#sk-container-id-1 div.sk-text-repr-fallback {display: none;}</style><div id=\"sk-container-id-1\" class=\"sk-top-container\"><div class=\"sk-text-repr-fallback\"><pre>NearestNeighbors(algorithm=&#x27;brute&#x27;)</pre><b>In a Jupyter environment, please rerun this cell to show the HTML representation or trust the notebook. <br />On GitHub, the HTML representation is unable to render, please try loading this page with nbviewer.org.</b></div><div class=\"sk-container\" hidden><div class=\"sk-item\"><div class=\"sk-estimator sk-toggleable\"><input class=\"sk-toggleable__control sk-hidden--visually\" id=\"sk-estimator-id-1\" type=\"checkbox\" checked><label for=\"sk-estimator-id-1\" class=\"sk-toggleable__label sk-toggleable__label-arrow\">NearestNeighbors</label><div class=\"sk-toggleable__content\"><pre>NearestNeighbors(algorithm=&#x27;brute&#x27;)</pre></div></div></div></div></div>"
            ],
            "text/plain": [
              "NearestNeighbors(algorithm='brute')"
            ]
          },
          "execution_count": 91,
          "metadata": {},
          "output_type": "execute_result"
        }
      ],
      "source": [
        "#we will be using nearest neighbour clustering algorithm\n",
        "from scipy.sparse import csr_matrix\n",
        "from sklearn.neighbors import NearestNeighbors\n",
        "book_sparse=csr_matrix(book_pivot)  #To consider only value and to avoid 0 to reduce computation time\n",
        "#Building the model\n",
        "model=NearestNeighbors(algorithm='brute')\n",
        "model.fit(book_sparse)"
      ]
    },
    {
      "cell_type": "code",
      "execution_count": null,
      "metadata": {
        "id": "zdGkETX-dbQ2"
      },
      "outputs": [],
      "source": [
        "#The model take's the movie name then also number of suggestion required\n",
        "distance,suggestion=model.kneighbors(book_pivot.iloc[240,:].values.reshape(1,-1),n_neighbors=6)"
      ]
    },
    {
      "cell_type": "code",
      "execution_count": null,
      "metadata": {
        "colab": {
          "base_uri": "https://localhost:8080/"
        },
        "id": "oxRkeUlGdbQ4",
        "outputId": "51000477-26ed-40da-b328-c5c6fa684d0a"
      },
      "outputs": [
        {
          "data": {
            "text/plain": [
              "array([[240, 238, 237, 241, 239, 184]], dtype=int64)"
            ]
          },
          "execution_count": 93,
          "metadata": {},
          "output_type": "execute_result"
        }
      ],
      "source": [
        "suggestion"
      ]
    },
    {
      "cell_type": "code",
      "execution_count": null,
      "metadata": {
        "colab": {
          "base_uri": "https://localhost:8080/",
          "height": 35
        },
        "id": "kglD_dR_dbQ4",
        "outputId": "8657d3bc-137c-4ec3-bcbc-be26f7cc44bf"
      },
      "outputs": [
        {
          "data": {
            "text/plain": [
              "'Harry Potter and the Chamber of Secrets (Book 2)'"
            ]
          },
          "execution_count": 94,
          "metadata": {},
          "output_type": "execute_result"
        }
      ],
      "source": [
        "book_pivot.index[237]"
      ]
    },
    {
      "cell_type": "code",
      "execution_count": null,
      "metadata": {
        "id": "DRragW56KwfO"
      },
      "outputs": [],
      "source": [
        "suggestion_names=[]"
      ]
    },
    {
      "cell_type": "code",
      "execution_count": null,
      "metadata": {
        "id": "y5BfpuP5dbQ4"
      },
      "outputs": [],
      "source": [
        "for i in range(len(suggestion)):\n",
        "    suggestion_names.extend(book_pivot.index[suggestion[i]])"
      ]
    },
    {
      "cell_type": "code",
      "execution_count": null,
      "metadata": {
        "id": "5XtjK9QSKwfO",
        "outputId": "4e188536-f657-4dd7-d829-93cb787ead20"
      },
      "outputs": [
        {
          "data": {
            "text/plain": [
              "'Harry Potter and the Goblet of Fire (Book 4)'"
            ]
          },
          "execution_count": 97,
          "metadata": {},
          "output_type": "execute_result"
        }
      ],
      "source": [
        "suggestion_names[1]"
      ]
    },
    {
      "cell_type": "code",
      "execution_count": null,
      "metadata": {
        "id": "EaRbcB4mepDx"
      },
      "outputs": [],
      "source": [
        "#Input \n",
        "def recommend_book(book_name):\n",
        "  id=np.where(book_pivot.index==book_name)[0][0]\n",
        "  distance,suggestion=model.kneighbors(book_pivot.iloc[id,:].values.reshape(1,-1),n_neighbors=6)\n",
        "  name=[]\n",
        "  for i in range(len(suggestion)):\n",
        "    name.extend(book_pivot.index[suggestion[i]])\n",
        "    return name"
      ]
    },
    {
      "cell_type": "code",
      "execution_count": null,
      "metadata": {
        "colab": {
          "base_uri": "https://localhost:8080/"
        },
        "id": "pLb9hkIdhGwa",
        "outputId": "e109676d-69e5-463b-8842-d0ddffbee95c"
      },
      "outputs": [
        {
          "data": {
            "text/plain": [
              "['Animal Farm',\n",
              " 'Exclusive',\n",
              " 'Jacob Have I Loved',\n",
              " 'Second Nature',\n",
              " 'Pleading Guilty',\n",
              " 'No Safe Place']"
            ]
          },
          "execution_count": 99,
          "metadata": {},
          "output_type": "execute_result"
        }
      ],
      "source": [
        "recommend_book(\"Animal Farm\")"
      ]
    },
    {
      "cell_type": "code",
      "execution_count": null,
      "metadata": {
        "id": "mUWb9Lh4KwfO",
        "outputId": "19942803-fe46-4fe8-b995-95e923da11dc"
      },
      "outputs": [
        {
          "data": {
            "text/plain": [
              "['Harry Potter and the Prisoner of Azkaban (Book 3)',\n",
              " 'Harry Potter and the Goblet of Fire (Book 4)',\n",
              " 'Harry Potter and the Chamber of Secrets (Book 2)',\n",
              " \"Harry Potter and the Sorcerer's Stone (Book 1)\",\n",
              " 'Harry Potter and the Order of the Phoenix (Book 5)',\n",
              " 'Exclusive']"
            ]
          },
          "execution_count": 100,
          "metadata": {},
          "output_type": "execute_result"
        }
      ],
      "source": [
        "recommend_book(\"Harry Potter and the Prisoner of Azkaban (Book 3)\")"
      ]
    },
    {
      "cell_type": "markdown",
      "metadata": {
        "id": "VqyE_JVjKwfO"
      },
      "source": [
        "# User based recommendation"
      ]
    },
    {
      "cell_type": "code",
      "execution_count": null,
      "metadata": {
        "id": "RflaMPAOKwfO",
        "outputId": "19d36ea6-af23-47f5-ff6f-4abd138849cf"
      },
      "outputs": [
        {
          "data": {
            "text/html": [
              "<div>\n",
              "<style scoped>\n",
              "    .dataframe tbody tr th:only-of-type {\n",
              "        vertical-align: middle;\n",
              "    }\n",
              "\n",
              "    .dataframe tbody tr th {\n",
              "        vertical-align: top;\n",
              "    }\n",
              "\n",
              "    .dataframe thead th {\n",
              "        text-align: right;\n",
              "    }\n",
              "</style>\n",
              "<table border=\"1\" class=\"dataframe\">\n",
              "  <thead>\n",
              "    <tr style=\"text-align: right;\">\n",
              "      <th>Book-Title</th>\n",
              "      <th>1984</th>\n",
              "      <th>1st to Die: A Novel</th>\n",
              "      <th>2nd Chance</th>\n",
              "      <th>4 Blondes</th>\n",
              "      <th>84 Charing Cross Road</th>\n",
              "      <th>A Bend in the Road</th>\n",
              "      <th>A Case of Need</th>\n",
              "      <th>A Child Called \\It\\\": One Child's Courage to Survive\"</th>\n",
              "      <th>A Civil Action</th>\n",
              "      <th>A Cry In The Night</th>\n",
              "      <th>...</th>\n",
              "      <th>Winter Solstice</th>\n",
              "      <th>Wish You Well</th>\n",
              "      <th>Without Remorse</th>\n",
              "      <th>Wizard and Glass (The Dark Tower, Book 4)</th>\n",
              "      <th>Wuthering Heights</th>\n",
              "      <th>Year of Wonders</th>\n",
              "      <th>You Belong To Me</th>\n",
              "      <th>Zen and the Art of Motorcycle Maintenance: An Inquiry into Values</th>\n",
              "      <th>Zoya</th>\n",
              "      <th>\\O\\\" Is for Outlaw\"</th>\n",
              "    </tr>\n",
              "    <tr>\n",
              "      <th>User-ID</th>\n",
              "      <th></th>\n",
              "      <th></th>\n",
              "      <th></th>\n",
              "      <th></th>\n",
              "      <th></th>\n",
              "      <th></th>\n",
              "      <th></th>\n",
              "      <th></th>\n",
              "      <th></th>\n",
              "      <th></th>\n",
              "      <th></th>\n",
              "      <th></th>\n",
              "      <th></th>\n",
              "      <th></th>\n",
              "      <th></th>\n",
              "      <th></th>\n",
              "      <th></th>\n",
              "      <th></th>\n",
              "      <th></th>\n",
              "      <th></th>\n",
              "      <th></th>\n",
              "    </tr>\n",
              "  </thead>\n",
              "  <tbody>\n",
              "    <tr>\n",
              "      <th>254</th>\n",
              "      <td>9.0</td>\n",
              "      <td>NaN</td>\n",
              "      <td>NaN</td>\n",
              "      <td>NaN</td>\n",
              "      <td>NaN</td>\n",
              "      <td>0.0</td>\n",
              "      <td>NaN</td>\n",
              "      <td>NaN</td>\n",
              "      <td>NaN</td>\n",
              "      <td>NaN</td>\n",
              "      <td>...</td>\n",
              "      <td>NaN</td>\n",
              "      <td>NaN</td>\n",
              "      <td>NaN</td>\n",
              "      <td>NaN</td>\n",
              "      <td>NaN</td>\n",
              "      <td>NaN</td>\n",
              "      <td>NaN</td>\n",
              "      <td>NaN</td>\n",
              "      <td>NaN</td>\n",
              "      <td>NaN</td>\n",
              "    </tr>\n",
              "    <tr>\n",
              "      <th>2276</th>\n",
              "      <td>NaN</td>\n",
              "      <td>NaN</td>\n",
              "      <td>10.0</td>\n",
              "      <td>NaN</td>\n",
              "      <td>NaN</td>\n",
              "      <td>NaN</td>\n",
              "      <td>NaN</td>\n",
              "      <td>NaN</td>\n",
              "      <td>NaN</td>\n",
              "      <td>NaN</td>\n",
              "      <td>...</td>\n",
              "      <td>NaN</td>\n",
              "      <td>NaN</td>\n",
              "      <td>NaN</td>\n",
              "      <td>NaN</td>\n",
              "      <td>NaN</td>\n",
              "      <td>NaN</td>\n",
              "      <td>NaN</td>\n",
              "      <td>NaN</td>\n",
              "      <td>NaN</td>\n",
              "      <td>NaN</td>\n",
              "    </tr>\n",
              "    <tr>\n",
              "      <th>2766</th>\n",
              "      <td>NaN</td>\n",
              "      <td>NaN</td>\n",
              "      <td>NaN</td>\n",
              "      <td>NaN</td>\n",
              "      <td>NaN</td>\n",
              "      <td>7.0</td>\n",
              "      <td>0.0</td>\n",
              "      <td>NaN</td>\n",
              "      <td>NaN</td>\n",
              "      <td>NaN</td>\n",
              "      <td>...</td>\n",
              "      <td>NaN</td>\n",
              "      <td>NaN</td>\n",
              "      <td>NaN</td>\n",
              "      <td>NaN</td>\n",
              "      <td>NaN</td>\n",
              "      <td>NaN</td>\n",
              "      <td>NaN</td>\n",
              "      <td>NaN</td>\n",
              "      <td>NaN</td>\n",
              "      <td>NaN</td>\n",
              "    </tr>\n",
              "    <tr>\n",
              "      <th>2977</th>\n",
              "      <td>NaN</td>\n",
              "      <td>NaN</td>\n",
              "      <td>NaN</td>\n",
              "      <td>NaN</td>\n",
              "      <td>NaN</td>\n",
              "      <td>NaN</td>\n",
              "      <td>NaN</td>\n",
              "      <td>NaN</td>\n",
              "      <td>NaN</td>\n",
              "      <td>NaN</td>\n",
              "      <td>...</td>\n",
              "      <td>NaN</td>\n",
              "      <td>NaN</td>\n",
              "      <td>NaN</td>\n",
              "      <td>NaN</td>\n",
              "      <td>NaN</td>\n",
              "      <td>7.0</td>\n",
              "      <td>NaN</td>\n",
              "      <td>NaN</td>\n",
              "      <td>NaN</td>\n",
              "      <td>NaN</td>\n",
              "    </tr>\n",
              "    <tr>\n",
              "      <th>3363</th>\n",
              "      <td>NaN</td>\n",
              "      <td>NaN</td>\n",
              "      <td>NaN</td>\n",
              "      <td>NaN</td>\n",
              "      <td>NaN</td>\n",
              "      <td>NaN</td>\n",
              "      <td>NaN</td>\n",
              "      <td>NaN</td>\n",
              "      <td>0.0</td>\n",
              "      <td>NaN</td>\n",
              "      <td>...</td>\n",
              "      <td>NaN</td>\n",
              "      <td>NaN</td>\n",
              "      <td>NaN</td>\n",
              "      <td>NaN</td>\n",
              "      <td>NaN</td>\n",
              "      <td>NaN</td>\n",
              "      <td>NaN</td>\n",
              "      <td>0.0</td>\n",
              "      <td>NaN</td>\n",
              "      <td>NaN</td>\n",
              "    </tr>\n",
              "    <tr>\n",
              "      <th>...</th>\n",
              "      <td>...</td>\n",
              "      <td>...</td>\n",
              "      <td>...</td>\n",
              "      <td>...</td>\n",
              "      <td>...</td>\n",
              "      <td>...</td>\n",
              "      <td>...</td>\n",
              "      <td>...</td>\n",
              "      <td>...</td>\n",
              "      <td>...</td>\n",
              "      <td>...</td>\n",
              "      <td>...</td>\n",
              "      <td>...</td>\n",
              "      <td>...</td>\n",
              "      <td>...</td>\n",
              "      <td>...</td>\n",
              "      <td>...</td>\n",
              "      <td>...</td>\n",
              "      <td>...</td>\n",
              "      <td>...</td>\n",
              "      <td>...</td>\n",
              "    </tr>\n",
              "    <tr>\n",
              "      <th>275970</th>\n",
              "      <td>0.0</td>\n",
              "      <td>NaN</td>\n",
              "      <td>NaN</td>\n",
              "      <td>NaN</td>\n",
              "      <td>10.0</td>\n",
              "      <td>NaN</td>\n",
              "      <td>NaN</td>\n",
              "      <td>NaN</td>\n",
              "      <td>NaN</td>\n",
              "      <td>NaN</td>\n",
              "      <td>...</td>\n",
              "      <td>NaN</td>\n",
              "      <td>NaN</td>\n",
              "      <td>NaN</td>\n",
              "      <td>0.0</td>\n",
              "      <td>NaN</td>\n",
              "      <td>0.0</td>\n",
              "      <td>NaN</td>\n",
              "      <td>0.0</td>\n",
              "      <td>NaN</td>\n",
              "      <td>NaN</td>\n",
              "    </tr>\n",
              "    <tr>\n",
              "      <th>277427</th>\n",
              "      <td>NaN</td>\n",
              "      <td>NaN</td>\n",
              "      <td>NaN</td>\n",
              "      <td>NaN</td>\n",
              "      <td>NaN</td>\n",
              "      <td>NaN</td>\n",
              "      <td>NaN</td>\n",
              "      <td>NaN</td>\n",
              "      <td>NaN</td>\n",
              "      <td>NaN</td>\n",
              "      <td>...</td>\n",
              "      <td>NaN</td>\n",
              "      <td>NaN</td>\n",
              "      <td>NaN</td>\n",
              "      <td>NaN</td>\n",
              "      <td>NaN</td>\n",
              "      <td>NaN</td>\n",
              "      <td>NaN</td>\n",
              "      <td>NaN</td>\n",
              "      <td>NaN</td>\n",
              "      <td>NaN</td>\n",
              "    </tr>\n",
              "    <tr>\n",
              "      <th>277478</th>\n",
              "      <td>NaN</td>\n",
              "      <td>NaN</td>\n",
              "      <td>NaN</td>\n",
              "      <td>NaN</td>\n",
              "      <td>NaN</td>\n",
              "      <td>NaN</td>\n",
              "      <td>NaN</td>\n",
              "      <td>NaN</td>\n",
              "      <td>NaN</td>\n",
              "      <td>NaN</td>\n",
              "      <td>...</td>\n",
              "      <td>NaN</td>\n",
              "      <td>NaN</td>\n",
              "      <td>NaN</td>\n",
              "      <td>NaN</td>\n",
              "      <td>NaN</td>\n",
              "      <td>NaN</td>\n",
              "      <td>NaN</td>\n",
              "      <td>NaN</td>\n",
              "      <td>NaN</td>\n",
              "      <td>NaN</td>\n",
              "    </tr>\n",
              "    <tr>\n",
              "      <th>277639</th>\n",
              "      <td>NaN</td>\n",
              "      <td>NaN</td>\n",
              "      <td>0.0</td>\n",
              "      <td>NaN</td>\n",
              "      <td>NaN</td>\n",
              "      <td>NaN</td>\n",
              "      <td>NaN</td>\n",
              "      <td>NaN</td>\n",
              "      <td>NaN</td>\n",
              "      <td>NaN</td>\n",
              "      <td>...</td>\n",
              "      <td>NaN</td>\n",
              "      <td>NaN</td>\n",
              "      <td>NaN</td>\n",
              "      <td>NaN</td>\n",
              "      <td>NaN</td>\n",
              "      <td>NaN</td>\n",
              "      <td>NaN</td>\n",
              "      <td>NaN</td>\n",
              "      <td>NaN</td>\n",
              "      <td>NaN</td>\n",
              "    </tr>\n",
              "    <tr>\n",
              "      <th>278418</th>\n",
              "      <td>NaN</td>\n",
              "      <td>NaN</td>\n",
              "      <td>NaN</td>\n",
              "      <td>NaN</td>\n",
              "      <td>NaN</td>\n",
              "      <td>NaN</td>\n",
              "      <td>0.0</td>\n",
              "      <td>NaN</td>\n",
              "      <td>NaN</td>\n",
              "      <td>0.0</td>\n",
              "      <td>...</td>\n",
              "      <td>NaN</td>\n",
              "      <td>NaN</td>\n",
              "      <td>NaN</td>\n",
              "      <td>NaN</td>\n",
              "      <td>NaN</td>\n",
              "      <td>NaN</td>\n",
              "      <td>NaN</td>\n",
              "      <td>NaN</td>\n",
              "      <td>NaN</td>\n",
              "      <td>NaN</td>\n",
              "    </tr>\n",
              "  </tbody>\n",
              "</table>\n",
              "<p>888 rows × 742 columns</p>\n",
              "</div>"
            ],
            "text/plain": [
              "Book-Title  1984  1st to Die: A Novel  2nd Chance  4 Blondes  \\\n",
              "User-ID                                                        \n",
              "254          9.0                  NaN         NaN        NaN   \n",
              "2276         NaN                  NaN        10.0        NaN   \n",
              "2766         NaN                  NaN         NaN        NaN   \n",
              "2977         NaN                  NaN         NaN        NaN   \n",
              "3363         NaN                  NaN         NaN        NaN   \n",
              "...          ...                  ...         ...        ...   \n",
              "275970       0.0                  NaN         NaN        NaN   \n",
              "277427       NaN                  NaN         NaN        NaN   \n",
              "277478       NaN                  NaN         NaN        NaN   \n",
              "277639       NaN                  NaN         0.0        NaN   \n",
              "278418       NaN                  NaN         NaN        NaN   \n",
              "\n",
              "Book-Title  84 Charing Cross Road  A Bend in the Road  A Case of Need  \\\n",
              "User-ID                                                                 \n",
              "254                           NaN                 0.0             NaN   \n",
              "2276                          NaN                 NaN             NaN   \n",
              "2766                          NaN                 7.0             0.0   \n",
              "2977                          NaN                 NaN             NaN   \n",
              "3363                          NaN                 NaN             NaN   \n",
              "...                           ...                 ...             ...   \n",
              "275970                       10.0                 NaN             NaN   \n",
              "277427                        NaN                 NaN             NaN   \n",
              "277478                        NaN                 NaN             NaN   \n",
              "277639                        NaN                 NaN             NaN   \n",
              "278418                        NaN                 NaN             0.0   \n",
              "\n",
              "Book-Title  A Child Called \\It\\\": One Child's Courage to Survive\"  \\\n",
              "User-ID                                                             \n",
              "254                                                       NaN       \n",
              "2276                                                      NaN       \n",
              "2766                                                      NaN       \n",
              "2977                                                      NaN       \n",
              "3363                                                      NaN       \n",
              "...                                                       ...       \n",
              "275970                                                    NaN       \n",
              "277427                                                    NaN       \n",
              "277478                                                    NaN       \n",
              "277639                                                    NaN       \n",
              "278418                                                    NaN       \n",
              "\n",
              "Book-Title  A Civil Action  A Cry In The Night  ...  Winter Solstice  \\\n",
              "User-ID                                         ...                    \n",
              "254                    NaN                 NaN  ...              NaN   \n",
              "2276                   NaN                 NaN  ...              NaN   \n",
              "2766                   NaN                 NaN  ...              NaN   \n",
              "2977                   NaN                 NaN  ...              NaN   \n",
              "3363                   0.0                 NaN  ...              NaN   \n",
              "...                    ...                 ...  ...              ...   \n",
              "275970                 NaN                 NaN  ...              NaN   \n",
              "277427                 NaN                 NaN  ...              NaN   \n",
              "277478                 NaN                 NaN  ...              NaN   \n",
              "277639                 NaN                 NaN  ...              NaN   \n",
              "278418                 NaN                 0.0  ...              NaN   \n",
              "\n",
              "Book-Title  Wish You Well  Without Remorse  \\\n",
              "User-ID                                      \n",
              "254                   NaN              NaN   \n",
              "2276                  NaN              NaN   \n",
              "2766                  NaN              NaN   \n",
              "2977                  NaN              NaN   \n",
              "3363                  NaN              NaN   \n",
              "...                   ...              ...   \n",
              "275970                NaN              NaN   \n",
              "277427                NaN              NaN   \n",
              "277478                NaN              NaN   \n",
              "277639                NaN              NaN   \n",
              "278418                NaN              NaN   \n",
              "\n",
              "Book-Title  Wizard and Glass (The Dark Tower, Book 4)  Wuthering Heights  \\\n",
              "User-ID                                                                    \n",
              "254                                               NaN                NaN   \n",
              "2276                                              NaN                NaN   \n",
              "2766                                              NaN                NaN   \n",
              "2977                                              NaN                NaN   \n",
              "3363                                              NaN                NaN   \n",
              "...                                               ...                ...   \n",
              "275970                                            0.0                NaN   \n",
              "277427                                            NaN                NaN   \n",
              "277478                                            NaN                NaN   \n",
              "277639                                            NaN                NaN   \n",
              "278418                                            NaN                NaN   \n",
              "\n",
              "Book-Title  Year of Wonders  You Belong To Me  \\\n",
              "User-ID                                         \n",
              "254                     NaN               NaN   \n",
              "2276                    NaN               NaN   \n",
              "2766                    NaN               NaN   \n",
              "2977                    7.0               NaN   \n",
              "3363                    NaN               NaN   \n",
              "...                     ...               ...   \n",
              "275970                  0.0               NaN   \n",
              "277427                  NaN               NaN   \n",
              "277478                  NaN               NaN   \n",
              "277639                  NaN               NaN   \n",
              "278418                  NaN               NaN   \n",
              "\n",
              "Book-Title  Zen and the Art of Motorcycle Maintenance: An Inquiry into Values  \\\n",
              "User-ID                                                                         \n",
              "254                                                       NaN                   \n",
              "2276                                                      NaN                   \n",
              "2766                                                      NaN                   \n",
              "2977                                                      NaN                   \n",
              "3363                                                      0.0                   \n",
              "...                                                       ...                   \n",
              "275970                                                    0.0                   \n",
              "277427                                                    NaN                   \n",
              "277478                                                    NaN                   \n",
              "277639                                                    NaN                   \n",
              "278418                                                    NaN                   \n",
              "\n",
              "Book-Title  Zoya  \\O\\\" Is for Outlaw\"  \n",
              "User-ID                                \n",
              "254          NaN                  NaN  \n",
              "2276         NaN                  NaN  \n",
              "2766         NaN                  NaN  \n",
              "2977         NaN                  NaN  \n",
              "3363         NaN                  NaN  \n",
              "...          ...                  ...  \n",
              "275970       NaN                  NaN  \n",
              "277427       NaN                  NaN  \n",
              "277478       NaN                  NaN  \n",
              "277639       NaN                  NaN  \n",
              "278418       NaN                  NaN  \n",
              "\n",
              "[888 rows x 742 columns]"
            ]
          },
          "execution_count": 101,
          "metadata": {},
          "output_type": "execute_result"
        }
      ],
      "source": [
        "#Creating pivot table\n",
        "user_pivot=final_rating.pivot_table(index='User-ID',columns='Book-Title',values='Book-Rating')\n",
        "user_pivot"
      ]
    },
    {
      "cell_type": "code",
      "execution_count": null,
      "metadata": {
        "id": "7j8NBJbwKwfP",
        "outputId": "167a0593-edc5-441a-833e-dc765a057c12"
      },
      "outputs": [
        {
          "data": {
            "text/html": [
              "<div>\n",
              "<style scoped>\n",
              "    .dataframe tbody tr th:only-of-type {\n",
              "        vertical-align: middle;\n",
              "    }\n",
              "\n",
              "    .dataframe tbody tr th {\n",
              "        vertical-align: top;\n",
              "    }\n",
              "\n",
              "    .dataframe thead th {\n",
              "        text-align: right;\n",
              "    }\n",
              "</style>\n",
              "<table border=\"1\" class=\"dataframe\">\n",
              "  <thead>\n",
              "    <tr style=\"text-align: right;\">\n",
              "      <th>Book-Title</th>\n",
              "      <th>1984</th>\n",
              "      <th>1st to Die: A Novel</th>\n",
              "      <th>2nd Chance</th>\n",
              "      <th>4 Blondes</th>\n",
              "      <th>84 Charing Cross Road</th>\n",
              "      <th>A Bend in the Road</th>\n",
              "      <th>A Case of Need</th>\n",
              "      <th>A Child Called \\It\\\": One Child's Courage to Survive\"</th>\n",
              "      <th>A Civil Action</th>\n",
              "      <th>A Cry In The Night</th>\n",
              "      <th>...</th>\n",
              "      <th>Winter Solstice</th>\n",
              "      <th>Wish You Well</th>\n",
              "      <th>Without Remorse</th>\n",
              "      <th>Wizard and Glass (The Dark Tower, Book 4)</th>\n",
              "      <th>Wuthering Heights</th>\n",
              "      <th>Year of Wonders</th>\n",
              "      <th>You Belong To Me</th>\n",
              "      <th>Zen and the Art of Motorcycle Maintenance: An Inquiry into Values</th>\n",
              "      <th>Zoya</th>\n",
              "      <th>\\O\\\" Is for Outlaw\"</th>\n",
              "    </tr>\n",
              "    <tr>\n",
              "      <th>User-ID</th>\n",
              "      <th></th>\n",
              "      <th></th>\n",
              "      <th></th>\n",
              "      <th></th>\n",
              "      <th></th>\n",
              "      <th></th>\n",
              "      <th></th>\n",
              "      <th></th>\n",
              "      <th></th>\n",
              "      <th></th>\n",
              "      <th></th>\n",
              "      <th></th>\n",
              "      <th></th>\n",
              "      <th></th>\n",
              "      <th></th>\n",
              "      <th></th>\n",
              "      <th></th>\n",
              "      <th></th>\n",
              "      <th></th>\n",
              "      <th></th>\n",
              "      <th></th>\n",
              "    </tr>\n",
              "  </thead>\n",
              "  <tbody>\n",
              "    <tr>\n",
              "      <th>254</th>\n",
              "      <td>9.0</td>\n",
              "      <td>0.0</td>\n",
              "      <td>0.0</td>\n",
              "      <td>0.0</td>\n",
              "      <td>0.0</td>\n",
              "      <td>0.0</td>\n",
              "      <td>0.0</td>\n",
              "      <td>0.0</td>\n",
              "      <td>0.0</td>\n",
              "      <td>0.0</td>\n",
              "      <td>...</td>\n",
              "      <td>0.0</td>\n",
              "      <td>0.0</td>\n",
              "      <td>0.0</td>\n",
              "      <td>0.0</td>\n",
              "      <td>0.0</td>\n",
              "      <td>0.0</td>\n",
              "      <td>0.0</td>\n",
              "      <td>0.0</td>\n",
              "      <td>0.0</td>\n",
              "      <td>0.0</td>\n",
              "    </tr>\n",
              "    <tr>\n",
              "      <th>2276</th>\n",
              "      <td>0.0</td>\n",
              "      <td>0.0</td>\n",
              "      <td>10.0</td>\n",
              "      <td>0.0</td>\n",
              "      <td>0.0</td>\n",
              "      <td>0.0</td>\n",
              "      <td>0.0</td>\n",
              "      <td>0.0</td>\n",
              "      <td>0.0</td>\n",
              "      <td>0.0</td>\n",
              "      <td>...</td>\n",
              "      <td>0.0</td>\n",
              "      <td>0.0</td>\n",
              "      <td>0.0</td>\n",
              "      <td>0.0</td>\n",
              "      <td>0.0</td>\n",
              "      <td>0.0</td>\n",
              "      <td>0.0</td>\n",
              "      <td>0.0</td>\n",
              "      <td>0.0</td>\n",
              "      <td>0.0</td>\n",
              "    </tr>\n",
              "    <tr>\n",
              "      <th>2766</th>\n",
              "      <td>0.0</td>\n",
              "      <td>0.0</td>\n",
              "      <td>0.0</td>\n",
              "      <td>0.0</td>\n",
              "      <td>0.0</td>\n",
              "      <td>7.0</td>\n",
              "      <td>0.0</td>\n",
              "      <td>0.0</td>\n",
              "      <td>0.0</td>\n",
              "      <td>0.0</td>\n",
              "      <td>...</td>\n",
              "      <td>0.0</td>\n",
              "      <td>0.0</td>\n",
              "      <td>0.0</td>\n",
              "      <td>0.0</td>\n",
              "      <td>0.0</td>\n",
              "      <td>0.0</td>\n",
              "      <td>0.0</td>\n",
              "      <td>0.0</td>\n",
              "      <td>0.0</td>\n",
              "      <td>0.0</td>\n",
              "    </tr>\n",
              "    <tr>\n",
              "      <th>2977</th>\n",
              "      <td>0.0</td>\n",
              "      <td>0.0</td>\n",
              "      <td>0.0</td>\n",
              "      <td>0.0</td>\n",
              "      <td>0.0</td>\n",
              "      <td>0.0</td>\n",
              "      <td>0.0</td>\n",
              "      <td>0.0</td>\n",
              "      <td>0.0</td>\n",
              "      <td>0.0</td>\n",
              "      <td>...</td>\n",
              "      <td>0.0</td>\n",
              "      <td>0.0</td>\n",
              "      <td>0.0</td>\n",
              "      <td>0.0</td>\n",
              "      <td>0.0</td>\n",
              "      <td>7.0</td>\n",
              "      <td>0.0</td>\n",
              "      <td>0.0</td>\n",
              "      <td>0.0</td>\n",
              "      <td>0.0</td>\n",
              "    </tr>\n",
              "    <tr>\n",
              "      <th>3363</th>\n",
              "      <td>0.0</td>\n",
              "      <td>0.0</td>\n",
              "      <td>0.0</td>\n",
              "      <td>0.0</td>\n",
              "      <td>0.0</td>\n",
              "      <td>0.0</td>\n",
              "      <td>0.0</td>\n",
              "      <td>0.0</td>\n",
              "      <td>0.0</td>\n",
              "      <td>0.0</td>\n",
              "      <td>...</td>\n",
              "      <td>0.0</td>\n",
              "      <td>0.0</td>\n",
              "      <td>0.0</td>\n",
              "      <td>0.0</td>\n",
              "      <td>0.0</td>\n",
              "      <td>0.0</td>\n",
              "      <td>0.0</td>\n",
              "      <td>0.0</td>\n",
              "      <td>0.0</td>\n",
              "      <td>0.0</td>\n",
              "    </tr>\n",
              "  </tbody>\n",
              "</table>\n",
              "<p>5 rows × 742 columns</p>\n",
              "</div>"
            ],
            "text/plain": [
              "Book-Title  1984  1st to Die: A Novel  2nd Chance  4 Blondes  \\\n",
              "User-ID                                                        \n",
              "254          9.0                  0.0         0.0        0.0   \n",
              "2276         0.0                  0.0        10.0        0.0   \n",
              "2766         0.0                  0.0         0.0        0.0   \n",
              "2977         0.0                  0.0         0.0        0.0   \n",
              "3363         0.0                  0.0         0.0        0.0   \n",
              "\n",
              "Book-Title  84 Charing Cross Road  A Bend in the Road  A Case of Need  \\\n",
              "User-ID                                                                 \n",
              "254                           0.0                 0.0             0.0   \n",
              "2276                          0.0                 0.0             0.0   \n",
              "2766                          0.0                 7.0             0.0   \n",
              "2977                          0.0                 0.0             0.0   \n",
              "3363                          0.0                 0.0             0.0   \n",
              "\n",
              "Book-Title  A Child Called \\It\\\": One Child's Courage to Survive\"  \\\n",
              "User-ID                                                             \n",
              "254                                                       0.0       \n",
              "2276                                                      0.0       \n",
              "2766                                                      0.0       \n",
              "2977                                                      0.0       \n",
              "3363                                                      0.0       \n",
              "\n",
              "Book-Title  A Civil Action  A Cry In The Night  ...  Winter Solstice  \\\n",
              "User-ID                                         ...                    \n",
              "254                    0.0                 0.0  ...              0.0   \n",
              "2276                   0.0                 0.0  ...              0.0   \n",
              "2766                   0.0                 0.0  ...              0.0   \n",
              "2977                   0.0                 0.0  ...              0.0   \n",
              "3363                   0.0                 0.0  ...              0.0   \n",
              "\n",
              "Book-Title  Wish You Well  Without Remorse  \\\n",
              "User-ID                                      \n",
              "254                   0.0              0.0   \n",
              "2276                  0.0              0.0   \n",
              "2766                  0.0              0.0   \n",
              "2977                  0.0              0.0   \n",
              "3363                  0.0              0.0   \n",
              "\n",
              "Book-Title  Wizard and Glass (The Dark Tower, Book 4)  Wuthering Heights  \\\n",
              "User-ID                                                                    \n",
              "254                                               0.0                0.0   \n",
              "2276                                              0.0                0.0   \n",
              "2766                                              0.0                0.0   \n",
              "2977                                              0.0                0.0   \n",
              "3363                                              0.0                0.0   \n",
              "\n",
              "Book-Title  Year of Wonders  You Belong To Me  \\\n",
              "User-ID                                         \n",
              "254                     0.0               0.0   \n",
              "2276                    0.0               0.0   \n",
              "2766                    0.0               0.0   \n",
              "2977                    7.0               0.0   \n",
              "3363                    0.0               0.0   \n",
              "\n",
              "Book-Title  Zen and the Art of Motorcycle Maintenance: An Inquiry into Values  \\\n",
              "User-ID                                                                         \n",
              "254                                                       0.0                   \n",
              "2276                                                      0.0                   \n",
              "2766                                                      0.0                   \n",
              "2977                                                      0.0                   \n",
              "3363                                                      0.0                   \n",
              "\n",
              "Book-Title  Zoya  \\O\\\" Is for Outlaw\"  \n",
              "User-ID                                \n",
              "254          0.0                  0.0  \n",
              "2276         0.0                  0.0  \n",
              "2766         0.0                  0.0  \n",
              "2977         0.0                  0.0  \n",
              "3363         0.0                  0.0  \n",
              "\n",
              "[5 rows x 742 columns]"
            ]
          },
          "execution_count": 102,
          "metadata": {},
          "output_type": "execute_result"
        }
      ],
      "source": [
        "user_pivot.fillna(0,inplace=True)\n",
        "user_pivot.head()"
      ]
    },
    {
      "cell_type": "code",
      "execution_count": null,
      "metadata": {
        "id": "dqbWcuAhKwfP"
      },
      "outputs": [],
      "source": [
        "#Calculating cosin similarity\n",
        "from sklearn.metrics import pairwise_distances\n",
        "from scipy.spatial.distance import cosine,correlation"
      ]
    },
    {
      "cell_type": "code",
      "execution_count": null,
      "metadata": {
        "id": "j2WsZg_HKwfP"
      },
      "outputs": [],
      "source": [
        "user_based_pivot=final_rating.pivot_table(index='User-ID',columns='Book-Title',values='Book-Rating')\n",
        "user_based_pivot.fillna(0,inplace=True)\n",
        "#Give the distance between users, min distance indicate that user's have similar taste\n",
        "user_similarity=1-pairwise_distances(user_based_pivot.values,metric='cosine')\n",
        "user_similar_df=pd.DataFrame(user_similarity)\n",
        "user_id_list=final_rating['User-ID'].unique()    #To get all user id\n",
        "#Setting the index and columns to user id\n",
        "user_similar_df.index=final_rating['User-ID'].unique()\n",
        "user_similar_df.columns=final_rating['User-ID'].unique()\n",
        "#Filling the diagonal value with 0 \n",
        "np.fill_diagonal(user_similarity,0)\n",
        "def user_based_recommender(user_id):\n",
        "    #Input from customer and finding the similar member id\n",
        "    user1=user_similar_df[user_similar_df.index==user_id]\n",
        "    temp=user1.idxmax(axis=1)\n",
        "    k1=int(temp)\n",
        "#creating data frame for the above 2 id(input and similar id)\n",
        "    user_in=final_rating[final_rating['User-ID']==user_id]\n",
        "    user_sim=final_rating[final_rating['User-ID']==k1]\n",
        "#Merging the 2 data frame on outer join\n",
        "    suggest_df=pd.merge(user_sim,user_in,on='Book-Title',how='outer')\n",
        "    #Selecting only book with min 5 rating\n",
        "    temp_df=suggest_df[(suggest_df['Book-Rating_x']>5)]    #data frame to store suggestion table\n",
        "    #Filling all the nan values with null,inorder to apply filter in the next stage\n",
        "    temp_df=temp_df.fillna('Null')\n",
        "    #Filtering so that only book which are not read by the user will be suggested\n",
        "    temp_df=temp_df[temp_df['User-ID_y']=='Null']\n",
        "#Sorting based on decreasing order of rating made by similar user and taking the first 5 book if exist\n",
        "    book_list=temp_df.sort_values('Book-Rating_x',ascending=False).head(5)\n",
        "    book_author=book_list['Book-Author_x'].values\n",
        "    book_list=book_list['Book-Title'].values\n",
        "    book_list=list(book_list)\n",
        "    return book_list,book_author"
      ]
    },
    {
      "cell_type": "code",
      "execution_count": null,
      "metadata": {
        "id": "GdwupF6nKwfP",
        "outputId": "ef62f056-2653-485e-9aec-1173e3b25513"
      },
      "outputs": [
        {
          "data": {
            "text/plain": [
              "(['Coming Home',\n",
              "  'Postmortem',\n",
              "  'The Clinic (Alex Delaware Novels (Paperback))',\n",
              "  'A Great Deliverance',\n",
              "  'Winter Solstice'],\n",
              " array(['Rosamunde Pilcher', 'Patricia Daniels Cornwell',\n",
              "        'Jonathan Kellerman', 'Elizabeth George', 'Rosamunde Pilcher'],\n",
              "       dtype=object))"
            ]
          },
          "execution_count": 135,
          "metadata": {},
          "output_type": "execute_result"
        }
      ],
      "source": [
        "user_based_recommender(31826)"
      ]
    },
    {
      "cell_type": "code",
      "execution_count": null,
      "metadata": {
        "id": "R0u1JGfEKwfP",
        "outputId": "87fc89b5-d6ca-43ee-c51f-57c9e803a6d1"
      },
      "outputs": [
        {
          "data": {
            "text/plain": [
              "['Three To Get Deadly : A Stephanie Plum Novel (A Stephanie Plum Novel)',\n",
              " 'Lucky Man: A Memoir',\n",
              " 'Confessions of a Shopaholic (Summer Display Opportunity)',\n",
              " 'Dying for Chocolate (Culinary Mysteries (Paperback))',\n",
              " 'Tough Cookie']"
            ]
          },
          "execution_count": 110,
          "metadata": {},
          "output_type": "execute_result"
        }
      ],
      "source": [
        "user_based_recommender(12538)"
      ]
    },
    {
      "cell_type": "code",
      "execution_count": null,
      "metadata": {
        "id": "ahzEnWEKKwfP",
        "outputId": "986e1ede-24a1-4c6c-b77f-9829d4fd3d98"
      },
      "outputs": [
        {
          "data": {
            "text/html": [
              "<div>\n",
              "<style scoped>\n",
              "    .dataframe tbody tr th:only-of-type {\n",
              "        vertical-align: middle;\n",
              "    }\n",
              "\n",
              "    .dataframe tbody tr th {\n",
              "        vertical-align: top;\n",
              "    }\n",
              "\n",
              "    .dataframe thead th {\n",
              "        text-align: right;\n",
              "    }\n",
              "</style>\n",
              "<table border=\"1\" class=\"dataframe\">\n",
              "  <thead>\n",
              "    <tr style=\"text-align: right;\">\n",
              "      <th></th>\n",
              "      <th>ISBN</th>\n",
              "      <th>Book-Title</th>\n",
              "      <th>Book-Author</th>\n",
              "      <th>Year-Of-Publication</th>\n",
              "      <th>Publisher</th>\n",
              "      <th>Image-URL-M</th>\n",
              "      <th>User-ID</th>\n",
              "      <th>Book-Rating</th>\n",
              "      <th>Age</th>\n",
              "      <th>country</th>\n",
              "    </tr>\n",
              "  </thead>\n",
              "  <tbody>\n",
              "    <tr>\n",
              "      <th>217803</th>\n",
              "      <td>0439316340</td>\n",
              "      <td>I Spy Year-Round Challenger! A Book of Picture...</td>\n",
              "      <td>Jean Marzollo</td>\n",
              "      <td>2001</td>\n",
              "      <td>Scholastic</td>\n",
              "      <td>http://images.amazon.com/images/P/0439316340.0...</td>\n",
              "      <td>31826</td>\n",
              "      <td>10</td>\n",
              "      <td>54.0</td>\n",
              "      <td>usa</td>\n",
              "    </tr>\n",
              "    <tr>\n",
              "      <th>217832</th>\n",
              "      <td>0878578129</td>\n",
              "      <td>The Healing Foods: The Ultimate Authority on t...</td>\n",
              "      <td>Patricia Hausman</td>\n",
              "      <td>1989</td>\n",
              "      <td>St Martins Pr</td>\n",
              "      <td>http://images.amazon.com/images/P/0878578129.0...</td>\n",
              "      <td>31826</td>\n",
              "      <td>10</td>\n",
              "      <td>54.0</td>\n",
              "      <td>usa</td>\n",
              "    </tr>\n",
              "    <tr>\n",
              "      <th>217844</th>\n",
              "      <td>0895776162</td>\n",
              "      <td>Our Glorious Century/Key Events, Pictures, Pla...</td>\n",
              "      <td>Reader's Digest</td>\n",
              "      <td>1994</td>\n",
              "      <td>Readers Digest</td>\n",
              "      <td>http://images.amazon.com/images/P/0895776162.0...</td>\n",
              "      <td>31826</td>\n",
              "      <td>10</td>\n",
              "      <td>54.0</td>\n",
              "      <td>usa</td>\n",
              "    </tr>\n",
              "    <tr>\n",
              "      <th>217843</th>\n",
              "      <td>006105531X</td>\n",
              "      <td>A Diversity of Dragons (Pern)</td>\n",
              "      <td>Anne McCaffrey</td>\n",
              "      <td>1997</td>\n",
              "      <td>Eos</td>\n",
              "      <td>http://images.amazon.com/images/P/006105531X.0...</td>\n",
              "      <td>31826</td>\n",
              "      <td>10</td>\n",
              "      <td>54.0</td>\n",
              "      <td>usa</td>\n",
              "    </tr>\n",
              "    <tr>\n",
              "      <th>217842</th>\n",
              "      <td>0831716762</td>\n",
              "      <td>Concise Illustrated Book of Seashells</td>\n",
              "      <td>Solene T. Morris</td>\n",
              "      <td>1990</td>\n",
              "      <td>Smithmark Publishers</td>\n",
              "      <td>http://images.amazon.com/images/P/0831716762.0...</td>\n",
              "      <td>31826</td>\n",
              "      <td>10</td>\n",
              "      <td>54.0</td>\n",
              "      <td>usa</td>\n",
              "    </tr>\n",
              "    <tr>\n",
              "      <th>...</th>\n",
              "      <td>...</td>\n",
              "      <td>...</td>\n",
              "      <td>...</td>\n",
              "      <td>...</td>\n",
              "      <td>...</td>\n",
              "      <td>...</td>\n",
              "      <td>...</td>\n",
              "      <td>...</td>\n",
              "      <td>...</td>\n",
              "      <td>...</td>\n",
              "    </tr>\n",
              "    <tr>\n",
              "      <th>217932</th>\n",
              "      <td>0590294024</td>\n",
              "      <td>The Case of the Rock &amp;amp; Roll Mystery (The N...</td>\n",
              "      <td>Lisa Eisenberg</td>\n",
              "      <td>1998</td>\n",
              "      <td>Scholastic</td>\n",
              "      <td>http://images.amazon.com/images/P/0590294024.0...</td>\n",
              "      <td>31826</td>\n",
              "      <td>7</td>\n",
              "      <td>54.0</td>\n",
              "      <td>usa</td>\n",
              "    </tr>\n",
              "    <tr>\n",
              "      <th>217509</th>\n",
              "      <td>0671042858</td>\n",
              "      <td>The Girl Who Loved Tom Gordon</td>\n",
              "      <td>Stephen King</td>\n",
              "      <td>2000</td>\n",
              "      <td>Pocket</td>\n",
              "      <td>http://images.amazon.com/images/P/0671042858.0...</td>\n",
              "      <td>31826</td>\n",
              "      <td>7</td>\n",
              "      <td>54.0</td>\n",
              "      <td>usa</td>\n",
              "    </tr>\n",
              "    <tr>\n",
              "      <th>217933</th>\n",
              "      <td>0938753770</td>\n",
              "      <td>That's the Way It Crumbles, Cookie</td>\n",
              "      <td>Suzanne Weyn</td>\n",
              "      <td>1993</td>\n",
              "      <td>Parachute Publishing</td>\n",
              "      <td>http://images.amazon.com/images/P/0938753770.0...</td>\n",
              "      <td>31826</td>\n",
              "      <td>7</td>\n",
              "      <td>54.0</td>\n",
              "      <td>usa</td>\n",
              "    </tr>\n",
              "    <tr>\n",
              "      <th>218099</th>\n",
              "      <td>0761502483</td>\n",
              "      <td>Branson With Kids: The Definitive Family Guide...</td>\n",
              "      <td>Toni Eugene</td>\n",
              "      <td>1996</td>\n",
              "      <td>Prima Lifestyles</td>\n",
              "      <td>http://images.amazon.com/images/P/0761502483.0...</td>\n",
              "      <td>31826</td>\n",
              "      <td>6</td>\n",
              "      <td>54.0</td>\n",
              "      <td>usa</td>\n",
              "    </tr>\n",
              "    <tr>\n",
              "      <th>218007</th>\n",
              "      <td>0890878145</td>\n",
              "      <td>The Detox Diet: A How-To &amp;amp; When-To Guide f...</td>\n",
              "      <td>Elson M. Haas</td>\n",
              "      <td>1996</td>\n",
              "      <td>Celestial Arts</td>\n",
              "      <td>http://images.amazon.com/images/P/0890878145.0...</td>\n",
              "      <td>31826</td>\n",
              "      <td>6</td>\n",
              "      <td>54.0</td>\n",
              "      <td>usa</td>\n",
              "    </tr>\n",
              "  </tbody>\n",
              "</table>\n",
              "<p>390 rows × 10 columns</p>\n",
              "</div>"
            ],
            "text/plain": [
              "              ISBN                                         Book-Title  \\\n",
              "217803  0439316340  I Spy Year-Round Challenger! A Book of Picture...   \n",
              "217832  0878578129  The Healing Foods: The Ultimate Authority on t...   \n",
              "217844  0895776162  Our Glorious Century/Key Events, Pictures, Pla...   \n",
              "217843  006105531X                      A Diversity of Dragons (Pern)   \n",
              "217842  0831716762              Concise Illustrated Book of Seashells   \n",
              "...            ...                                                ...   \n",
              "217932  0590294024  The Case of the Rock &amp; Roll Mystery (The N...   \n",
              "217509  0671042858                      The Girl Who Loved Tom Gordon   \n",
              "217933  0938753770                 That's the Way It Crumbles, Cookie   \n",
              "218099  0761502483  Branson With Kids: The Definitive Family Guide...   \n",
              "218007  0890878145  The Detox Diet: A How-To &amp; When-To Guide f...   \n",
              "\n",
              "             Book-Author  Year-Of-Publication             Publisher  \\\n",
              "217803     Jean Marzollo                 2001            Scholastic   \n",
              "217832  Patricia Hausman                 1989         St Martins Pr   \n",
              "217844   Reader's Digest                 1994        Readers Digest   \n",
              "217843    Anne McCaffrey                 1997                   Eos   \n",
              "217842  Solene T. Morris                 1990  Smithmark Publishers   \n",
              "...                  ...                  ...                   ...   \n",
              "217932    Lisa Eisenberg                 1998            Scholastic   \n",
              "217509      Stephen King                 2000                Pocket   \n",
              "217933      Suzanne Weyn                 1993  Parachute Publishing   \n",
              "218099       Toni Eugene                 1996      Prima Lifestyles   \n",
              "218007     Elson M. Haas                 1996        Celestial Arts   \n",
              "\n",
              "                                              Image-URL-M  User-ID  \\\n",
              "217803  http://images.amazon.com/images/P/0439316340.0...    31826   \n",
              "217832  http://images.amazon.com/images/P/0878578129.0...    31826   \n",
              "217844  http://images.amazon.com/images/P/0895776162.0...    31826   \n",
              "217843  http://images.amazon.com/images/P/006105531X.0...    31826   \n",
              "217842  http://images.amazon.com/images/P/0831716762.0...    31826   \n",
              "...                                                   ...      ...   \n",
              "217932  http://images.amazon.com/images/P/0590294024.0...    31826   \n",
              "217509  http://images.amazon.com/images/P/0671042858.0...    31826   \n",
              "217933  http://images.amazon.com/images/P/0938753770.0...    31826   \n",
              "218099  http://images.amazon.com/images/P/0761502483.0...    31826   \n",
              "218007  http://images.amazon.com/images/P/0890878145.0...    31826   \n",
              "\n",
              "        Book-Rating   Age country  \n",
              "217803           10  54.0     usa  \n",
              "217832           10  54.0     usa  \n",
              "217844           10  54.0     usa  \n",
              "217843           10  54.0     usa  \n",
              "217842           10  54.0     usa  \n",
              "...             ...   ...     ...  \n",
              "217932            7  54.0     usa  \n",
              "217509            7  54.0     usa  \n",
              "217933            7  54.0     usa  \n",
              "218099            6  54.0     usa  \n",
              "218007            6  54.0     usa  \n",
              "\n",
              "[390 rows x 10 columns]"
            ]
          },
          "execution_count": 136,
          "metadata": {},
          "output_type": "execute_result"
        }
      ],
      "source": [
        "result=final_data[final_data['User-ID']==31826].sort_values('Book-Rating',ascending=False)\n",
        "result[result['Book-Rating']>5]"
      ]
    },
    {
      "cell_type": "markdown",
      "metadata": {
        "id": "0-55hfDtKwfP"
      },
      "source": [
        "# Author based model"
      ]
    },
    {
      "cell_type": "code",
      "execution_count": null,
      "metadata": {
        "id": "UYs7dlu_KwfP"
      },
      "outputs": [],
      "source": [
        "rating=pd.read_csv('Ratings.csv')\n",
        "#Merging the data\n",
        "df_author=user.merge(rating,on='User-ID')\n",
        "df_author=df_author.merge(book,on='ISBN')\n",
        "df_author['Average_rating']=df_author.groupby('Book-Title')['Book-Rating'].transform('mean')\n",
        "df_author['Number_of_rating']=df_author.groupby('Book-Title')['Book-Rating'].transform('count')\n",
        "#Minimum number of vote\n",
        "v=df_author['Number_of_rating']\n",
        "R=df_author['Average_rating']\n",
        "c=df_author['Average_rating'].mean()\n",
        "m=200    #Set min number of votes\n",
        "df_author['weighted_average']=((R*v)+(c*m))/(v+m)\n",
        "df_author.drop(['Age','Location','Image-URL-S','Image-URL-M'],axis=1,inplace=True)\n",
        "df_author.drop_duplicates('Book-Title',inplace=True)\n",
        "df_author=df_author.sort_values('weighted_average',ascending=False)\n",
        "\n",
        "\n",
        "\n",
        "def author_based_recommender11(author_name):\n",
        "    \n",
        "    selected_df=df_author[df_author['Book-Author']==author_name]\n",
        "    selected_df=selected_df.drop_duplicates('Book-Title')\n",
        "    book_list=selected_df['Book-Title'].values\n",
        "    book_list=list(book_list)\n",
        "    return book_list"
      ]
    },
    {
      "cell_type": "code",
      "execution_count": null,
      "metadata": {
        "id": "D0kk_JcdKwfQ",
        "outputId": "0f6881d2-38d7-4927-d1b5-bacaee26c258"
      },
      "outputs": [
        {
          "data": {
            "text/plain": [
              "['To Kill a Mockingbird',\n",
              " 'To Kill a Mockingbird : The 40th Anniversary Edition of the Pulitzer Prize-Winning Novel',\n",
              " 'Wer die Nachtigall stÃ?Â¶rt.',\n",
              " 'TO KILL A MOCKINGBIRD - HHP EDT',\n",
              " 'Matar Un Ruisenor',\n",
              " 'Matar UN Ruisenor',\n",
              " 'New Windmills: To Kill a Mockingbird (New Windmills)',\n",
              " \"To kill a mockingbird (The World's best reading)\"]"
            ]
          },
          "execution_count": 163,
          "metadata": {},
          "output_type": "execute_result"
        }
      ],
      "source": [
        "author_based_recommender11('Harper Lee')"
      ]
    }
  ],
  "metadata": {
    "colab": {
      "provenance": [],
      "collapsed_sections": [
        "YO1DZp7g1JSR",
        "G8rB10TMdbQx",
        "bGDLfEusdbQx",
        "oaTlyS2CdbQ0",
        "VqyE_JVjKwfO",
        "0-55hfDtKwfP"
      ]
    },
    "kernelspec": {
      "display_name": "Python 3 (ipykernel)",
      "language": "python",
      "name": "python3"
    },
    "language_info": {
      "codemirror_mode": {
        "name": "ipython",
        "version": 3
      },
      "file_extension": ".py",
      "mimetype": "text/x-python",
      "name": "python",
      "nbconvert_exporter": "python",
      "pygments_lexer": "ipython3",
      "version": "3.9.12"
    }
  },
  "nbformat": 4,
  "nbformat_minor": 0
}